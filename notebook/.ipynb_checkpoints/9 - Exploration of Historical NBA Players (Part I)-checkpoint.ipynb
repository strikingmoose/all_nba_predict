{
 "cells": [
  {
   "cell_type": "markdown",
   "metadata": {},
   "source": [
    "# 9 - Exploration of Historical NBA Players (Part I)\n",
    "Alright. So we've looked at some of the teams. I have a sense of what a \"good team\" looks like, and what a \"bad team\" looks like. Although there is a lot of ground to cover on the intangibles of basketball and watching tape, my initial approach to this was a numbers approach and I will stick to my guns no matter how stupid or misleading it is... ha... ha............. ha.\n",
    "![](http://www.reactiongifs.com/r/lu.gif)\n",
    "\n",
    "I mean...\n",
    "![](http://i.makeagif.com/media/9-28-2015/H8PLvc.gif)"
   ]
  },
  {
   "cell_type": "markdown",
   "metadata": {},
   "source": [
    "## Pulling Data\n",
    "To collect the data, I will have to scrape basketball-reference again. They have some pretty cool data:\n",
    "- For each year, for each player:\n",
    "    - Per game stats - [http://www.basketball-reference.com/leagues/NBA_2017_per_game.html](http://www.basketball-reference.com/leagues/NBA_2017_per_game.html)\n",
    "    - Per 36 min stats - [http://www.basketball-reference.com/leagues/NBA_2017_per_minute.html](http://www.basketball-reference.com/leagues/NBA_2017_per_minute.html)\n",
    "    - Per 100 poss stats - [http://www.basketball-reference.com/leagues/NBA_2017_per_poss.html](http://www.basketball-reference.com/leagues/NBA_2017_per_poss.html)\n",
    "    - Advanced stats - [http://www.basketball-reference.com/leagues/NBA_2017_advanced.html](http://www.basketball-reference.com/leagues/NBA_2017_advanced.html)\n",
    "    \n",
    "When scraping the per-team stats, bball-ref had each team on a separate page with all the seasons listed.\n",
    "\n",
    "The per-player stats have each season on a separate page, with all the players listed.\n",
    "\n",
    "Similarly to the per-team stats, I'll just have to do a few loops:\n",
    "- Loop once for every season (let's stick with our previously determined filter of excluding everything before the 79-80 season because of incomplete stat tracking, and the 98-99 season specifically because of a shortened lock-out season).\n",
    "    - Within each season, loop through the different pages of types of stats and pull\n",
    "    \n",
    "Let's start coding?\n",
    "![](https://media.giphy.com/media/xTiTnrJ1horNom6RKo/giphy.gif)"
   ]
  },
  {
   "cell_type": "code",
   "execution_count": 1,
   "metadata": {
    "collapsed": true
   },
   "outputs": [],
   "source": [
    "# Load libraries & initial config\n",
    "%matplotlib nbagg\n",
    "import pandas as pd\n",
    "import numpy as np\n",
    "import matplotlib.pyplot as plt\n",
    "import boto3\n",
    "from StringIO import StringIO\n",
    "import warnings\n",
    "warnings.filterwarnings('ignore')"
   ]
  },
  {
   "cell_type": "code",
   "execution_count": 2,
   "metadata": {
    "collapsed": false
   },
   "outputs": [
    {
     "name": "stdout",
     "output_type": "stream",
     "text": [
      "[1980, 1981, 1982, 1983, 1984, 1985, 1986, 1987, 1988, 1989, 1990, 1991, 1992, 1993, 1994, 1995, 1996, 1997, 1998, 2000, 2001, 2002, 2003, 2004, 2005, 2006, 2007, 2008, 2009, 2010, 2011, 2012, 2013, 2014, 2015, 2016, 2017]\n"
     ]
    }
   ],
   "source": [
    "import datetime\n",
    "\n",
    "# Create a dict of the pages I'm out to scrape\n",
    "playerStatsBaseUrl = 'http://www.basketball-reference.com/leagues/NBA_'\n",
    "playerStatsUrlSuffix = {\n",
    "    'perGameStats': '_per_game.html',\n",
    "    'per36Stats': '_per_minute.html',\n",
    "    'per100Stats': '_per_poss.html',\n",
    "    'advancedStats': '_advanced.html'\n",
    "}\n",
    "\n",
    "# Create a list of years to scrape through, to the current year\n",
    "#   Unfortunately, I've been using the start year of a season (e.g. for the 98-99 season, I've been calling that season \"1998\")\n",
    "#   basketball-reference uses the latter year as the identifier... I'm going to stick with my own convention, but I will have to\n",
    "#      use their convention to scrape the pages for now\n",
    "currentYear = datetime.datetime.now().year\n",
    "years = range(1980, currentYear + 1)    # Remember that this is the 1979-1980 season to 2016-2017\n",
    "years.remove(1999)    # Remove the 98-99 lockout season\n",
    "\n",
    "print years"
   ]
  },
  {
   "cell_type": "code",
   "execution_count": 3,
   "metadata": {
    "collapsed": false,
    "scrolled": false
   },
   "outputs": [
    {
     "name": "stdout",
     "output_type": "stream",
     "text": [
      "Finished scraping 1980\n",
      "Finished scraping 1981\n",
      "Finished scraping 1982\n",
      "Finished scraping 1983\n",
      "Finished scraping 1984\n",
      "Finished scraping 1985\n",
      "Finished scraping 1986\n",
      "Finished scraping 1987\n",
      "Finished scraping 1988\n",
      "Finished scraping 1989\n",
      "Finished scraping 1990\n",
      "Finished scraping 1991\n",
      "Finished scraping 1992\n",
      "Finished scraping 1993\n",
      "Finished scraping 1994\n",
      "Finished scraping 1995\n",
      "Finished scraping 1996\n",
      "Finished scraping 1997\n",
      "Finished scraping 1998\n",
      "Finished scraping 2000\n",
      "Finished scraping 2001\n",
      "Finished scraping 2002\n",
      "Finished scraping 2003\n",
      "Finished scraping 2004\n",
      "Finished scraping 2005\n",
      "Finished scraping 2006\n",
      "Finished scraping 2007\n",
      "Finished scraping 2008\n",
      "Finished scraping 2009\n",
      "Finished scraping 2010\n",
      "Finished scraping 2011\n",
      "Finished scraping 2012\n",
      "Finished scraping 2013\n",
      "Finished scraping 2014\n",
      "Finished scraping 2015\n",
      "Finished scraping 2016\n",
      "Finished scraping 2017\n"
     ]
    }
   ],
   "source": [
    "# Iterate through NBA seasons to get player stats\n",
    "#   1. For each season\n",
    "#       a. Get different types of stats\n",
    "#       b. Concatenate stats by rows (horizontally)\n",
    "#   2. Aggregate stats of all seasons into a single pandas dataframe (vertically)\n",
    "seasonAggDf = None\n",
    "\n",
    "for year in years:\n",
    "    seasonStatsAggDf = None\n",
    "\n",
    "#     print '\\nStarting to scan {}'.format(team)\n",
    "    for playStatName, playerStatUrl in playerStatsUrlSuffix.iteritems():\n",
    "        # Format URL to scan\n",
    "        urlToScan = '{}{}{}'.format(\n",
    "            playerStatsBaseUrl,\n",
    "            year,\n",
    "            playerStatUrl\n",
    "        )\n",
    "\n",
    "        # Pull data from HTML table\n",
    "        #   Notice here we do not make the first row the header because we need that row of data to compare\n",
    "        #   and drop duplicate headers in the middle of the table\n",
    "#         print 'Checking {}'.format(urlToScan)\n",
    "        playerStatsDf = pd.read_html(\n",
    "            io = urlToScan,\n",
    "            header = None,\n",
    "            attrs = {'class': 'stats_table'}\n",
    "        )[0]\n",
    "\n",
    "        # Fix some formatting issues (extra header rows in the middle of table) from bball ref\n",
    "        playerStatsDf = playerStatsDf[playerStatsDf['Player'] != 'Player']\n",
    "        playerStatsDf.reset_index(inplace = True)\n",
    "\n",
    "        # Fix some formatting issues (extra columns) from bball ref\n",
    "        if u' ' in playerStatsDf.columns:\n",
    "            playerStatsDf.drop(u' ', axis = 1, inplace = True)\n",
    "        if u' .1' in playerStatsDf.columns:\n",
    "            playerStatsDf.drop(u' .1', axis = 1, inplace = True)\n",
    "\n",
    "        # Since we are appending data from multiple tables, we append a prefix to each column table in order to\n",
    "        #   preserve which columns came frmo which tables\n",
    "        playerStatsDf.columns = ['{}_{}'.format(str(playStatName).encode('utf-8'), str(col).encode('utf-8')) for col in playerStatsDf.columns]\n",
    "\n",
    "        # Aggregate stats dataframes\n",
    "        if seasonStatsAggDf is None:\n",
    "            seasonStatsAggDf = playerStatsDf\n",
    "        else:\n",
    "            seasonStatsAggDf = pd.concat([seasonStatsAggDf, playerStatsDf], axis = 1)\n",
    "\n",
    "    # Aggregate stats dataframes\n",
    "    seasonStatsAggDf['season_start_year'] = year - 1\n",
    "    \n",
    "    if seasonAggDf is None:\n",
    "        seasonAggDf = seasonStatsAggDf\n",
    "    else:\n",
    "        seasonAggDf = pd.concat([seasonAggDf, seasonStatsAggDf], axis = 0)\n",
    "\n",
    "    print 'Finished scraping {}'.format(year)"
   ]
  },
  {
   "cell_type": "code",
   "execution_count": 4,
   "metadata": {
    "collapsed": false
   },
   "outputs": [
    {
     "name": "stdout",
     "output_type": "stream",
     "text": [
      "(18420, 123)\n"
     ]
    }
   ],
   "source": [
    "print seasonAggDf.shape"
   ]
  },
  {
   "cell_type": "code",
   "execution_count": 5,
   "metadata": {
    "collapsed": false,
    "scrolled": true
   },
   "outputs": [
    {
     "name": "stdout",
     "output_type": "stream",
     "text": [
      "perGameStats_index\n",
      "perGameStats_Rk\n",
      "perGameStats_Player\n",
      "perGameStats_Pos\n",
      "perGameStats_Age\n",
      "perGameStats_Tm\n",
      "perGameStats_G\n",
      "perGameStats_GS\n",
      "perGameStats_MP\n",
      "perGameStats_FG\n",
      "perGameStats_FGA\n",
      "perGameStats_FG%\n",
      "perGameStats_3P\n",
      "perGameStats_3PA\n",
      "perGameStats_3P%\n",
      "perGameStats_2P\n",
      "perGameStats_2PA\n",
      "perGameStats_2P%\n",
      "perGameStats_eFG%\n",
      "perGameStats_FT\n",
      "perGameStats_FTA\n",
      "perGameStats_FT%\n",
      "perGameStats_ORB\n",
      "perGameStats_DRB\n",
      "perGameStats_TRB\n",
      "perGameStats_AST\n",
      "perGameStats_STL\n",
      "perGameStats_BLK\n",
      "perGameStats_TOV\n",
      "perGameStats_PF\n",
      "perGameStats_PS/G\n",
      "per100Stats_index\n",
      "per100Stats_Rk\n",
      "per100Stats_Player\n",
      "per100Stats_Pos\n",
      "per100Stats_Age\n",
      "per100Stats_Tm\n",
      "per100Stats_G\n",
      "per100Stats_GS\n",
      "per100Stats_MP\n",
      "per100Stats_FG\n",
      "per100Stats_FGA\n",
      "per100Stats_FG%\n",
      "per100Stats_3P\n",
      "per100Stats_3PA\n",
      "per100Stats_3P%\n",
      "per100Stats_2P\n",
      "per100Stats_2PA\n",
      "per100Stats_2P%\n",
      "per100Stats_FT\n",
      "per100Stats_FTA\n",
      "per100Stats_FT%\n",
      "per100Stats_ORB\n",
      "per100Stats_DRB\n",
      "per100Stats_TRB\n",
      "per100Stats_AST\n",
      "per100Stats_STL\n",
      "per100Stats_BLK\n",
      "per100Stats_TOV\n",
      "per100Stats_PF\n",
      "per100Stats_PTS\n",
      "per100Stats_Unnamed: 29\n",
      "per100Stats_ORtg\n",
      "per100Stats_DRtg\n",
      "per36Stats_index\n",
      "per36Stats_Rk\n",
      "per36Stats_Player\n",
      "per36Stats_Pos\n",
      "per36Stats_Age\n",
      "per36Stats_Tm\n",
      "per36Stats_G\n",
      "per36Stats_GS\n",
      "per36Stats_MP\n",
      "per36Stats_FG\n",
      "per36Stats_FGA\n",
      "per36Stats_FG%\n",
      "per36Stats_3P\n",
      "per36Stats_3PA\n",
      "per36Stats_3P%\n",
      "per36Stats_2P\n",
      "per36Stats_2PA\n",
      "per36Stats_2P%\n",
      "per36Stats_FT\n",
      "per36Stats_FTA\n",
      "per36Stats_FT%\n",
      "per36Stats_ORB\n",
      "per36Stats_DRB\n",
      "per36Stats_TRB\n",
      "per36Stats_AST\n",
      "per36Stats_STL\n",
      "per36Stats_BLK\n",
      "per36Stats_TOV\n",
      "per36Stats_PF\n",
      "per36Stats_PTS\n",
      "advancedStats_index\n",
      "advancedStats_Rk\n",
      "advancedStats_Player\n",
      "advancedStats_Pos\n",
      "advancedStats_Age\n",
      "advancedStats_Tm\n",
      "advancedStats_G\n",
      "advancedStats_MP\n",
      "advancedStats_PER\n",
      "advancedStats_TS%\n",
      "advancedStats_3PAr\n",
      "advancedStats_FTr\n",
      "advancedStats_ORB%\n",
      "advancedStats_DRB%\n",
      "advancedStats_TRB%\n",
      "advancedStats_AST%\n",
      "advancedStats_STL%\n",
      "advancedStats_BLK%\n",
      "advancedStats_TOV%\n",
      "advancedStats_USG%\n",
      "advancedStats_OWS\n",
      "advancedStats_DWS\n",
      "advancedStats_WS\n",
      "advancedStats_WS/48\n",
      "advancedStats_OBPM\n",
      "advancedStats_DBPM\n",
      "advancedStats_BPM\n",
      "advancedStats_VORP\n",
      "season_start_year\n"
     ]
    }
   ],
   "source": [
    "for column in  seasonAggDf.columns:\n",
    "    print column"
   ]
  },
  {
   "cell_type": "code",
   "execution_count": 6,
   "metadata": {
    "collapsed": false
   },
   "outputs": [
    {
     "name": "stdout",
     "output_type": "stream",
     "text": [
      "   perGameStats_index perGameStats_Rk   perGameStats_Player perGameStats_Pos  \\\n",
      "0                   0               1  Kareem Abdul-Jabbar*                C   \n",
      "1                   1               2         Tom Abernethy               PF   \n",
      "2                   2               3           Alvan Adams                C   \n",
      "3                   3               4       Tiny Archibald*               PG   \n",
      "4                   4               5         Dennis Awtrey                C   \n",
      "\n",
      "  perGameStats_Age perGameStats_Tm perGameStats_G perGameStats_GS  \\\n",
      "0               32             LAL             82             NaN   \n",
      "1               25             GSW             67             NaN   \n",
      "2               25             PHO             75             NaN   \n",
      "3               31             BOS             80              80   \n",
      "4               31             CHI             26             NaN   \n",
      "\n",
      "  perGameStats_MP perGameStats_FG        ...        advancedStats_USG%  \\\n",
      "0            38.3            10.2        ...                      24.1   \n",
      "1            18.2             2.3        ...                      13.3   \n",
      "2            28.9             6.2        ...                      21.9   \n",
      "3            35.8             4.8        ...                      17.0   \n",
      "4            21.5             1.0        ...                       7.9   \n",
      "\n",
      "  advancedStats_OWS advancedStats_DWS advancedStats_WS advancedStats_WS/48  \\\n",
      "0               9.5               5.3             14.8                .227   \n",
      "1               1.2               0.8              2.0                .080   \n",
      "2               3.1               3.9              7.0                .155   \n",
      "3               5.9               2.9              8.9                .148   \n",
      "4               0.1               0.5              0.6                .053   \n",
      "\n",
      "  advancedStats_OBPM advancedStats_DBPM advancedStats_BPM advancedStats_VORP  \\\n",
      "0                4.0                2.7               6.7                6.8   \n",
      "1               -1.5               -0.1              -1.6                0.1   \n",
      "2                1.6                2.8               4.4                3.5   \n",
      "3                1.1               -1.1               0.0                1.5   \n",
      "4               -2.9                1.5              -1.4                0.1   \n",
      "\n",
      "  season_start_year  \n",
      "0              1979  \n",
      "1              1979  \n",
      "2              1979  \n",
      "3              1979  \n",
      "4              1979  \n",
      "\n",
      "[5 rows x 123 columns]\n"
     ]
    }
   ],
   "source": [
    "print seasonAggDf.head()"
   ]
  },
  {
   "cell_type": "code",
   "execution_count": 11,
   "metadata": {
    "collapsed": false
   },
   "outputs": [
    {
     "ename": "KeyError",
     "evalue": "\"['per100Stats_3PPerc' 'per100Stats_2PPerc' 'per100Stats_FTPerc'\\n 'advancedStats_TSPerc' 'advancedStats_ORBPerc' 'advancedStats_DRBPerc'\\n 'advancedStats_TRBPerc' 'advancedStats_ASTPerc' 'advancedStats_STLPerc'\\n 'advancedStats_BLKPerc' 'advancedStats_TOVPerc' 'advancedStats_USGPerc'\\n 'advancedStats_WS48'] not in index\"",
     "output_type": "error",
     "traceback": [
      "\u001b[1;31m---------------------------------------------------------------------------\u001b[0m",
      "\u001b[1;31mKeyError\u001b[0m                                  Traceback (most recent call last)",
      "\u001b[1;32m<ipython-input-11-7dc461332061>\u001b[0m in \u001b[0;36m<module>\u001b[1;34m()\u001b[0m\n\u001b[0;32m     51\u001b[0m     \u001b[1;34m'advancedStats_DBPM'\u001b[0m\u001b[1;33m,\u001b[0m\u001b[1;33m\u001b[0m\u001b[0m\n\u001b[0;32m     52\u001b[0m     \u001b[1;34m'advancedStats_BPM'\u001b[0m\u001b[1;33m,\u001b[0m\u001b[1;33m\u001b[0m\u001b[0m\n\u001b[1;32m---> 53\u001b[1;33m     \u001b[1;34m'advancedStats_VORP'\u001b[0m\u001b[1;33m\u001b[0m\u001b[0m\n\u001b[0m\u001b[0;32m     54\u001b[0m ]]\n\u001b[0;32m     55\u001b[0m \u001b[1;33m\u001b[0m\u001b[0m\n",
      "\u001b[1;32mC:\\Users\\chixwang\\AppData\\Local\\Continuum\\Anaconda2\\lib\\site-packages\\pandas\\core\\frame.pyc\u001b[0m in \u001b[0;36m__getitem__\u001b[1;34m(self, key)\u001b[0m\n\u001b[0;32m   1989\u001b[0m         \u001b[1;32mif\u001b[0m \u001b[0misinstance\u001b[0m\u001b[1;33m(\u001b[0m\u001b[0mkey\u001b[0m\u001b[1;33m,\u001b[0m \u001b[1;33m(\u001b[0m\u001b[0mSeries\u001b[0m\u001b[1;33m,\u001b[0m \u001b[0mnp\u001b[0m\u001b[1;33m.\u001b[0m\u001b[0mndarray\u001b[0m\u001b[1;33m,\u001b[0m \u001b[0mIndex\u001b[0m\u001b[1;33m,\u001b[0m \u001b[0mlist\u001b[0m\u001b[1;33m)\u001b[0m\u001b[1;33m)\u001b[0m\u001b[1;33m:\u001b[0m\u001b[1;33m\u001b[0m\u001b[0m\n\u001b[0;32m   1990\u001b[0m             \u001b[1;31m# either boolean or fancy integer index\u001b[0m\u001b[1;33m\u001b[0m\u001b[1;33m\u001b[0m\u001b[0m\n\u001b[1;32m-> 1991\u001b[1;33m             \u001b[1;32mreturn\u001b[0m \u001b[0mself\u001b[0m\u001b[1;33m.\u001b[0m\u001b[0m_getitem_array\u001b[0m\u001b[1;33m(\u001b[0m\u001b[0mkey\u001b[0m\u001b[1;33m)\u001b[0m\u001b[1;33m\u001b[0m\u001b[0m\n\u001b[0m\u001b[0;32m   1992\u001b[0m         \u001b[1;32melif\u001b[0m \u001b[0misinstance\u001b[0m\u001b[1;33m(\u001b[0m\u001b[0mkey\u001b[0m\u001b[1;33m,\u001b[0m \u001b[0mDataFrame\u001b[0m\u001b[1;33m)\u001b[0m\u001b[1;33m:\u001b[0m\u001b[1;33m\u001b[0m\u001b[0m\n\u001b[0;32m   1993\u001b[0m             \u001b[1;32mreturn\u001b[0m \u001b[0mself\u001b[0m\u001b[1;33m.\u001b[0m\u001b[0m_getitem_frame\u001b[0m\u001b[1;33m(\u001b[0m\u001b[0mkey\u001b[0m\u001b[1;33m)\u001b[0m\u001b[1;33m\u001b[0m\u001b[0m\n",
      "\u001b[1;32mC:\\Users\\chixwang\\AppData\\Local\\Continuum\\Anaconda2\\lib\\site-packages\\pandas\\core\\frame.pyc\u001b[0m in \u001b[0;36m_getitem_array\u001b[1;34m(self, key)\u001b[0m\n\u001b[0;32m   2033\u001b[0m             \u001b[1;32mreturn\u001b[0m \u001b[0mself\u001b[0m\u001b[1;33m.\u001b[0m\u001b[0mtake\u001b[0m\u001b[1;33m(\u001b[0m\u001b[0mindexer\u001b[0m\u001b[1;33m,\u001b[0m \u001b[0maxis\u001b[0m\u001b[1;33m=\u001b[0m\u001b[1;36m0\u001b[0m\u001b[1;33m,\u001b[0m \u001b[0mconvert\u001b[0m\u001b[1;33m=\u001b[0m\u001b[0mFalse\u001b[0m\u001b[1;33m)\u001b[0m\u001b[1;33m\u001b[0m\u001b[0m\n\u001b[0;32m   2034\u001b[0m         \u001b[1;32melse\u001b[0m\u001b[1;33m:\u001b[0m\u001b[1;33m\u001b[0m\u001b[0m\n\u001b[1;32m-> 2035\u001b[1;33m             \u001b[0mindexer\u001b[0m \u001b[1;33m=\u001b[0m \u001b[0mself\u001b[0m\u001b[1;33m.\u001b[0m\u001b[0mix\u001b[0m\u001b[1;33m.\u001b[0m\u001b[0m_convert_to_indexer\u001b[0m\u001b[1;33m(\u001b[0m\u001b[0mkey\u001b[0m\u001b[1;33m,\u001b[0m \u001b[0maxis\u001b[0m\u001b[1;33m=\u001b[0m\u001b[1;36m1\u001b[0m\u001b[1;33m)\u001b[0m\u001b[1;33m\u001b[0m\u001b[0m\n\u001b[0m\u001b[0;32m   2036\u001b[0m             \u001b[1;32mreturn\u001b[0m \u001b[0mself\u001b[0m\u001b[1;33m.\u001b[0m\u001b[0mtake\u001b[0m\u001b[1;33m(\u001b[0m\u001b[0mindexer\u001b[0m\u001b[1;33m,\u001b[0m \u001b[0maxis\u001b[0m\u001b[1;33m=\u001b[0m\u001b[1;36m1\u001b[0m\u001b[1;33m,\u001b[0m \u001b[0mconvert\u001b[0m\u001b[1;33m=\u001b[0m\u001b[0mTrue\u001b[0m\u001b[1;33m)\u001b[0m\u001b[1;33m\u001b[0m\u001b[0m\n\u001b[0;32m   2037\u001b[0m \u001b[1;33m\u001b[0m\u001b[0m\n",
      "\u001b[1;32mC:\\Users\\chixwang\\AppData\\Local\\Continuum\\Anaconda2\\lib\\site-packages\\pandas\\core\\indexing.pyc\u001b[0m in \u001b[0;36m_convert_to_indexer\u001b[1;34m(self, obj, axis, is_setter)\u001b[0m\n\u001b[0;32m   1212\u001b[0m                 \u001b[0mmask\u001b[0m \u001b[1;33m=\u001b[0m \u001b[0mcheck\u001b[0m \u001b[1;33m==\u001b[0m \u001b[1;33m-\u001b[0m\u001b[1;36m1\u001b[0m\u001b[1;33m\u001b[0m\u001b[0m\n\u001b[0;32m   1213\u001b[0m                 \u001b[1;32mif\u001b[0m \u001b[0mmask\u001b[0m\u001b[1;33m.\u001b[0m\u001b[0many\u001b[0m\u001b[1;33m(\u001b[0m\u001b[1;33m)\u001b[0m\u001b[1;33m:\u001b[0m\u001b[1;33m\u001b[0m\u001b[0m\n\u001b[1;32m-> 1214\u001b[1;33m                     \u001b[1;32mraise\u001b[0m \u001b[0mKeyError\u001b[0m\u001b[1;33m(\u001b[0m\u001b[1;34m'%s not in index'\u001b[0m \u001b[1;33m%\u001b[0m \u001b[0mobjarr\u001b[0m\u001b[1;33m[\u001b[0m\u001b[0mmask\u001b[0m\u001b[1;33m]\u001b[0m\u001b[1;33m)\u001b[0m\u001b[1;33m\u001b[0m\u001b[0m\n\u001b[0m\u001b[0;32m   1215\u001b[0m \u001b[1;33m\u001b[0m\u001b[0m\n\u001b[0;32m   1216\u001b[0m                 \u001b[1;32mreturn\u001b[0m \u001b[0m_values_from_object\u001b[0m\u001b[1;33m(\u001b[0m\u001b[0mindexer\u001b[0m\u001b[1;33m)\u001b[0m\u001b[1;33m\u001b[0m\u001b[0m\n",
      "\u001b[1;31mKeyError\u001b[0m: \"['per100Stats_3PPerc' 'per100Stats_2PPerc' 'per100Stats_FTPerc'\\n 'advancedStats_TSPerc' 'advancedStats_ORBPerc' 'advancedStats_DRBPerc'\\n 'advancedStats_TRBPerc' 'advancedStats_ASTPerc' 'advancedStats_STLPerc'\\n 'advancedStats_BLKPerc' 'advancedStats_TOVPerc' 'advancedStats_USGPerc'\\n 'advancedStats_WS48'] not in index\""
     ]
    }
   ],
   "source": [
    "# First, I'll just grab some columns that look useful to me\n",
    "playerAggDfToAnalyze = seasonAggDf[[\n",
    "    'season_start_year',\n",
    "    'perGameStats_Player',\n",
    "    'perGameStats_Pos',\n",
    "    'perGameStats_Age',\n",
    "    'perGameStats_Tm',\n",
    "    'perGameStats_G',\n",
    "    'perGameStats_GS',\n",
    "    'perGameStats_MP',\n",
    "    'per100Stats_FG',\n",
    "    'per100Stats_FGA',\n",
    "    'per100Stats_FG%',\n",
    "    'per100Stats_3P',\n",
    "    'per100Stats_3PA',\n",
    "    'per100Stats_3P%',\n",
    "    'per100Stats_2P',\n",
    "    'per100Stats_2PA',\n",
    "    'per100Stats_2P%',\n",
    "    'per100Stats_FT',\n",
    "    'per100Stats_FTA',\n",
    "    'per100Stats_FT%',\n",
    "    'per100Stats_ORB',\n",
    "    'per100Stats_DRB',\n",
    "    'per100Stats_TRB',\n",
    "    'per100Stats_AST',\n",
    "    'per100Stats_STL',\n",
    "    'per100Stats_BLK',\n",
    "    'per100Stats_TOV',\n",
    "    'per100Stats_PF',\n",
    "    'per100Stats_PTS',\n",
    "    'per100Stats_ORtg',\n",
    "    'per100Stats_DRtg',\n",
    "    'advancedStats_PER',\n",
    "    'advancedStats_TS%',\n",
    "    'advancedStats_3PAr',\n",
    "    'advancedStats_FTr',\n",
    "    'advancedStats_ORB%',\n",
    "    'advancedStats_DRB%',\n",
    "    'advancedStats_TRB%',\n",
    "    'advancedStats_AST%',\n",
    "    'advancedStats_STL%',\n",
    "    'advancedStats_BLK%',\n",
    "    'advancedStats_TOV%',\n",
    "    'advancedStats_USG%',\n",
    "    'advancedStats_OWS',\n",
    "    'advancedStats_DWS',\n",
    "    'advancedStats_WS',\n",
    "    'advancedStats_WS48',\n",
    "    'advancedStats_OBPM',\n",
    "    'advancedStats_DBPM',\n",
    "    'advancedStats_BPM',\n",
    "    'advancedStats_VORP'\n",
    "]]\n",
    "\n",
    "# Remove spcial characters out of header\n",
    "playerAggDfToAnalyze.columns = pd.Series(playerAggDfToAnalyze.columns).str.replace('%', 'Perc').str.replace('/', '')\n",
    "\n",
    "# Convert numeric arguments to numeric\n",
    "playerAggDfToAnalyze = playerAggDfToAnalyze.apply(lambda x: pd.to_numeric(x, 'ignore'))\n",
    "\n",
    "print playerAggDfToAnalyze.dtypes"
   ]
  },
  {
   "cell_type": "code",
   "execution_count": null,
   "metadata": {
    "collapsed": false
   },
   "outputs": [],
   "source": [
    "# Save data to S3 so we can use it for future analysis\n",
    "csv_buffer = StringIO()\n",
    "playerAggDfToAnalyze.to_csv(csv_buffer)\n",
    "s3_resource = boto3.resource('s3')\n",
    "s3_resource.Object('2017edmfasatb', 'fas_boto/data/playerAggDfToAnalyze20170606.csv').put(Body=csv_buffer.getvalue())"
   ]
  },
  {
   "cell_type": "markdown",
   "metadata": {},
   "source": [
    "So we should have the data now in a format where each row represents one player, on one team, per one season. Theoretically if we only look at Kobe Bryan, we should see 18 rows or however many he played."
   ]
  },
  {
   "cell_type": "code",
   "execution_count": null,
   "metadata": {
    "collapsed": false,
    "scrolled": true
   },
   "outputs": [],
   "source": [
    "print playerAggDfToAnalyze[playerAggDfToAnalyze['perGameStats_Player'] == 'Kobe Bryant'].shape[0]"
   ]
  },
  {
   "cell_type": "markdown",
   "metadata": {},
   "source": [
    "Damn... I'm off by one lol. I guess I'm not a true baskeball fan. Let's just do a quick plot of Kobe's points per 100 possessions."
   ]
  },
  {
   "cell_type": "code",
   "execution_count": null,
   "metadata": {
    "collapsed": false
   },
   "outputs": [],
   "source": [
    "playerAggDfToAnalyze[playerAggDfToAnalyze['perGameStats_Player'] == 'Kobe Bryant'].plot(kind = 'bar', x = 'season_start_year', y = 'per100Stats_PTS', title = 'Kobe Bryant Points / 100 Possessions')"
   ]
  },
  {
   "cell_type": "markdown",
   "metadata": {},
   "source": [
    "It's kinda interesting. Until I started doing some of this analysis, I honestly never really thought in pace. It makes sense though. A guy who played 4 minutes a game vs 40 minutes a game. They obviously won't have the same output. Kobe's going to score 30 a game while... I dunno... off the top of my head let's say Bruno Caboclo won't usually get more than like 4 if he gets any. This could also be misleading becaues a guy could come on for like 5 minutes and score 5 points. His per 100 possession or per 36 minutes stats would be off the charts. Small sample sizes must beware in these cases.\n",
    "\n",
    "All this to say that I'm not sure what Kobe's per 100 possessions points should look like... I mean if 100 points per possession is about a game, there's no way Kobe's averaging 45 points on any given season. This would make sense though I guess because Kobe didn't play 48 minutes a game. And remember, the average minutes per game is actually over 48 due to the overtime.\n",
    "\n",
    "What does your average points per 100 look like?"
   ]
  },
  {
   "cell_type": "code",
   "execution_count": null,
   "metadata": {
    "collapsed": false
   },
   "outputs": [],
   "source": [
    "playerAggDfToAnalyze[['per100Stats_PTS']].plot(kind = 'hist', bins = 100, title = 'Historical Points Per 100 Possesions')"
   ]
  },
  {
   "cell_type": "markdown",
   "metadata": {},
   "source": [
    "Your average player scores about 17 points per 100 possessions. 40 is high. 45 is basically unheard of. I'm going to quickly check some stats about points per 100 possessions. It does look like there's data that goes up to 160 and and also a bunch at 0. I'll just cap it as to not skew some of the stats."
   ]
  },
  {
   "cell_type": "code",
   "execution_count": null,
   "metadata": {
    "collapsed": false
   },
   "outputs": [],
   "source": [
    "playerAggDfToAnalyze1To60Pts = playerAggDfToAnalyze[(playerAggDfToAnalyze['per100Stats_PTS'] > 1) & (playerAggDfToAnalyze['per100Stats_PTS'] < 60)]\n",
    "playerAggDfToAnalyze1To60Pts[['per100Stats_PTS']].plot(kind = 'hist', bins = 60, title = 'Historical Points Per 100 Possesions')"
   ]
  },
  {
   "cell_type": "code",
   "execution_count": null,
   "metadata": {
    "collapsed": false
   },
   "outputs": [],
   "source": [
    "playerAggDfToAnalyze1To60Pts[['per100Stats_PTS']].describe()"
   ]
  },
  {
   "cell_type": "markdown",
   "metadata": {},
   "source": [
    "I was wrong, the average is about 19 points (maybe the higher values were skewing the stats before). 19 points with a ~6.5 point deviation. That means 95% of the data exists within 19 +/- 13 points. 6 to 32 points. Kobe averaged... **WHAT** for a season? 45? Jesus christ... That's 26 points, or basically 4 standard deviations above the mean, good for 99.99th percentile throughout history. GOOD JOB KOBE. That was the season I assume where he had like 7 straight 40 games in a row. Beasting.\n",
    "\n",
    "I know DeMar's doing good right now, just for calibration, what is his points per 100?"
   ]
  },
  {
   "cell_type": "code",
   "execution_count": null,
   "metadata": {
    "collapsed": false,
    "scrolled": false
   },
   "outputs": [],
   "source": [
    "playerAggDfToAnalyze[playerAggDfToAnalyze['perGameStats_Player'] == 'DeMar DeRozan'].plot(kind = 'bar', x = 'season_start_year', y = 'per100Stats_PTS', title = 'Demar Derozan Points / 100 Possessions')"
   ]
  },
  {
   "cell_type": "markdown",
   "metadata": {},
   "source": [
    "He's getting up there man... almost 40. Essentially 3 standard deviations above the mean. Still insanely efficient scoring."
   ]
  },
  {
   "cell_type": "markdown",
   "metadata": {},
   "source": [
    "Okay, honestly, I just wanted to check a few numbers just to see the data wasn't mangled. It looks good (for now). I can already see a few situations where I might have to clean the data a bit further, e.g. players who were traded mid-season show up twice within a season because each row is one player per **one team** per one season. But this honestyl depends on the situation in which I'm looking at the data in, so I will leave this for now and save this dataset to S3 to access later.\n",
    "\n",
    "In the next post, I'll be trying to explore this data a bit further from a birds eye view to gain some insights."
   ]
  },
  {
   "cell_type": "code",
   "execution_count": null,
   "metadata": {
    "collapsed": true
   },
   "outputs": [],
   "source": [
    "from pandas.tools.plotting import scatter_matrix\n",
    "\n",
    "scatter_matrix(playerAggDfToAnalyze[[\n",
    "    'per100Stats_PTS',\n",
    "    'perGameStats_Age'\n",
    "]], alpha=0.2, figsize=(6, 6), diagonal='kde')"
   ]
  }
 ],
 "metadata": {
  "anaconda-cloud": {},
  "kernelspec": {
   "display_name": "Python [Root]",
   "language": "python",
   "name": "Python [Root]"
  },
  "language_info": {
   "codemirror_mode": {
    "name": "ipython",
    "version": 2
   },
   "file_extension": ".py",
   "mimetype": "text/x-python",
   "name": "python",
   "nbconvert_exporter": "python",
   "pygments_lexer": "ipython2",
   "version": "2.7.11"
  }
 },
 "nbformat": 4,
 "nbformat_minor": 0
}
