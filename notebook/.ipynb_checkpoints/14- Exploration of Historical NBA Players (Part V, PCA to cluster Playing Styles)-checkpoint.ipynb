{
 "cells": [
  {
   "cell_type": "markdown",
   "metadata": {},
   "source": [
    "# 14- Exploration of Historical NBA Players (Part V, PCA to Cluster Playing Styles)\n",
    "\n",
    "In our last post, we harnessed the power of PCA even futher to look at different ways to break up the PCA bi-plot. With ggbiplot's \"ellipse\" argument, we were able to check out where different players lie on the plot. To review, my 3 main questions were:\n",
    "- How closely can I map different \"types\" of players to sections of the plot?\n",
    "- How can I account for players who exhibit qualities across multiple \"types\" of players?\n",
    "- What does that bottom-right hand side of the plot communicate exactly?\n",
    "\n",
    "Some of these questions may answer the others, but I'd say all 3 are worth consideration and I'd hope to answer by the end of this post."
   ]
  },
  {
   "cell_type": "markdown",
   "metadata": {},
   "source": [
    "## Q1 - \"Types of Players\" and \"Playing Styles\" Mapping on PCA Bi-plot\n",
    "In an idea world, I'd see distinct clusters... something like this\n",
    "\n",
    "<img src=\"http://2.bp.blogspot.com/-RxKqj-5NcAs/VMMSIs0Ww-I/AAAAAAAAAuo/xFPH1MDwnWU/s1600/biplot%2Bgroup.png\" width=\"400\"/>\n",
    "\n",
    "Then I can be like \"OH MY GOD IT ALL MAKES SENSE THERE ARE MY SCORERS AND THERE ARE MY BRUTE FORCE DEFENDERS AND THERE ARE MY LUNCH PAIL BIG MEN GRABBING ALL THE OFFENSIVE BOARDS\" and life would be just dandy. However, basketball is more complex than that and I guess humans have the ability to score AND rebound. Man who woulda thunk it. In fact, rebounding can even LEAD TO scoring! No way!! We kinda saw this with the placement of Shaq's data points on the last post right?\n",
    "\n",
    "As a big of a reminder, let's generte our general plot again based on our base metrics (not advanced metrics)."
   ]
  },
  {
   "cell_type": "code",
   "execution_count": 8,
   "metadata": {
    "collapsed": false
   },
   "outputs": [
    {
     "name": "stdout",
     "output_type": "stream",
     "text": [
      "The rpy2.ipython extension is already loaded. To reload it, use:\n",
      "  %reload_ext rpy2.ipython\n"
     ]
    }
   ],
   "source": [
    "%load_ext rpy2.ipython"
   ]
  },
  {
   "cell_type": "code",
   "execution_count": 9,
   "metadata": {
    "collapsed": true
   },
   "outputs": [],
   "source": [
    "%%R\n",
    "# Load libraries & initial config\n",
    "library(ggplot2)\n",
    "library(gridExtra)\n",
    "library(scales)"
   ]
  },
  {
   "cell_type": "code",
   "execution_count": 10,
   "metadata": {
    "collapsed": true
   },
   "outputs": [],
   "source": [
    "# Load libraries & initial config\n",
    "%matplotlib nbagg\n",
    "import pandas as pd\n",
    "import numpy as np\n",
    "import matplotlib.pyplot as plt\n",
    "import boto3\n",
    "from StringIO import StringIO\n",
    "import warnings\n",
    "warnings.filterwarnings('ignore')"
   ]
  },
  {
   "cell_type": "code",
   "execution_count": 11,
   "metadata": {
    "collapsed": true
   },
   "outputs": [
    {
     "name": "stdout",
     "output_type": "stream",
     "text": [
      "season_start_year          int64\n",
      "perGameStats_Player       object\n",
      "perGameStats_Pos          object\n",
      "perGameStats_Age           int64\n",
      "perGameStats_Tm           object\n",
      "perGameStats_G             int64\n",
      "perGameStats_GS          float64\n",
      "perGameStats_MP          float64\n",
      "per100Stats_FG           float64\n",
      "per100Stats_FGA          float64\n",
      "per100Stats_FGPerc       float64\n",
      "per100Stats_3P           float64\n",
      "per100Stats_3PA          float64\n",
      "per100Stats_3PPerc       float64\n",
      "per100Stats_2P           float64\n",
      "per100Stats_2PA          float64\n",
      "per100Stats_2PPerc       float64\n",
      "per100Stats_FT           float64\n",
      "per100Stats_FTA          float64\n",
      "per100Stats_FTPerc       float64\n",
      "per100Stats_ORB          float64\n",
      "per100Stats_DRB          float64\n",
      "per100Stats_TRB          float64\n",
      "per100Stats_AST          float64\n",
      "per100Stats_STL          float64\n",
      "per100Stats_BLK          float64\n",
      "per100Stats_TOV          float64\n",
      "per100Stats_PF           float64\n",
      "per100Stats_PTS          float64\n",
      "per100Stats_ORtg         float64\n",
      "per100Stats_DRtg         float64\n",
      "advancedStats_PER        float64\n",
      "advancedStats_TSPerc     float64\n",
      "advancedStats_3PAr       float64\n",
      "advancedStats_FTr        float64\n",
      "advancedStats_ORBPerc    float64\n",
      "advancedStats_DRBPerc    float64\n",
      "advancedStats_TRBPerc    float64\n",
      "advancedStats_ASTPerc    float64\n",
      "advancedStats_STLPerc    float64\n",
      "advancedStats_BLKPerc    float64\n",
      "advancedStats_TOVPerc    float64\n",
      "advancedStats_USGPerc    float64\n",
      "advancedStats_OWS        float64\n",
      "advancedStats_DWS        float64\n",
      "advancedStats_WS         float64\n",
      "advancedStats_WS48       float64\n",
      "advancedStats_OBPM       float64\n",
      "advancedStats_DBPM       float64\n",
      "advancedStats_BPM        float64\n",
      "advancedStats_VORP       float64\n",
      "dtype: object\n"
     ]
    }
   ],
   "source": [
    "# Retrieve team stats from S3\n",
    "playerAggDfToAnalyze = pd.read_csv('https://s3.ca-central-1.amazonaws.com/2017edmfasatb/fas_boto/data/playerAggDfToAnalyze.csv', index_col = 0)\n",
    "\n",
    "pd.set_option('display.max_rows', len(playerAggDfToAnalyze.dtypes))\n",
    "print playerAggDfToAnalyze.dtypes\n",
    "pd.reset_option('display.max_rows')"
   ]
  },
  {
   "cell_type": "code",
   "execution_count": 12,
   "metadata": {
    "collapsed": true
   },
   "outputs": [],
   "source": [
    "# Filter to remove outliers, player must have played over 10 minutes and in over 20 games on the season\n",
    "playerAggDfToAnalyzeMin10Min20Games = playerAggDfToAnalyze[(playerAggDfToAnalyze['perGameStats_MP'] > 10) & (playerAggDfToAnalyze['perGameStats_G'] > 20)]"
   ]
  },
  {
   "cell_type": "code",
   "execution_count": 67,
   "metadata": {
    "collapsed": false
   },
   "outputs": [],
   "source": [
    "# Select subset of features\n",
    "playerAggDfToAnalyzeMin10Min20GamesPCAFeatures = playerAggDfToAnalyzeMin10Min20Games[[\n",
    "    'season_start_year',\n",
    "    'perGameStats_Player',\n",
    "    'per100Stats_FGA',\n",
    "    'per100Stats_3PA',\n",
    "    'per100Stats_2PA',\n",
    "    'per100Stats_2PPerc',\n",
    "    'per100Stats_FTA',\n",
    "    'per100Stats_FTPerc',\n",
    "    'per100Stats_ORB',\n",
    "    'per100Stats_DRB',\n",
    "    'per100Stats_AST',\n",
    "    'per100Stats_STL',\n",
    "    'per100Stats_BLK',\n",
    "    'per100Stats_TOV',\n",
    "    'per100Stats_PF',\n",
    "    'per100Stats_PTS'\n",
    "]].dropna()\n",
    "\n",
    "playerAggDfToAnalyzeMin10Min20GamesPCAFeaturesLabel = playerAggDfToAnalyzeMin10Min20GamesPCAFeatures['perGameStats_Player'].tolist()\n",
    "playerAggDfToAnalyzeMin10Min20GamesPCAFeaturesData = playerAggDfToAnalyzeMin10Min20GamesPCAFeatures.drop(['season_start_year', 'perGameStats_Player'], 1)"
   ]
  },
  {
   "cell_type": "code",
   "execution_count": 68,
   "metadata": {
    "collapsed": false
   },
   "outputs": [],
   "source": [
    "%%R -i playerAggDfToAnalyzeMin10Min20GamesPCAFeaturesData -w 800 -u px -o firstTwoComponents\n",
    "\n",
    "library(ggbiplot)\n",
    "\n",
    "# Fit PCA & output bi-plot\n",
    "pca = prcomp(playerAggDfToAnalyzeMin10Min20GamesPCAFeaturesData, center = T, scale = T)\n",
    "ggbiplot(pca, obs.scale = 1, var.scale = 1, circle = TRUE, ellipse = TRUE, alpha = 0.05)\n",
    "\n",
    "# Pass the first two PC's back to python so we can analyze later\n",
    "firstTwoComponents = pca$x[,c(1,2)]"
   ]
  },
  {
   "cell_type": "markdown",
   "metadata": {},
   "source": [
    "I think the best way to slice this up is to break up our plot into 9 distinct sections, 8 of them being more outliers based and 1 of them smack dab in the middle. This is what I mean:\n",
    "\n",
    "![](https://s3.ca-central-1.amazonaws.com/2017edmfasatb/fas_boto/images/pca_plot_basic_metric_cluster.png)"
   ]
  },
  {
   "cell_type": "markdown",
   "metadata": {},
   "source": [
    "I'm not necessarily trying to define clusters here, but I do want to just get a sense of what these players at the edge are like. They are the outliers of the outliers, they will in a sense define what that area of the plot looks like. They are the model players in that direction / axis of the plot. How many more ways can I say this?\n",
    "\n",
    "I'm literally just going to eyeball the boundaries and... yeah... please just accept that.\n",
    "\n",
    "![](https://i.makeagif.com/media/8-21-2015/FTCtuu.gif)"
   ]
  },
  {
   "cell_type": "code",
   "execution_count": 71,
   "metadata": {
    "collapsed": false
   },
   "outputs": [],
   "source": [
    "# Get the first two components from R and concatenate back to our original dataframe\n",
    "firstTwoComponentsDf = pd.DataFrame(firstTwoComponents, columns = ['PC1', 'PC2'])\n",
    "playerAggDfToAnalyzeMin10Min20GamesPCAWithResults = pd.concat(\n",
    "    [\n",
    "        playerAggDfToAnalyzeMin10Min20GamesPCAFeatures.reset_index(drop = True),\n",
    "        firstTwoComponentsDf.reset_index(drop = True)\n",
    "    ],\n",
    "    axis = 1\n",
    ")\n",
    "\n",
    "playerAggDfToAnalyzeMin10Min20GamesPCAWithResults['cluster_region'] = np.NaN"
   ]
  },
  {
   "cell_type": "code",
   "execution_count": 56,
   "metadata": {
    "collapsed": false
   },
   "outputs": [],
   "source": [
    "# Define my boundaries in a dict\n",
    "boundaries = {}\n",
    "\n",
    "boundaries[1] = {\n",
    "    'left' : -5,\n",
    "    'right' : -3,\n",
    "    'bottom' : 1.5,\n",
    "    'top' : 2.5\n",
    "}\n",
    "\n",
    "boundaries[2] = {\n",
    "    'left': -3.75,\n",
    "    'right': -1.25,\n",
    "    'bottom': 4,\n",
    "    'top': 5.5\n",
    "}\n",
    "\n",
    "boundaries[3] = {\n",
    "    'left': 0,\n",
    "    'right': 2.5,\n",
    "    'bottom': 4.5,\n",
    "    'top': 6\n",
    "}\n",
    "\n",
    "boundaries[4] = {\n",
    "    'left': -5,\n",
    "    'right': -2.5,\n",
    "    'bottom': -2,\n",
    "    'top': -1\n",
    "}\n",
    "\n",
    "boundaries[5] = {\n",
    "    'left': -1,\n",
    "    'right': 1,\n",
    "    'bottom': -1,\n",
    "    'top': 1\n",
    "}\n",
    "\n",
    "boundaries[6] = {\n",
    "    'left': 4,\n",
    "    'right': 6,\n",
    "    'bottom': 1,\n",
    "    'top': 3\n",
    "}\n",
    "\n",
    "boundaries[7] = {\n",
    "    'left': -1.25,\n",
    "    'right': 1.25,\n",
    "    'bottom': -6,\n",
    "    'top': -4\n",
    "}\n",
    "\n",
    "boundaries[8] = {\n",
    "    'left': 1.25,\n",
    "    'right': 3.75,\n",
    "    'bottom': -4,\n",
    "    'top': -3\n",
    "}\n",
    "\n",
    "boundaries[9] = {\n",
    "    'left': 5,\n",
    "    'right': 7.5,\n",
    "    'bottom': -3,\n",
    "    'top': -1\n",
    "}"
   ]
  },
  {
   "cell_type": "code",
   "execution_count": 95,
   "metadata": {
    "collapsed": false
   },
   "outputs": [],
   "source": [
    "# Assign region to each observation in the population dataframe using PC1 and PC2 components from PCA\n",
    "for region in range(1, 10):\n",
    "    playerAggDfToAnalyzeMin10Min20GamesPCAWithResults['cluster_region'] = np.where(\n",
    "        np.isnan(playerAggDfToAnalyzeMin10Min20GamesPCAWithResults['cluster_region']),\n",
    "        np.where(\n",
    "            ((playerAggDfToAnalyzeMin10Min20GamesPCAWithResults['PC1'] >= boundaries[region]['left']) & (playerAggDfToAnalyzeMin10Min20GamesPCAWithResults['PC1'] <= boundaries[region]['right']) & (playerAggDfToAnalyzeMin10Min20GamesPCAWithResults['PC2'] >= boundaries[region]['bottom']) & (playerAggDfToAnalyzeMin10Min20GamesPCAWithResults['PC2'] <= boundaries[region]['top'])),\n",
    "            region,\n",
    "            np.NaN\n",
    "        ),\n",
    "        playerAggDfToAnalyzeMin10Min20GamesPCAWithResults['cluster_region']\n",
    "    )"
   ]
  },
  {
   "cell_type": "code",
   "execution_count": 94,
   "metadata": {
    "collapsed": false
   },
   "outputs": [
    {
     "data": {
      "text/plain": [
       "cluster_region\n",
       "1.0     50\n",
       "2.0     26\n",
       "3.0     23\n",
       "4.0     65\n",
       "5.0    566\n",
       "6.0     27\n",
       "7.0     37\n",
       "8.0     33\n",
       "9.0     22\n",
       "Name: perGameStats_Player, dtype: int64"
      ]
     },
     "execution_count": 94,
     "metadata": {},
     "output_type": "execute_result"
    }
   ],
   "source": [
    "# Check out the number of unique players within each region\n",
    "playerAggDfToAnalyzeMin10Min20GamesPCAWithResults.groupby('cluster_region')['perGameStats_Player'].nunique()"
   ]
  },
  {
   "cell_type": "markdown",
   "metadata": {},
   "source": [
    "Perfect, in each cluster region, we only see a few players with the exception of region 5, which is the one right in the middle, where we see many more players in the same space because this is where many more players are concentrated."
   ]
  },
  {
   "cell_type": "code",
   "execution_count": 118,
   "metadata": {
    "collapsed": false
   },
   "outputs": [
    {
     "data": {
      "text/html": [
       "<div>\n",
       "<table border=\"1\" class=\"dataframe\">\n",
       "  <thead>\n",
       "    <tr>\n",
       "      <th></th>\n",
       "      <th>per100Stats_PTS</th>\n",
       "      <th>per100Stats_FGA</th>\n",
       "      <th>per100Stats_FTA</th>\n",
       "      <th>per100Stats_3PA</th>\n",
       "      <th>per100Stats_2PPerc</th>\n",
       "      <th>per100Stats_FTPerc</th>\n",
       "      <th>per100Stats_ORB</th>\n",
       "      <th>per100Stats_DRB</th>\n",
       "      <th>per100Stats_AST</th>\n",
       "      <th>per100Stats_STL</th>\n",
       "      <th>per100Stats_BLK</th>\n",
       "    </tr>\n",
       "    <tr>\n",
       "      <th></th>\n",
       "      <th>mean</th>\n",
       "      <th>mean</th>\n",
       "      <th>mean</th>\n",
       "      <th>mean</th>\n",
       "      <th>mean</th>\n",
       "      <th>mean</th>\n",
       "      <th>mean</th>\n",
       "      <th>mean</th>\n",
       "      <th>mean</th>\n",
       "      <th>mean</th>\n",
       "      <th>mean</th>\n",
       "    </tr>\n",
       "    <tr>\n",
       "      <th>cluster_region</th>\n",
       "      <th></th>\n",
       "      <th></th>\n",
       "      <th></th>\n",
       "      <th></th>\n",
       "      <th></th>\n",
       "      <th></th>\n",
       "      <th></th>\n",
       "      <th></th>\n",
       "      <th></th>\n",
       "      <th></th>\n",
       "      <th></th>\n",
       "    </tr>\n",
       "  </thead>\n",
       "  <tbody>\n",
       "    <tr>\n",
       "      <th>1.0</th>\n",
       "      <td>29.822772</td>\n",
       "      <td>23.692079</td>\n",
       "      <td>8.152475</td>\n",
       "      <td>5.053465</td>\n",
       "      <td>0.477149</td>\n",
       "      <td>0.832475</td>\n",
       "      <td>1.094059</td>\n",
       "      <td>4.127723</td>\n",
       "      <td>9.069307</td>\n",
       "      <td>2.017822</td>\n",
       "      <td>0.335644</td>\n",
       "    </tr>\n",
       "    <tr>\n",
       "      <th>2.0</th>\n",
       "      <td>36.525275</td>\n",
       "      <td>27.383516</td>\n",
       "      <td>11.101099</td>\n",
       "      <td>2.929670</td>\n",
       "      <td>0.505670</td>\n",
       "      <td>0.807407</td>\n",
       "      <td>2.383516</td>\n",
       "      <td>6.249451</td>\n",
       "      <td>5.649451</td>\n",
       "      <td>1.853846</td>\n",
       "      <td>0.841758</td>\n",
       "    </tr>\n",
       "    <tr>\n",
       "      <th>3.0</th>\n",
       "      <td>32.207463</td>\n",
       "      <td>23.353731</td>\n",
       "      <td>10.983582</td>\n",
       "      <td>0.205970</td>\n",
       "      <td>0.523000</td>\n",
       "      <td>0.726478</td>\n",
       "      <td>4.695522</td>\n",
       "      <td>11.050746</td>\n",
       "      <td>3.100000</td>\n",
       "      <td>1.414925</td>\n",
       "      <td>3.429851</td>\n",
       "    </tr>\n",
       "    <tr>\n",
       "      <th>4.0</th>\n",
       "      <td>20.178761</td>\n",
       "      <td>17.881416</td>\n",
       "      <td>3.753097</td>\n",
       "      <td>7.168142</td>\n",
       "      <td>0.440628</td>\n",
       "      <td>0.833628</td>\n",
       "      <td>0.806195</td>\n",
       "      <td>3.693805</td>\n",
       "      <td>9.647788</td>\n",
       "      <td>2.050442</td>\n",
       "      <td>0.202655</td>\n",
       "    </tr>\n",
       "    <tr>\n",
       "      <th>5.0</th>\n",
       "      <td>19.997287</td>\n",
       "      <td>17.156672</td>\n",
       "      <td>4.786510</td>\n",
       "      <td>2.653812</td>\n",
       "      <td>0.476179</td>\n",
       "      <td>0.749863</td>\n",
       "      <td>2.593622</td>\n",
       "      <td>5.957845</td>\n",
       "      <td>3.721334</td>\n",
       "      <td>1.684971</td>\n",
       "      <td>0.838930</td>\n",
       "    </tr>\n",
       "    <tr>\n",
       "      <th>6.0</th>\n",
       "      <td>18.157778</td>\n",
       "      <td>13.297778</td>\n",
       "      <td>6.891111</td>\n",
       "      <td>0.033333</td>\n",
       "      <td>0.550711</td>\n",
       "      <td>0.545578</td>\n",
       "      <td>6.224444</td>\n",
       "      <td>10.980000</td>\n",
       "      <td>1.340000</td>\n",
       "      <td>1.115556</td>\n",
       "      <td>4.102222</td>\n",
       "    </tr>\n",
       "    <tr>\n",
       "      <th>7.0</th>\n",
       "      <td>11.197959</td>\n",
       "      <td>10.679592</td>\n",
       "      <td>1.353061</td>\n",
       "      <td>6.924490</td>\n",
       "      <td>0.360000</td>\n",
       "      <td>0.724939</td>\n",
       "      <td>0.812245</td>\n",
       "      <td>4.355102</td>\n",
       "      <td>4.136735</td>\n",
       "      <td>1.502041</td>\n",
       "      <td>0.479592</td>\n",
       "    </tr>\n",
       "    <tr>\n",
       "      <th>8.0</th>\n",
       "      <td>8.853704</td>\n",
       "      <td>8.872222</td>\n",
       "      <td>1.824074</td>\n",
       "      <td>1.953704</td>\n",
       "      <td>0.426278</td>\n",
       "      <td>0.598037</td>\n",
       "      <td>2.425926</td>\n",
       "      <td>5.746296</td>\n",
       "      <td>2.525926</td>\n",
       "      <td>1.605556</td>\n",
       "      <td>0.975926</td>\n",
       "    </tr>\n",
       "    <tr>\n",
       "      <th>9.0</th>\n",
       "      <td>7.646809</td>\n",
       "      <td>6.802128</td>\n",
       "      <td>2.627660</td>\n",
       "      <td>0.097872</td>\n",
       "      <td>0.473702</td>\n",
       "      <td>0.469872</td>\n",
       "      <td>5.248936</td>\n",
       "      <td>9.746809</td>\n",
       "      <td>1.568085</td>\n",
       "      <td>1.042553</td>\n",
       "      <td>3.729787</td>\n",
       "    </tr>\n",
       "  </tbody>\n",
       "</table>\n",
       "</div>"
      ],
      "text/plain": [
       "               per100Stats_PTS per100Stats_FGA per100Stats_FTA  \\\n",
       "                          mean            mean            mean   \n",
       "cluster_region                                                   \n",
       "1.0                  29.822772       23.692079        8.152475   \n",
       "2.0                  36.525275       27.383516       11.101099   \n",
       "3.0                  32.207463       23.353731       10.983582   \n",
       "4.0                  20.178761       17.881416        3.753097   \n",
       "5.0                  19.997287       17.156672        4.786510   \n",
       "6.0                  18.157778       13.297778        6.891111   \n",
       "7.0                  11.197959       10.679592        1.353061   \n",
       "8.0                   8.853704        8.872222        1.824074   \n",
       "9.0                   7.646809        6.802128        2.627660   \n",
       "\n",
       "               per100Stats_3PA per100Stats_2PPerc per100Stats_FTPerc  \\\n",
       "                          mean               mean               mean   \n",
       "cluster_region                                                         \n",
       "1.0                   5.053465           0.477149           0.832475   \n",
       "2.0                   2.929670           0.505670           0.807407   \n",
       "3.0                   0.205970           0.523000           0.726478   \n",
       "4.0                   7.168142           0.440628           0.833628   \n",
       "5.0                   2.653812           0.476179           0.749863   \n",
       "6.0                   0.033333           0.550711           0.545578   \n",
       "7.0                   6.924490           0.360000           0.724939   \n",
       "8.0                   1.953704           0.426278           0.598037   \n",
       "9.0                   0.097872           0.473702           0.469872   \n",
       "\n",
       "               per100Stats_ORB per100Stats_DRB per100Stats_AST  \\\n",
       "                          mean            mean            mean   \n",
       "cluster_region                                                   \n",
       "1.0                   1.094059        4.127723        9.069307   \n",
       "2.0                   2.383516        6.249451        5.649451   \n",
       "3.0                   4.695522       11.050746        3.100000   \n",
       "4.0                   0.806195        3.693805        9.647788   \n",
       "5.0                   2.593622        5.957845        3.721334   \n",
       "6.0                   6.224444       10.980000        1.340000   \n",
       "7.0                   0.812245        4.355102        4.136735   \n",
       "8.0                   2.425926        5.746296        2.525926   \n",
       "9.0                   5.248936        9.746809        1.568085   \n",
       "\n",
       "               per100Stats_STL per100Stats_BLK  \n",
       "                          mean            mean  \n",
       "cluster_region                                  \n",
       "1.0                   2.017822        0.335644  \n",
       "2.0                   1.853846        0.841758  \n",
       "3.0                   1.414925        3.429851  \n",
       "4.0                   2.050442        0.202655  \n",
       "5.0                   1.684971        0.838930  \n",
       "6.0                   1.115556        4.102222  \n",
       "7.0                   1.502041        0.479592  \n",
       "8.0                   1.605556        0.975926  \n",
       "9.0                   1.042553        3.729787  "
      ]
     },
     "execution_count": 118,
     "metadata": {},
     "output_type": "execute_result"
    }
   ],
   "source": [
    "playerAggDfToAnalyzeMin10Min20GamesPCAWithResults.groupby('cluster_region').agg({\n",
    "    'per100Stats_FGA': [np.mean],\n",
    "    'per100Stats_FTA': [np.mean],\n",
    "    'per100Stats_3PA': [np.mean],\n",
    "    'per100Stats_2PPerc': [np.mean],\n",
    "    'per100Stats_FTPerc': [np.mean],\n",
    "    'per100Stats_ORB': [np.mean],\n",
    "    'per100Stats_DRB': [np.mean],\n",
    "    'per100Stats_AST': [np.mean],\n",
    "    'per100Stats_STL': [np.mean],\n",
    "    'per100Stats_BLK': [np.mean],\n",
    "    'per100Stats_PTS': [np.mean]\n",
    "})[[\n",
    "    'per100Stats_PTS',\n",
    "    'per100Stats_FGA',\n",
    "    'per100Stats_FTA',\n",
    "    'per100Stats_3PA',\n",
    "    'per100Stats_2PPerc',\n",
    "    'per100Stats_FTPerc',\n",
    "    'per100Stats_ORB',\n",
    "    'per100Stats_DRB',\n",
    "    'per100Stats_AST',\n",
    "    'per100Stats_STL',\n",
    "    'per100Stats_BLK'\n",
    "]]"
   ]
  },
  {
   "cell_type": "markdown",
   "metadata": {},
   "source": [
    "## Region 1"
   ]
  },
  {
   "cell_type": "code",
   "execution_count": 97,
   "metadata": {
    "collapsed": false
   },
   "outputs": [
    {
     "data": {
      "text/plain": [
       "Isiah Thomas*       7\n",
       "Allen Iverson*      6\n",
       "Magic Johnson*      4\n",
       "Kyrie Irving        4\n",
       "Kevin Johnson       4\n",
       "Monta Ellis         4\n",
       "Ray Allen           4\n",
       "Sam Cassell         4\n",
       "Stephon Marbury     4\n",
       "Tony Parker         3\n",
       "Lou Williams        3\n",
       "Gary Payton*        3\n",
       "Walter Davis        3\n",
       "Kevin Martin        2\n",
       "Paul George         2\n",
       "Robert Pack         2\n",
       "Reggie Jackson      2\n",
       "Eric Bledsoe        2\n",
       "Deron Williams      2\n",
       "Eric Gordon         2\n",
       "Ben Gordon          2\n",
       "Terrell Brandon     2\n",
       "Mitch Richmond*     2\n",
       "Calvin Murphy*      2\n",
       "Gus Williams        1\n",
       "Michael Redd        1\n",
       "Richard Hamilton    1\n",
       "Kobe Bryant         1\n",
       "James Harden        1\n",
       "Will Bynum          1\n",
       "Reggie Miller*      1\n",
       "Derrick Rose        1\n",
       "Mike Newlin         1\n",
       "Paul Westphal       1\n",
       "Jerry Stackhouse    1\n",
       "Rod Strickland      1\n",
       "Joe Johnson         1\n",
       "Gilbert Arenas      1\n",
       "C.J. McCollum       1\n",
       "Devin Booker        1\n",
       "Byron Scott         1\n",
       "Tony Wroten         1\n",
       "Damian Lillard      1\n",
       "Manu Ginobili       1\n",
       "Latrell Sprewell    1\n",
       "Jeremy Lin          1\n",
       "Isaiah Thomas       1\n",
       "Joe Dumars*         1\n",
       "Ricky Pierce        1\n",
       "Reggie Theus        1\n",
       "Name: perGameStats_Player, dtype: int64"
      ]
     },
     "execution_count": 97,
     "metadata": {},
     "output_type": "execute_result"
    }
   ],
   "source": [
    "playerAggDfToAnalyzeMin10Min20GamesPCAWithResults[playerAggDfToAnalyzeMin10Min20GamesPCAWithResults['cluster_region'] == 1]['perGameStats_Player'].value_counts()"
   ]
  },
  {
   "cell_type": "markdown",
   "metadata": {},
   "source": [
    "Alrighty, Region 1. All these regions, again, are pretty elite with only ~30-40ish players per region. Region 1 in particular has 50, which is on the higher side for sure! Looking through the names, a lot of HOFers in there (Isiah, AI, Magic, GP, Reggie...). Many of these guys regarded as both masters of scoring and passing.\n",
    "\n",
    "To no surprise really, these guys averaged **30 / 9 / 2 on PTS / AST / STL per 100 and shot 83% from the FT line**. BEASTS!!!\n",
    "\n",
    "That really does look like AI's stat lines all the time. Isiah preceded me a bit but he appears in this region 7 times, the most of anyone, so I can only assume he was beasting his whole career.\n",
    "\n",
    "Monta shows up in this region multiple times, and so does Lou Will lol. Wtf? I suppose this is what makes Lou Will 6man... This guy usually comes off the bench and is pretty much averaging per 100 the same calibre of stats that AI was averaging. Now, there's something to be said about AI doing this 45 minutes a night vs Lou Will who I assume would maybe play 30 minutes or so per game, but still to be doing that off the bench, that's what I call **PRODUCTION**.\n",
    "\n",
    "Some interesting newbies in here, CJ McCollum, Devin Booker, Dame Dolla, Isaiah... fits quite well with the names we'd be hearing these days. Devin Booker tho... how old is this guy? Sheesh."
   ]
  },
  {
   "cell_type": "markdown",
   "metadata": {},
   "source": [
    "## Region 2"
   ]
  },
  {
   "cell_type": "code",
   "execution_count": 98,
   "metadata": {
    "collapsed": false,
    "scrolled": false
   },
   "outputs": [
    {
     "data": {
      "text/plain": [
       "LeBron James          11\n",
       "Dominique Wilkins*    10\n",
       "Carmelo Anthony        8\n",
       "Dwyane Wade            6\n",
       "Michael Jordan*        6\n",
       "Adrian Dantley*        6\n",
       "Dirk Nowitzki          4\n",
       "Kevin Durant           4\n",
       "Mark Aguirre           4\n",
       "Bernard King*          3\n",
       "Ricky Pierce           3\n",
       "George Gervin*         3\n",
       "Alex English*          3\n",
       "John Drew              3\n",
       "World B. Free          2\n",
       "Karl Malone*           2\n",
       "Paul Pierce            2\n",
       "Tracy McGrady          2\n",
       "Kobe Bryant            2\n",
       "Richard Hamilton       1\n",
       "Julius Erving*         1\n",
       "Xavier McDaniel        1\n",
       "DeMar DeRozan          1\n",
       "Tom Chambers           1\n",
       "Grant Hill             1\n",
       "Quintin Dailey         1\n",
       "Name: perGameStats_Player, dtype: int64"
      ]
     },
     "execution_count": 98,
     "metadata": {},
     "output_type": "execute_result"
    }
   ],
   "source": [
    "playerAggDfToAnalyzeMin10Min20GamesPCAWithResults[playerAggDfToAnalyzeMin10Min20GamesPCAWithResults['cluster_region'] == 2]['perGameStats_Player'].value_counts()"
   ]
  },
  {
   "cell_type": "markdown",
   "metadata": {},
   "source": [
    "Region 2... These guys are **scorers** in every sense of the word, and in fact, to go one deeper, **shooters**.\n",
    "\n",
    "Averaging the most points per 100 possessions out of any region of the chart, these guys have a combined statline of **37 / 9 / 6 on PTS / TRB / AST** on the most attemps of any region as well, **27 FGA and 11 FTA**. By that math, these guys basically take  1/3 of their team's shots whenever they're on the floor.\n",
    "\n",
    "Some of the usual suspects are here in terms of greatest scorers of all time. Lebron (11 times!!!!!), Melo, Wade (2003 draft class anyone?), Dirk, KD, PP, Tracy, Kobe, and... DeMar??? Yeah, he's probably reached that level this season lol.\n",
    "\n",
    "A lot of legends that I can't necessarily speak to but definitely hear about, Nique, MJ, Adrian Dantley, Bernard King, Iceman, Alex Englihs, Karl Malone, and some guy named... World B. Free?? Looks like this is a real guy and made the all-star team once.\n",
    "\n",
    "I guess, to me, this group is your ice cold scorers. I'd think Kobe would be in here more, but honestly Kobe might even be beyond this box I've outlined."
   ]
  },
  {
   "cell_type": "markdown",
   "metadata": {},
   "source": [
    "## Region 3"
   ]
  },
  {
   "cell_type": "code",
   "execution_count": 99,
   "metadata": {
    "collapsed": false
   },
   "outputs": [
    {
     "data": {
      "text/plain": [
       "Tim Duncan              10\n",
       "Patrick Ewing*           9\n",
       "Hakeem Olajuwon*         7\n",
       "Alonzo Mourning*         6\n",
       "Moses Malone*            6\n",
       "David Robinson*          4\n",
       "Yao Ming*                4\n",
       "Amar'e Stoudemire        3\n",
       "Jermaine O'Neal          2\n",
       "Shawn Kemp               2\n",
       "Shaquille O'Neal*        2\n",
       "Anthony Davis            1\n",
       "Al Jefferson             1\n",
       "Kareem Abdul-Jabbar*     1\n",
       "Chris Gatling            1\n",
       "Robert Parish*           1\n",
       "Charles Barkley*         1\n",
       "DeMarcus Cousins         1\n",
       "Enes Kanter              1\n",
       "Dwight Howard            1\n",
       "Brook Lopez              1\n",
       "Elton Brand              1\n",
       "Rik Smits                1\n",
       "Name: perGameStats_Player, dtype: int64"
      ]
     },
     "execution_count": 99,
     "metadata": {},
     "output_type": "execute_result"
    }
   ],
   "source": [
    "playerAggDfToAnalyzeMin10Min20GamesPCAWithResults[playerAggDfToAnalyzeMin10Min20GamesPCAWithResults['cluster_region'] == 3]['perGameStats_Player'].value_counts()"
   ]
  },
  {
   "cell_type": "markdown",
   "metadata": {},
   "source": [
    "Elite big men. Nuff said.\n",
    "\n",
    "Tim Duncan, Patrick Ewing, Hakeem, David Robinson, Yao, Amare, Shaq. ELITE. I think we see a lot of your \"traditional\" big men in here because this side of the plot values rebounds, blocks, generally higher FG%.\n",
    "\n",
    "These guys collectively averaged a whopping **32 / 16 / 3 on PTS / TRB / BLK** while shooting better than a coin flip at **53% on 2PA**. Look at that rebounding though... The rebound rate of these guys are probably nuts."
   ]
  },
  {
   "cell_type": "markdown",
   "metadata": {},
   "source": [
    "## Region 4"
   ]
  },
  {
   "cell_type": "code",
   "execution_count": 100,
   "metadata": {
    "collapsed": false
   },
   "outputs": [
    {
     "data": {
      "text/plain": [
       "Rickey Green            6\n",
       "Jose Calderon           5\n",
       "Mookie Blaylock         4\n",
       "Nick Van Exel           4\n",
       "Jason Williams          4\n",
       "John Lucas              3\n",
       "Spud Webb               3\n",
       "Michael Adams           3\n",
       "Chauncey Billups        3\n",
       "Tim Hardaway            3\n",
       "Mike Bibby              3\n",
       "Rafer Alston            3\n",
       "Ricky Rubio             3\n",
       "Greivis Vasquez         2\n",
       "Earl Boykins            2\n",
       "Chris Whitney           2\n",
       "Jannero Pargo           2\n",
       "Jameer Nelson           2\n",
       "Dana Barros             2\n",
       "J.J. Redick             2\n",
       "D.J. Augustin           2\n",
       "Sarunas Jasikevicius    2\n",
       "Troy Hudson             2\n",
       "Isaiah Canaan           2\n",
       "Jordan Farmar           2\n",
       "Darrell Armstrong       2\n",
       "Damon Stoudamire        2\n",
       "Eric Gordon             1\n",
       "John Lucas III          1\n",
       "A.J. Guyton             1\n",
       "                       ..\n",
       "Kenny Smith             1\n",
       "Jamaal Tinsley          1\n",
       "Derek Anderson          1\n",
       "Eddie House             1\n",
       "Craig Hodges            1\n",
       "Trey Burke              1\n",
       "Aaron Brooks            1\n",
       "Patty Mills             1\n",
       "John Starks             1\n",
       "Tyler Ennis             1\n",
       "Sleepy Floyd            1\n",
       "Keith Jennings          1\n",
       "Lou Williams            1\n",
       "Toney Douglas           1\n",
       "Joe Dumars*             1\n",
       "Vernon Maxwell          1\n",
       "Cory Alexander          1\n",
       "Scott Skiles            1\n",
       "Johnny Dawkins          1\n",
       "C.J. Watson             1\n",
       "Scott Brooks            1\n",
       "Johnny Moore            1\n",
       "Brandon Jennings        1\n",
       "Dedric Willoughby       1\n",
       "Mike Conley             1\n",
       "Baron Davis             1\n",
       "Jimmer Fredette         1\n",
       "Marcus Williams         1\n",
       "Darrick Martin          1\n",
       "Greg Anthony            1\n",
       "Name: perGameStats_Player, dtype: int64"
      ]
     },
     "execution_count": 100,
     "metadata": {},
     "output_type": "execute_result"
    }
   ],
   "source": [
    "playerAggDfToAnalyzeMin10Min20GamesPCAWithResults[playerAggDfToAnalyzeMin10Min20GamesPCAWithResults['cluster_region'] == 4]['perGameStats_Player'].value_counts()"
   ]
  },
  {
   "cell_type": "markdown",
   "metadata": {},
   "source": [
    "This is kind of a weird group. Or perhaps it just seems weird to me on the surface. If I'd have to give this group a name... I guess it would be something like... good dependable point guard? In general, these guys seem to be starting point guards (back up in some cases), some all stars, some non all stars. But I guess the point here is that they were all quite efficient while they were on the floor raking up a **20 / 10 / 2 on PTS / AST / STL** statline. Shooting well, shooting lots of 3's as well.\n",
    "\n",
    "I guess it's just kind of weird looking at this seeing Jose Calderon on here a bunch of times. I think these were in his Toronto years too. I remember watching Jose play back when I didn't know anything, didn't think much of it probably because he was an international player without much flash and the team was pretty bad during those years anyways, but this, I guess, sheds some light on just how efficient he was and perhaps that's how we even made it into the playoffs (along with Bosh of course).\n",
    "\n",
    "It just seems like a relatively unreliable correlation in this group because you got guards like Rafer Alston who is in the same group has Chauncey Billups, but we also have to keep in mind that these were perhaps Rafer's **BEST** years and Chauncey's **average** years. Also, Earl Boykins in here with Spudd Webb makes you think about just how good they were for their natural gifts."
   ]
  },
  {
   "cell_type": "markdown",
   "metadata": {},
   "source": [
    "## Region 5"
   ]
  },
  {
   "cell_type": "code",
   "execution_count": 101,
   "metadata": {
    "collapsed": false
   },
   "outputs": [
    {
     "data": {
      "text/plain": [
       "Tyrone Corbin        12\n",
       "Tim Thomas           12\n",
       "Tony Allen           12\n",
       "Shawn Marion         10\n",
       "Sam Perkins          10\n",
       "Jeff Green           10\n",
       "Ersan Ilyasova       10\n",
       "Tayshaun Prince       9\n",
       "Al Harrington         9\n",
       "Rodney Rogers         9\n",
       "Robert Reid           9\n",
       "Fred Roberts          9\n",
       "Thaddeus Young        8\n",
       "Rodney McCray         8\n",
       "Derrick McKey         8\n",
       "Brad Miller           8\n",
       "Blue Edwards          8\n",
       "Reggie Williams       8\n",
       "Wilson Chandler       8\n",
       "Mike Sanders          7\n",
       "Boris Diaw            7\n",
       "Chris Mills           7\n",
       "Sam Mitchell          7\n",
       "Rasheed Wallace       7\n",
       "Troy Murphy           6\n",
       "Andres Nocioni        6\n",
       "Scott Wedman          6\n",
       "DeShawn Stevenson     6\n",
       "Detlef Schrempf       6\n",
       "Mike Dunleavy         6\n",
       "                     ..\n",
       "Kawhi Leonard         1\n",
       "Jim Spanarkel         1\n",
       "Danilo Gallinari      1\n",
       "Marc Jackson          1\n",
       "Bernard Robinson      1\n",
       "Don Collins           1\n",
       "Sly Williams          1\n",
       "Mickey Johnson        1\n",
       "James Wilkes          1\n",
       "Andray Blatche        1\n",
       "Kevin Martin          1\n",
       "Josh Smith            1\n",
       "Tom Hammonds          1\n",
       "Derek Strong          1\n",
       "Trent Tucker          1\n",
       "Eric Bledsoe          1\n",
       "Jiri Welsch           1\n",
       "Randy Brown           1\n",
       "Perry Moss            1\n",
       "Nene Hilario          1\n",
       "Tim Kempton           1\n",
       "Clyde Drexler*        1\n",
       "Corey Maggette        1\n",
       "Luis Scola            1\n",
       "Don Ford              1\n",
       "Larry Robinson        1\n",
       "Rick Calloway         1\n",
       "Jason Smith           1\n",
       "Wayne Robinson        1\n",
       "Wang Zhizhi           1\n",
       "Name: perGameStats_Player, dtype: int64"
      ]
     },
     "execution_count": 101,
     "metadata": {},
     "output_type": "execute_result"
    }
   ],
   "source": [
    "playerAggDfToAnalyzeMin10Min20GamesPCAWithResults[playerAggDfToAnalyzeMin10Min20GamesPCAWithResults['cluster_region'] == 5]['perGameStats_Player'].value_counts()"
   ]
  },
  {
   "cell_type": "markdown",
   "metadata": {},
   "source": [
    "This entire 4-5-6 region are your 20 point / 100 possession scorers. These mostly seem like non-all star starters in a wing type of role. I could maybe make the assumption that they were pretty decent on defense as 1v1 defenders within their position and even on switch defenses, and saw a decent amount of playing time because of their 2-way ability. You see a lot of 2-way players here like Tony Allen, Shawn Marion, Sheed, Tayshaun, Thaddeus, Wilson Chandler who could, but never consistently lit up the scoreboard but seemingly were still efficient in their play and managed to gather **20 / 9 / 4 on AST / REB / AST** per 100 possessions. I can't tell much more about defense without looking at advanced metrics although these guys did get **1.7 / 0.8 on STl / BLK** as well."
   ]
  },
  {
   "cell_type": "markdown",
   "metadata": {},
   "source": [
    "## Region 6"
   ]
  },
  {
   "cell_type": "code",
   "execution_count": 102,
   "metadata": {
    "collapsed": false
   },
   "outputs": [
    {
     "data": {
      "text/plain": [
       "DeAndre Jordan      5\n",
       "Dikembe Mutombo*    4\n",
       "Jahidi White        3\n",
       "Alton Lister        3\n",
       "Andre Drummond      2\n",
       "Rudy Gobert         2\n",
       "Chris Andersen      2\n",
       "Jerome James        2\n",
       "JaVale McGee        2\n",
       "Nazr Mohammed       2\n",
       "Alonzo Mourning*    2\n",
       "Shawn Bradley       1\n",
       "Serge Ibaka         1\n",
       "Dan Gadzuric        1\n",
       "Danny Fortson       1\n",
       "Hamed Haddadi       1\n",
       "Ed Davis            1\n",
       "Keon Clark          1\n",
       "Greg Oden           1\n",
       "Jayson Williams     1\n",
       "Shawnelle Scott     1\n",
       "Festus Ezeli        1\n",
       "Stanley Roberts     1\n",
       "Tree Rollins        1\n",
       "Clint Capela        1\n",
       "Justin Williams     1\n",
       "Larry Sanders       1\n",
       "Name: perGameStats_Player, dtype: int64"
      ]
     },
     "execution_count": 102,
     "metadata": {},
     "output_type": "execute_result"
    }
   ],
   "source": [
    "playerAggDfToAnalyzeMin10Min20GamesPCAWithResults[playerAggDfToAnalyzeMin10Min20GamesPCAWithResults['cluster_region'] == 6]['perGameStats_Player'].value_counts()"
   ]
  },
  {
   "cell_type": "markdown",
   "metadata": {},
   "source": [
    "These guys had a line of **18 / 17 / 4 on PTS / TRB / BLK** shooting the rock at **55% on 2PA**. Christ. They basically rebounded as much as they scored the entire time. Add in a bunch of blocks for insult to injury as well.\n",
    "\n",
    "It seems to be that these guys are essentially the region 3 guys without as much scoring. Still dependable, but perhaps not as gifted like the Shaq's and Yao's of the world. The most frequent offenders here are Deandre and Dikembe. None (I believe) were known for their ability to dominate from a scoring perspective, but rather their defense were stellar while still being able to generate points in the right situation, perhaps with a good point guard.\n",
    "\n",
    "At the end of the day, these guys are **great** rebounders, get **a lot** of blocks, and can put up the few points you need them to put up per game."
   ]
  },
  {
   "cell_type": "markdown",
   "metadata": {},
   "source": [
    "## Region 7"
   ]
  },
  {
   "cell_type": "code",
   "execution_count": 103,
   "metadata": {
    "collapsed": false
   },
   "outputs": [
    {
     "data": {
      "text/plain": [
       "DeShawn Stevenson      5\n",
       "James Jones            3\n",
       "Brandon Rush           2\n",
       "Lee Mayberry           2\n",
       "Dan Majerle            2\n",
       "Steve Blake            2\n",
       "Shane Battier          2\n",
       "Pablo Prigioni         2\n",
       "Brian Cardinal         1\n",
       "Sasha Vujacic          1\n",
       "John Paxson            1\n",
       "Damon Jones            1\n",
       "J.R. Smith             1\n",
       "Sidney Lowe            1\n",
       "Roger Mason            1\n",
       "Mike Miller            1\n",
       "Anthony Tolliver       1\n",
       "Eric Snow              1\n",
       "Keith Bogans           1\n",
       "Jason Kidd             1\n",
       "Bruce Bowen            1\n",
       "Bobby Simmons          1\n",
       "Darius Miller          1\n",
       "Rashad Vaughn          1\n",
       "Jason Terry            1\n",
       "Andre Barrett          1\n",
       "Luke Babbitt           1\n",
       "Michael Curry          1\n",
       "Anthony Brown          1\n",
       "Matthew Dellavedova    1\n",
       "Royal Ivey             1\n",
       "Chris Duhon            1\n",
       "Steve Novak            1\n",
       "Kyle Singler           1\n",
       "Brad Lohaus            1\n",
       "John Salmons           1\n",
       "Daniel Gibson          1\n",
       "Name: perGameStats_Player, dtype: int64"
      ]
     },
     "execution_count": 103,
     "metadata": {},
     "output_type": "execute_result"
    }
   ],
   "source": [
    "playerAggDfToAnalyzeMin10Min20GamesPCAWithResults[playerAggDfToAnalyzeMin10Min20GamesPCAWithResults['cluster_region'] == 7]['perGameStats_Player'].value_counts()"
   ]
  },
  {
   "cell_type": "markdown",
   "metadata": {},
   "source": [
    "Just by being in this corner of the plot, if you look at it, implies that you are\n",
    "1. Not a volume scorer\n",
    "2. Do not exhibit big men quailties\n",
    "3. Rack up more 3PA than traditional guard qualities (by a small margin)\n",
    "\n",
    "With that, and by looking at some of the names here, I feel like these guys are guards who are in the rotation but have more of a spot up 3 role. Some of the most prolific (let's say in recent memory to account for my age bias here) 3 ball guys are here. James Jones 3 times (alongside Lebron James), Shane Battier (alongside Lebron James), Damon Jones (alongside Lebron James), Mike Miller (alongside Lebron James), JR Smith (alongside Lebron James)... wait... did Lebron basically make this category possible? Just kidding, there are other players here too, but jesus it is kinda scary how many of your Lebron 3-ball guys are in here.\n",
    "\n",
    "These guys are getting **11 / 4 / 4 on PTS / REB / AST**, however the key here is that **7 / 11 of their FGA are 3PA**. Basically 2 / 3 of all their shots are 3's. Now I know they're not trying to pull up on 3's 66% of the time... implying that their role is probably to shoot 3's, or that in many cases, the 3 is the best shot they can take and they're capable of hitting them."
   ]
  },
  {
   "cell_type": "markdown",
   "metadata": {},
   "source": [
    "## Region 8"
   ]
  },
  {
   "cell_type": "code",
   "execution_count": 104,
   "metadata": {
    "collapsed": false
   },
   "outputs": [
    {
     "data": {
      "text/plain": [
       "Jason Collins        6\n",
       "Trenton Hassell      5\n",
       "Jon Koncak           3\n",
       "Quinton Ross         3\n",
       "T.R. Dunn            3\n",
       "Eduardo Najera       2\n",
       "Jared Jeffries       2\n",
       "Bob Hansen           2\n",
       "Keith Askins         2\n",
       "Bruce Bowen          2\n",
       "Derrick McKey        2\n",
       "Dante Cunningham     1\n",
       "Troy Murphy          1\n",
       "Mark Pope            1\n",
       "Clifford Robinson    1\n",
       "Sasha Pavlovic       1\n",
       "Harvey Grant         1\n",
       "Calbert Cheaney      1\n",
       "Danny Vranes         1\n",
       "Tony Battie          1\n",
       "Jud Buechler         1\n",
       "Grant Long           1\n",
       "Dominic McGuire      1\n",
       "Walter McCarty       1\n",
       "Kyle Singler         1\n",
       "Luc Mbah a Moute     1\n",
       "Robert Horry         1\n",
       "Scott Hastings       1\n",
       "Elston Turner        1\n",
       "Thabo Sefolosha      1\n",
       "LaSalle Thompson     1\n",
       "Jeff Cook            1\n",
       "Joe Wolf             1\n",
       "Name: perGameStats_Player, dtype: int64"
      ]
     },
     "execution_count": 104,
     "metadata": {},
     "output_type": "execute_result"
    }
   ],
   "source": [
    "playerAggDfToAnalyzeMin10Min20GamesPCAWithResults[playerAggDfToAnalyzeMin10Min20GamesPCAWithResults['cluster_region'] == 8]['perGameStats_Player'].value_counts()"
   ]
  },
  {
   "cell_type": "markdown",
   "metadata": {},
   "source": [
    "I feel like your Region 8 guys are probably your worst guys given our constraints of the player must have played at least 10 minutes per game and at least 20 games on the season. If you're getting those kind of minutes, you're probably doing _**something**_ right. You must have something to offer. Defense. Length. Rebounding. Intensity. The ability to just _**not**_ turn it over when all the stars are on the bench and you are on the floor. Maybe your team is just... short of players or trying to tank _**cough**_ develop their young players.\n",
    "\n",
    "These guys collectively had stats like **8 / 8 / 3 / 1.6 / 1 on PTS / TRB / AST / STL / BLK**. Well, actually, when you look at it that way, it's not horrible. But translated to what this would look like in an actual game and not just 100 poss, I think we'd see something more along the lines of 5 / 5 / 2 / 1 / 0.5. Pretty average across the board, and not too good at one thing or another.\n",
    "\n",
    "An interesting one here is Bruce Bowen, who was a key piece of those spurs teams and prolifically known for not being a stats guy. Other names here, though, Jason Collins, Quinton Ross, Eduardo Najera, Jared Jeffries, all really not known for making too much of an impact in games other than really just not being a liability."
   ]
  },
  {
   "cell_type": "markdown",
   "metadata": {},
   "source": [
    "## Region 9"
   ]
  },
  {
   "cell_type": "code",
   "execution_count": 105,
   "metadata": {
    "collapsed": false
   },
   "outputs": [
    {
     "data": {
      "text/plain": [
       "Manute Bol          5\n",
       "DeSagana Diop       4\n",
       "Joel Przybilla      4\n",
       "Lorenzo Williams    4\n",
       "Eric Montross       3\n",
       "Chris Dudley        3\n",
       "Larry Smith         3\n",
       "Dikembe Mutombo*    2\n",
       "Andrew Bogut        2\n",
       "Jim McIlvaine       2\n",
       "Ervin Johnson       2\n",
       "George Johnson      2\n",
       "Michael Ruffin      2\n",
       "Adrian Caldwell     1\n",
       "Greg Kite           1\n",
       "Duane Causwell      1\n",
       "Jamaal Magloire     1\n",
       "Furkan Aldemir      1\n",
       "Dennis Rodman*      1\n",
       "Mark Eaton          1\n",
       "Leon Douglas        1\n",
       "Andris Biedrins     1\n",
       "Name: perGameStats_Player, dtype: int64"
      ]
     },
     "execution_count": 105,
     "metadata": {},
     "output_type": "execute_result"
    }
   ],
   "source": [
    "playerAggDfToAnalyzeMin10Min20GamesPCAWithResults[playerAggDfToAnalyzeMin10Min20GamesPCAWithResults['cluster_region'] == 9]['perGameStats_Player'].value_counts()"
   ]
  },
  {
   "cell_type": "markdown",
   "metadata": {},
   "source": [
    "Final region... Phew... This, along with Region 7 (spot up 3 guys) are probably the most interesting of the bunch.\n",
    "\n",
    "These guys look like they're basically incapable of scoring. **47% on both 2P% AND FT%!!**. These guys are not shooters, and probably did not grow up practicing shooting too much, averaging only **6 PTS on 6 FGA** per 100 possessions. Instead, they look like they were blessed with other gifts. Being long, athletic, tall scraping up **15 / 4 on TRB / BLK** per 100 possessions. That's no joke for efficiency, as good as the rest of the big men types in Regions 3 and 6.\n",
    "\n",
    "While Region 8 kind of implies the players weren't really good at any particular thing, Region 9 implies that these players exhibit **elite** big men qualities. We even have two HOFers in here, Mutombo and Rodman.\n",
    "\n",
    "Any more gifted on the offensive end, however, you'd see these guys creep up into Region 6."
   ]
  },
  {
   "cell_type": "markdown",
   "metadata": {},
   "source": [
    "## Regions, Regions, Regions\n",
    "Great. So I got 9 regions. So what? To me, this exercise was about abstracting stats up to a level understandable from a basketball perspective. Sure, AST / STL / 3PA might be correlated, but there isn't necessarily causation here from one to the other, but rather the human who is playing the game has the physical attributes, and has the coaching staff that put him in a situation where he is able to succeed in getting these types of numbers. If you're not a tall guy, you probably won't get too many rebounds (generally speaking!).\n",
    "\n",
    "While I'll never say \"oh you have low point numbers and low big men attributes, and not that many assists, you belong in Region 7 and I will now label you as a spot up shooter\", there is a natural correlation that a spot up shooter will exhibit many of these attributes, and PCA is kind of helping us define these natural tendencies. PCA isn't defining specific roles, or perhaps even natural correlation actually, but it is painting a story of how the game has been historically played (without necessarily any information on how the game will evolve in the future). Historically, there are stronger correlations between certain factors, and whether it's due to some sort of natural cause or causation through coaching... etc, these relationships do exist statistically and it's quite interesting to walk this fine line between watching a basketball game unfolding and seeing the same story being told from a numbers perspective."
   ]
  },
  {
   "cell_type": "markdown",
   "metadata": {},
   "source": [
    "## Next Steps\n",
    "From this, I want to dive into team lineups, and that might be all I do with the basic metrics for now before diving into advanced metrics to better explore the All-Star / All-NBA / MVP / HOF race."
   ]
  }
 ],
 "metadata": {
  "anaconda-cloud": {},
  "kernelspec": {
   "display_name": "Python [Root]",
   "language": "python",
   "name": "Python [Root]"
  },
  "language_info": {
   "codemirror_mode": {
    "name": "ipython",
    "version": 2
   },
   "file_extension": ".py",
   "mimetype": "text/x-python",
   "name": "python",
   "nbconvert_exporter": "python",
   "pygments_lexer": "ipython2",
   "version": "2.7.11"
  }
 },
 "nbformat": 4,
 "nbformat_minor": 0
}
