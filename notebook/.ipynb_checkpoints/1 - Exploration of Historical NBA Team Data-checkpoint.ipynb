{
 "cells": [
  {
   "cell_type": "markdown",
   "metadata": {},
   "source": [
    "# Exploration of Historical NBA Team Data\n",
    "\n",
    "## About me\n",
    "This is my first data science-y post... nay, blog post... nay, post of ANY kind. I work hard, but I'm also pretty lazy, which doesn't bode well in terms of communciation and organization. This probably stems from the fact that I graduated with a degree in Engineering, where our only English course amounted to **\"please don't use big, scary words\"**. Now, in the working world, big, scary words are all I say to abstract concepts to coworkers and clients... Who would've thought? Neither is the right way to communicate, but the answer must lie somewhere in between... I hope!\n",
    "\n",
    "The world now surrounds us with a mind-bloggling volume of technology, and as much as I love to dive deep into tech, I also have to **feel** like I'm contributing directly to the problem I'm trying to solve (I was predisposed to think this way because I'm a millenial... RIGHT?!?). Working as a network Engineer at a big telecommunications company, it wasn't always easy to digest the fact that you may not see the fruits of your meticulous labour for **years** to come. Millenial-me kicked in and just didn't let that fly. Now, I work in a consulting role and it's quite the opposite... I'm lucky to have avoided the extremes of this situation, but in many cases, the client hires you on for a mission-critical project and you are to deliver the world to them in a few weeks. Yikes, you can definitely see the fruits of your labour, but how can you build a good solution, and let alone communicate all that?\n",
    "\n",
    "I like to think of myself as detail-oriented. If you give me an infinite amount of time with one task, I'll take the entire time to perfect it (okay, fine, that's the hollywood version of me, but I'd still like to THINK that of myself). While that's not a bad trait, business and technology are each their own realms, with a lifetime of knowledge in either path. Now I've been given an infinite amount of time with **TWO** tasks, and thus the dilemma begins. I'm hoping for this blog to be a sandbox where I can play, experiment, and ultimately **fail** where I need to so I can optimize my approach to complex data analysis and problem solving. \n",
    "\n",
    "## Basketball\n",
    "I follow basketball quite religiously. Favourite player? Ray Allen. Favourite team? Hometown Raptors baby. Favourite moment? Watching Kobe's 81 live. Actually now I sound like a casual fan who doesn't know what he wants or likes... ANYWAYS, I swear I'm a fanatic. I don't get to watch as many games as I'd like, but I've always been fascinated by the numbers behind it. I think in-voluntarily browsing [r/nba](http://www.reddit.com/r/nba) every 30 seconds, and occassionally opening up a/ r/nba tab while not realizing I already have an r/nba tab open from 30 seconds ago, helps. I've always wanted to pull some data together and do some analysis myself, but the paralysis strikes:\n",
    "- what should I analyze?\n",
    "- where should I get the data from?\n",
    "- should I put it in a database?\n",
    "- do I try to go big and leverage a distributed computing platform?\n",
    "- maybe I can build a moneyball model of the NBA and retire in 5 years?\n",
    "\n",
    "## Let's Just Start...\n",
    "To shut myself up, I'm just going start doing __*something*__. I'm going to take some easy routes:\n",
    "1. [www.basketball-reference.com](www.basketball-reference.com) seems like a good place to start to grab some data\n",
    "2. let's just stick with using python and only python for now, and see where it takes us\n",
    "    1. I'm hoping to find enough data at some point so I can test out Spark or Presto or something... oh god please \"force\" me to learn distributed computing, i'm dying for an excuse to blow my money on AWS\n",
    "    \n",
    "Against all best practices, I'm going to just start with no objectives and just... **go**.\n",
    "\n",
    "---"
   ]
  },
  {
   "cell_type": "markdown",
   "metadata": {},
   "source": [
    "## Ugh...\n",
    "Alright, starting isn't so easy without an objective I guess. There's too much data. TOO MUCH. Again, since I don't know what I'm looking for, I'll just start at a higher level. Just about the highest level of aggregation I could go is how teams have performed historically. Maybe looking a bit at even basic stats... Points Scored... Pace... How good offense and defense is... ok sure let's do that. ¯\\\\_(ツ)_/¯\n",
    "\n",
    "---"
   ]
  },
  {
   "cell_type": "markdown",
   "metadata": {},
   "source": [
    "## Pulling Data\n",
    "At this point I'm feeling like there's a better way to get this basketball-reference data (API of some sort?)... but I'm too deep into the script to stop scraping now. And it doesn't take __*too*__ long...\n",
    "\n",
    "The scraping script is essentially just two loops with some housecleaning and formatting\n",
    "1. Loop across each team (access the URLs of each team)\n",
    "2. Within each team, we loop through across pages of stats to aggregate\n",
    "    1. Base Stats\n",
    "    2. Per Game\n",
    "    3. Opponent Per Game\n",
    "\n",
    "The 3 pages of stats can be found on (for example using the Toronto Raptors):\n",
    "- [http://www.basketball-reference.com/teams/TOR/](http://www.basketball-reference.com/teams/TOR/)\n",
    "- [http://www.basketball-reference.com/teams/TOR/stats_per_game_totals.html](http://www.basketball-reference.com/teams/TOR/stats_per_game_totals.html)\n",
    "- [http://www.basketball-reference.com/teams/TOR/opp_stats_per_game_totals.html](http://www.basketball-reference.com/teams/TOR/opp_stats_per_game_totals.html)"
   ]
  },
  {
   "cell_type": "code",
   "execution_count": 1,
   "metadata": {
    "collapsed": true
   },
   "outputs": [],
   "source": [
    "# Create a dict of the pages I'm out to scrape\n",
    "teamStatsBaseUrl = 'http://www.basketball-reference.com/teams/'\n",
    "teamStatsUrlSuffix = {\n",
    "    'baseStats': '/',\n",
    "    'perGameStats': '/stats_per_game_totals.html',\n",
    "    'opponentPerGameStats': '/opp_stats_per_game_totals.html'\n",
    "}"
   ]
  },
  {
   "cell_type": "code",
   "execution_count": 2,
   "metadata": {
    "collapsed": false
   },
   "outputs": [],
   "source": [
    "# Notice that each page has the team embedded into the URL, create a list of all the teams to iterate through and scrape\n",
    "teamList = [\n",
    "    'BOS',\n",
    "    'TOR',\n",
    "    'NYK',\n",
    "    'PHI',\n",
    "    'NJN',\n",
    "    'WAS',\n",
    "    'ATL',\n",
    "    'MIA',\n",
    "    'CHA',\n",
    "    'ORL',\n",
    "    'CLE',\n",
    "    'MIL',\n",
    "    'IND',\n",
    "    'CHI',\n",
    "    'DET',\n",
    "    'UTA',\n",
    "    'OKC',\n",
    "    'POR',\n",
    "    'DEN',\n",
    "    'MIN',\n",
    "    'SAS',\n",
    "    'HOU',\n",
    "    'MEM',\n",
    "    'NOH',\n",
    "    'DAL',\n",
    "    'GSW',\n",
    "    'LAC',\n",
    "    'SAC',\n",
    "    'PHO',\n",
    "    'LAL'\n",
    "]"
   ]
  },
  {
   "cell_type": "code",
   "execution_count": 3,
   "metadata": {
    "collapsed": false
   },
   "outputs": [],
   "source": [
    "# Load libraries & initial config\n",
    "%matplotlib inline\n",
    "import pandas as pd\n",
    "import numpy as np\n",
    "import matplotlib.pyplot as plt\n",
    "import boto3\n",
    "from StringIO import StringIO"
   ]
  },
  {
   "cell_type": "markdown",
   "metadata": {},
   "source": [
    "Let's start with the script. Just to outline a few data cleaning steps...\n",
    "1. For some long tables, headers are repeated in the middle of the table, we remove these\n",
    "2. We also see that the table has empty columns, we remove these\n",
    "\n",
    "![](https://s3.ca-central-1.amazonaws.com/2017edmfasatb/fas_boto/images/repeating_headers.png)"
   ]
  },
  {
   "cell_type": "code",
   "execution_count": 4,
   "metadata": {
    "collapsed": false
   },
   "outputs": [
    {
     "name": "stdout",
     "output_type": "stream",
     "text": [
      "Finished scraping TOR\n",
      "Finished scraping NYK\n",
      "Finished scraping PHI\n",
      "Finished scraping NJN\n",
      "Finished scraping WAS\n",
      "Finished scraping ATL\n",
      "Finished scraping MIA\n",
      "Finished scraping CHA\n",
      "Finished scraping ORL\n",
      "Finished scraping CLE\n",
      "Finished scraping MIL\n",
      "Finished scraping IND\n",
      "Finished scraping CHI\n",
      "Finished scraping DET\n",
      "Finished scraping UTA\n",
      "Finished scraping OKC\n",
      "Finished scraping POR\n",
      "Finished scraping DEN\n",
      "Finished scraping MIN\n",
      "Finished scraping SAS\n",
      "Finished scraping HOU\n",
      "Finished scraping MEM\n",
      "Finished scraping NOH\n",
      "Finished scraping DAL\n",
      "Finished scraping GSW\n",
      "Finished scraping LAC\n",
      "Finished scraping SAC\n",
      "Finished scraping PHO\n",
      "Finished scraping LAL\n"
     ]
    }
   ],
   "source": [
    "# Iterate through NBA teams to get their team stats\n",
    "#   1. For each team\n",
    "#       a. Get different types of stats\n",
    "#       b. concatenate stats by rows (horizontally)\n",
    "#   2. Aggregate stats of all teams into a single pandas dataframe (vertically)\n",
    "teamAggDf = None\n",
    "\n",
    "for team in teamList:\n",
    "    teamStatsAggDf = None\n",
    "\n",
    "#     print '\\nStarting to scan {}'.format(team)\n",
    "    for teamStatName, teamStatUrl in teamStatsUrlSuffix.iteritems():\n",
    "        # Format URL to scan\n",
    "        urlToScan = '{}{}{}'.format(\n",
    "            teamStatsBaseUrl,\n",
    "            team,\n",
    "            teamStatUrl\n",
    "        )\n",
    "\n",
    "        # Pull data from HTML table\n",
    "        #   Notice here we do not make the first row the header because we need that row of data to compare\n",
    "        #   and drop duplicate headers in the middle of the table\n",
    "#         print 'Checking {}'.format(urlToScan)\n",
    "        teamStatsDf = pd.read_html(\n",
    "            io = urlToScan,\n",
    "            header = None,\n",
    "            attrs = {'class': 'stats_table'}\n",
    "        )[0]\n",
    "\n",
    "        # Fix some formatting issues (extra header rows in the middle of table) from bball ref\n",
    "        teamStatsDf = teamStatsDf[teamStatsDf['Season'] != 'Season']\n",
    "        teamStatsDf.reset_index(inplace = True)\n",
    "\n",
    "        # Fix some formatting issues (extra columns) from bball ref\n",
    "        if u' ' in teamStatsDf.columns:\n",
    "            teamStatsDf.drop(u' ', axis = 1, inplace = True)\n",
    "        if u' .1' in teamStatsDf.columns:\n",
    "            teamStatsDf.drop(u' .1', axis = 1, inplace = True)\n",
    "\n",
    "        # Since we are appending data from multiple tables, we append a prefix to each column table in order to\n",
    "        #   preserve which columns came frmo which tables\n",
    "        teamStatsDf.columns = ['{}_{}'.format(str(teamStatName).encode('utf-8'), str(col).encode('utf-8')) for col in teamStatsDf.columns]\n",
    "\n",
    "        # Aggregate stats dataframes\n",
    "        if teamStatsAggDf is None:\n",
    "            teamStatsAggDf = teamStatsDf\n",
    "        else:\n",
    "            teamStatsAggDf = pd.concat([teamStatsAggDf, teamStatsDf], axis = 1)\n",
    "\n",
    "    # Aggregate stats dataframes\n",
    "    if teamAggDf is None:\n",
    "        teamAggDf = teamStatsAggDf\n",
    "    else:\n",
    "        teamAggDf = pd.concat([teamAggDf, teamStatsAggDf], axis = 0)\n",
    "\n",
    "    print 'Finished scraping {}'.format(team)"
   ]
  },
  {
   "cell_type": "code",
   "execution_count": 5,
   "metadata": {
    "collapsed": false
   },
   "outputs": [
    {
     "name": "stdout",
     "output_type": "stream",
     "text": [
      "perGameStats_index            int64\n",
      "perGameStats_Season          object\n",
      "perGameStats_Lg              object\n",
      "perGameStats_Tm              object\n",
      "perGameStats_W               object\n",
      "perGameStats_L               object\n",
      "perGameStats_Finish          object\n",
      "perGameStats_Age             object\n",
      "perGameStats_Ht.             object\n",
      "perGameStats_Wt.             object\n",
      "perGameStats_G               object\n",
      "perGameStats_MP              object\n",
      "perGameStats_FG              object\n",
      "perGameStats_FGA             object\n",
      "perGameStats_FG%             object\n",
      "perGameStats_3P              object\n",
      "perGameStats_3PA             object\n",
      "perGameStats_3P%             object\n",
      "perGameStats_2P              object\n",
      "perGameStats_2PA             object\n",
      "perGameStats_2P%             object\n",
      "perGameStats_FT              object\n",
      "perGameStats_FTA             object\n",
      "perGameStats_FT%             object\n",
      "perGameStats_ORB             object\n",
      "perGameStats_DRB             object\n",
      "perGameStats_TRB             object\n",
      "perGameStats_AST             object\n",
      "perGameStats_STL             object\n",
      "perGameStats_BLK             object\n",
      "                             ...   \n",
      "opponentPerGameStats_FT      object\n",
      "opponentPerGameStats_FTA     object\n",
      "opponentPerGameStats_FT%     object\n",
      "opponentPerGameStats_ORB     object\n",
      "opponentPerGameStats_DRB     object\n",
      "opponentPerGameStats_TRB     object\n",
      "opponentPerGameStats_AST     object\n",
      "opponentPerGameStats_STL     object\n",
      "opponentPerGameStats_BLK     object\n",
      "opponentPerGameStats_TOV     object\n",
      "opponentPerGameStats_PF      object\n",
      "opponentPerGameStats_PTS     object\n",
      "baseStats_index               int64\n",
      "baseStats_Season             object\n",
      "baseStats_Lg                 object\n",
      "baseStats_Team               object\n",
      "baseStats_W                   int64\n",
      "baseStats_L                   int64\n",
      "baseStats_W/L%              float64\n",
      "baseStats_Finish              int64\n",
      "baseStats_SRS               float64\n",
      "baseStats_Pace              float64\n",
      "baseStats_Rel_Pace          float64\n",
      "baseStats_ORtg              float64\n",
      "baseStats_Rel_ORtg          float64\n",
      "baseStats_DRtg              float64\n",
      "baseStats_Rel_DRtg          float64\n",
      "baseStats_Playoffs           object\n",
      "baseStats_Coaches            object\n",
      "baseStats_Top WS             object\n",
      "dtype: object\n"
     ]
    }
   ],
   "source": [
    "# Let's see what the dataframe looks like\n",
    "print teamAggDf.dtypes"
   ]
  },
  {
   "cell_type": "code",
   "execution_count": 6,
   "metadata": {
    "collapsed": true
   },
   "outputs": [
    {
     "name": "stdout",
     "output_type": "stream",
     "text": [
      "   perGameStats_index perGameStats_Season perGameStats_Lg perGameStats_Tm  \\\n",
      "0                   0             2016-17             NBA             BOS   \n",
      "1                   1             2015-16             NBA             BOS   \n",
      "2                   2             2014-15             NBA             BOS   \n",
      "3                   3             2013-14             NBA             BOS   \n",
      "4                   4             2012-13             NBA             BOS   \n",
      "\n",
      "  perGameStats_W perGameStats_L perGameStats_Finish perGameStats_Age  \\\n",
      "0             50             27                   1             25.9   \n",
      "1             48             34                   2             25.2   \n",
      "2             40             42                   2             25.0   \n",
      "3             25             57                   4             25.4   \n",
      "4             41             40                   3             29.1   \n",
      "\n",
      "  perGameStats_Ht. perGameStats_Wt.        ...        baseStats_SRS  \\\n",
      "0              6-5              219        ...                 2.41   \n",
      "1              6-5              220        ...                 2.84   \n",
      "2              6-6              221        ...                -0.40   \n",
      "3              6-6              221        ...                -4.97   \n",
      "4              6-6              214        ...                -0.62   \n",
      "\n",
      "  baseStats_Pace baseStats_Rel_Pace baseStats_ORtg baseStats_Rel_ORtg  \\\n",
      "0           96.6                0.2          111.1                2.3   \n",
      "1           98.5                2.7          106.8                0.4   \n",
      "2           95.8                1.9          104.7               -0.9   \n",
      "3           93.3               -0.6          102.9               -3.8   \n",
      "4           91.7               -0.3          103.1               -2.8   \n",
      "\n",
      "  baseStats_DRtg baseStats_Rel_DRtg      baseStats_Playoffs  \\\n",
      "0          108.3               -0.5                     NaN   \n",
      "1          103.6               -2.8  Lost E. Conf. 1st Rnd.   \n",
      "2          104.5               -1.1  Lost E. Conf. 1st Rnd.   \n",
      "3          107.7                1.0                     NaN   \n",
      "4          103.3               -2.6  Lost E. Conf. 1st Rnd.   \n",
      "\n",
      "    baseStats_Coaches  baseStats_Top WS  \n",
      "0  B. Stevens (50-27)  I. Thomas (12.1)  \n",
      "1  B. Stevens (48-34)   I. Thomas (9.7)  \n",
      "2  B. Stevens (40-42)   T. Zeller (6.5)  \n",
      "3  B. Stevens (25-57)     B. Bass (5.1)  \n",
      "4   D. Rivers (41-40)   P. Pierce (7.2)  \n",
      "\n",
      "[5 rows x 81 columns]\n"
     ]
    }
   ],
   "source": [
    "# Let's preview the dataframe itself\n",
    "print teamAggDf.head()"
   ]
  },
  {
   "cell_type": "markdown",
   "metadata": {},
   "source": [
    "## Analyzing Data\n",
    "There are a few garbage and repeating columns as well, I'm just going to take some that are of interest to me on first glance (real scientific, I know)."
   ]
  },
  {
   "cell_type": "code",
   "execution_count": 1,
   "metadata": {
    "collapsed": false
   },
   "outputs": [
    {
     "ename": "NameError",
     "evalue": "name 'teamAggDf' is not defined",
     "output_type": "error",
     "traceback": [
      "\u001b[1;31m---------------------------------------------------------------------------\u001b[0m",
      "\u001b[1;31mNameError\u001b[0m                                 Traceback (most recent call last)",
      "\u001b[1;32m<ipython-input-1-32a90bf2b6b3>\u001b[0m in \u001b[0;36m<module>\u001b[1;34m()\u001b[0m\n\u001b[0;32m      1\u001b[0m \u001b[1;31m# First, I'll just grab some columns that look useful to me\u001b[0m\u001b[1;33m\u001b[0m\u001b[1;33m\u001b[0m\u001b[0m\n\u001b[1;32m----> 2\u001b[1;33m teamAggDfToAnalyze = teamAggDf[[\n\u001b[0m\u001b[0;32m      3\u001b[0m     \u001b[1;34m'baseStats_Season'\u001b[0m\u001b[1;33m,\u001b[0m\u001b[1;33m\u001b[0m\u001b[0m\n\u001b[0;32m      4\u001b[0m     \u001b[1;34m'perGameStats_Tm'\u001b[0m\u001b[1;33m,\u001b[0m\u001b[1;33m\u001b[0m\u001b[0m\n\u001b[0;32m      5\u001b[0m     \u001b[1;34m'baseStats_W'\u001b[0m\u001b[1;33m,\u001b[0m\u001b[1;33m\u001b[0m\u001b[0m\n",
      "\u001b[1;31mNameError\u001b[0m: name 'teamAggDf' is not defined"
     ]
    }
   ],
   "source": [
    "# First, I'll just grab some columns that look useful to me\n",
    "teamAggDfToAnalyze = teamAggDf[[\n",
    "    'baseStats_Season',\n",
    "    'perGameStats_Tm',\n",
    "    'baseStats_W',\n",
    "    'baseStats_L',\n",
    "    'baseStats_W/L%',\n",
    "    'baseStats_SRS',\n",
    "    'baseStats_Pace',\n",
    "    'baseStats_Rel_Pace',\n",
    "    'baseStats_ORtg',\n",
    "    'baseStats_Rel_ORtg',\n",
    "    'baseStats_DRtg',\n",
    "    'baseStats_Rel_DRtg',\n",
    "    'perGameStats_Age',\n",
    "    'perGameStats_MP',\n",
    "    'perGameStats_FG',\n",
    "    'perGameStats_FGA',\n",
    "    'perGameStats_FG%',\n",
    "    'perGameStats_2P',\n",
    "    'perGameStats_2PA',\n",
    "    'perGameStats_2P%',\n",
    "    'perGameStats_3P',\n",
    "    'perGameStats_3PA',\n",
    "    'perGameStats_3P%',\n",
    "    'perGameStats_FT',\n",
    "    'perGameStats_FTA',\n",
    "    'perGameStats_FT%',\n",
    "    'perGameStats_ORB',\n",
    "    'perGameStats_DRB',\n",
    "    'perGameStats_TRB',\n",
    "    'perGameStats_AST',\n",
    "    'perGameStats_STL',\n",
    "    'perGameStats_BLK',\n",
    "    'perGameStats_TOV',\n",
    "    'perGameStats_PF',\n",
    "    'perGameStats_PTS',\n",
    "    'opponentPerGameStats_FG',\n",
    "    'opponentPerGameStats_FGA',\n",
    "    'opponentPerGameStats_FG%',\n",
    "    'opponentPerGameStats_3P',\n",
    "    'opponentPerGameStats_3PA',\n",
    "    'opponentPerGameStats_3P%',\n",
    "    'opponentPerGameStats_FT',\n",
    "    'opponentPerGameStats_FTA',\n",
    "    'opponentPerGameStats_FT%',\n",
    "    'opponentPerGameStats_ORB',\n",
    "    'opponentPerGameStats_DRB',\n",
    "    'opponentPerGameStats_TRB',\n",
    "    'opponentPerGameStats_AST',\n",
    "    'opponentPerGameStats_STL',\n",
    "    'opponentPerGameStats_BLK',\n",
    "    'opponentPerGameStats_TOV',\n",
    "    'opponentPerGameStats_PF',\n",
    "    'opponentPerGameStats_PTS'\n",
    "]]\n",
    "\n",
    "teamAggDfToAnalyze['season_start_year'] = teamAggDfToAnalyze['baseStats_Season'].apply(lambda x: x[:4])\n",
    "\n",
    "print teamAggDfToAnalyze.dtypes"
   ]
  },
  {
   "cell_type": "markdown",
   "metadata": {},
   "source": [
    "Phew, we have some data now. Let's try to just graph something. Let's look at raptors history."
   ]
  },
  {
   "cell_type": "code",
   "execution_count": 8,
   "metadata": {
    "collapsed": false
   },
   "outputs": [
    {
     "name": "stdout",
     "output_type": "stream",
     "text": [
      "(22, 53)\n"
     ]
    }
   ],
   "source": [
    "rapsDf = teamAggDfToAnalyze[teamAggDfToAnalyze['perGameStats_Tm'] == 'TOR']\n",
    "print rapsDf.shape"
   ]
  },
  {
   "cell_type": "code",
   "execution_count": 9,
   "metadata": {
    "collapsed": false
   },
   "outputs": [
    {
     "data": {
      "image/png": "[encoded data removed]",
      "text/plain": [
       "<matplotlib.figure.Figure at 0x8bc5d68>"
      ]
     },
     "metadata": {},
     "output_type": "display_data"
    }
   ],
   "source": [
    "plt.bar(\n",
    "    rapsDf['season_start_year'].tolist(), \n",
    "    rapsDf['baseStats_W'].tolist(),\n",
    "    color = 'red'\n",
    ")\n",
    "plt.xlabel('Season Start')\n",
    "plt.ylabel('Wins')\n",
    "plt.title('Raptors Historical Performance')\n",
    " \n",
    "plt.show()"
   ]
  },
  {
   "cell_type": "markdown",
   "metadata": {},
   "source": [
    "We can see three spikes... These seem to represent the Vince Carter, Chris Bosh, and KLow / DD eras.\n",
    "\n",
    "I know that there are two lockout seasons in there as well so that may throw the visual results off a little bit. Let's use Win% instead."
   ]
  },
  {
   "cell_type": "code",
   "execution_count": 10,
   "metadata": {
    "collapsed": false
   },
   "outputs": [
    {
     "data": {
      "image/png": "[encoded data removed]",
      "text/plain": [
       "<matplotlib.figure.Figure at 0xa3ea550>"
      ]
     },
     "metadata": {},
     "output_type": "display_data"
    }
   ],
   "source": [
    "plt.bar(\n",
    "    rapsDf['season_start_year'].tolist(), \n",
    "    rapsDf['baseStats_W/L%'].tolist(),\n",
    "    color = 'red'\n",
    ")\n",
    "plt.xlabel('Season Start Year')\n",
    "plt.ylabel('Win %')\n",
    "plt.title('Raptors Historical Performance')\n",
    " \n",
    "plt.show()"
   ]
  },
  {
   "cell_type": "markdown",
   "metadata": {},
   "source": [
    "How do you win games? POINTS! Let's see if scoring points matters in wins... at least for the raptors."
   ]
  },
  {
   "cell_type": "code",
   "execution_count": 11,
   "metadata": {
    "collapsed": false
   },
   "outputs": [
    {
     "data": {
      "image/png": "[encoded data removed]",
      "text/plain": [
       "<matplotlib.figure.Figure at 0x95be1d0>"
      ]
     },
     "metadata": {},
     "output_type": "display_data"
    }
   ],
   "source": [
    "plt.scatter(\n",
    "    rapsDf['perGameStats_PTS'].tolist(), \n",
    "    rapsDf['baseStats_W/L%'].tolist(),\n",
    "    color = 'red'\n",
    ")\n",
    "plt.xlabel('Points per Game')\n",
    "plt.ylabel('Win %')\n",
    "plt.title('Raptors Historical Performance')\n",
    " \n",
    "plt.show()"
   ]
  },
  {
   "cell_type": "markdown",
   "metadata": {},
   "source": [
    "Pretty much no correlation... small sample size perhaps?"
   ]
  },
  {
   "cell_type": "code",
   "execution_count": 12,
   "metadata": {
    "collapsed": false,
    "scrolled": true
   },
   "outputs": [
    {
     "data": {
      "image/png": "[encoded data removed]",
      "text/plain": [
       "<matplotlib.figure.Figure at 0x9932fd0>"
      ]
     },
     "metadata": {},
     "output_type": "display_data"
    }
   ],
   "source": [
    "plt.scatter(\n",
    "    teamAggDfToAnalyze['perGameStats_PTS'].tolist(), \n",
    "    teamAggDfToAnalyze['baseStats_W/L%'].tolist(),\n",
    "    color = 'red'\n",
    ")\n",
    "plt.xlabel('Points per Game')\n",
    "plt.ylabel('Win %')\n",
    "plt.title('NBA Historical Performance')\n",
    " \n",
    "plt.show()"
   ]
  },
  {
   "cell_type": "markdown",
   "metadata": {},
   "source": [
    "Nope, haha. This makes sense, I can't expect to moneyball it after one very obvious metric. After all, I've seen games where we've scored 120 and lost, and scored 70 and won (okay fine, I don't remember a SPECIFIC example... but it's happened in the league before).\n",
    "\n",
    "---"
   ]
  },
  {
   "cell_type": "markdown",
   "metadata": {},
   "source": [
    "## Efficiency\n",
    "Anyone can score 120. The run and gun suns averaged 110 during the D'Antoni era, and 120 dating back to the 80s and 90s (Barkley...? I'm not sure I'm too young and naive)."
   ]
  },
  {
   "cell_type": "code",
   "execution_count": 13,
   "metadata": {
    "collapsed": false
   },
   "outputs": [
    {
     "data": {
      "image/png": "[encoded data removed]",
      "text/plain": [
       "<matplotlib.figure.Figure at 0x9b0fac8>"
      ]
     },
     "metadata": {},
     "output_type": "display_data"
    }
   ],
   "source": [
    "sunsDf = teamAggDfToAnalyze[teamAggDfToAnalyze['perGameStats_Tm'] == 'PHO']\n",
    "\n",
    "plt.bar(\n",
    "    sunsDf['season_start_year'].tolist(), \n",
    "    sunsDf['perGameStats_PTS'].tolist(),\n",
    "    color = 'orange'\n",
    ")\n",
    "plt.xlabel('Season Start Year')\n",
    "plt.ylabel('Points per Game')\n",
    "plt.title('Suns Historical Scoring')\n",
    " \n",
    "plt.show()"
   ]
  },
  {
   "cell_type": "markdown",
   "metadata": {},
   "source": [
    "If I play pick up and just jack up 3's, I'm probably going to score a ton. Doesn't necessarily mean I win though:\n",
    "- I have to be efficient while doing it (If i'm taking 3 shots to get a 3 while my opponent scores every possession, they will win)\n",
    "- I have to also be playing defense (duh)\n",
    "\n",
    "At the end of the day, if I'm scoring more efficiently than my opponent. I win! Ignoring 3's for now, if I score 50/100 possessions of the game, and my opponent scores 49/100, I win.\n",
    "\n",
    "Instead of looking at scoring, let's look at **Offensive Rating** instead:\n",
    "\n",
    "$$ORtg=\\frac{Points\\ Scored}{100\\ Possessions}$$\n",
    "\n",
    "While we're at it, let's just define **Defensive Rating** too:\n",
    "\n",
    "$$DRtg=\\frac{Points\\ Allowed}{100\\ Possessions}$$"
   ]
  },
  {
   "cell_type": "code",
   "execution_count": 14,
   "metadata": {
    "collapsed": false
   },
   "outputs": [
    {
     "data": {
      "image/png": "[encoded data removed]",
      "text/plain": [
       "<matplotlib.figure.Figure at 0x9b162e8>"
      ]
     },
     "metadata": {},
     "output_type": "display_data"
    }
   ],
   "source": [
    "plt.scatter(\n",
    "    rapsDf['baseStats_ORtg'].tolist(), \n",
    "    rapsDf['baseStats_W/L%'].tolist(),\n",
    "    color = 'red'\n",
    ")\n",
    "plt.xlabel('Offensive Rating')\n",
    "plt.ylabel('Win %')\n",
    "plt.title('Raptors Historical Efficiency')\n",
    " \n",
    "plt.show()"
   ]
  },
  {
   "cell_type": "markdown",
   "metadata": {},
   "source": [
    "Hmm, I thought that would work. Guess not. Still looks pretty garbage. Perhaps even **worse**. Hail mary... small sample size?"
   ]
  },
  {
   "cell_type": "code",
   "execution_count": 15,
   "metadata": {
    "collapsed": false
   },
   "outputs": [
    {
     "data": {
      "image/png": "[encoded data removed]",
      "text/plain": [
       "<matplotlib.figure.Figure at 0x94a6c50>"
      ]
     },
     "metadata": {},
     "output_type": "display_data"
    }
   ],
   "source": [
    "plt.scatter(\n",
    "    teamAggDfToAnalyze['baseStats_ORtg'].tolist(), \n",
    "    teamAggDfToAnalyze['baseStats_W/L%'].tolist(),\n",
    "    color = 'red'\n",
    ")\n",
    "plt.xlabel('Offensive Rating')\n",
    "plt.ylabel('Win %')\n",
    "plt.title('NBA Historical Efficiency')\n",
    " \n",
    "plt.show()"
   ]
  },
  {
   "cell_type": "markdown",
   "metadata": {},
   "source": [
    "_**Maybe**_ better? Not quite sure... Ok, maybe I'm getting a bit _**too**_ ahead of myself here... Let's get back to the gist of my earlier theory on efficiency. If your efficiency, on average, is much greater than your opponents, you **MUST** be winning RIGHT?"
   ]
  },
  {
   "cell_type": "code",
   "execution_count": 16,
   "metadata": {
    "collapsed": false
   },
   "outputs": [
    {
     "name": "stderr",
     "output_type": "stream",
     "text": [
      "C:\\Users\\chixwang\\AppData\\Local\\Continuum\\Anaconda2\\lib\\site-packages\\ipykernel\\__main__.py:2: SettingWithCopyWarning: \n",
      "A value is trying to be set on a copy of a slice from a DataFrame.\n",
      "Try using .loc[row_indexer,col_indexer] = value instead\n",
      "\n",
      "See the caveats in the documentation: http://pandas.pydata.org/pandas-docs/stable/indexing.html#indexing-view-versus-copy\n",
      "  from ipykernel import kernelapp as app\n"
     ]
    },
    {
     "data": {
      "image/png": "[encoded data removed]",
      "text/plain": [
       "<matplotlib.figure.Figure at 0xb1e3ac8>"
      ]
     },
     "metadata": {},
     "output_type": "display_data"
    }
   ],
   "source": [
    "# Get the rating margin defined as ORtg - DRtg\n",
    "teamAggDfToAnalyze['rtg_diff'] = teamAggDfToAnalyze['baseStats_ORtg'] - teamAggDfToAnalyze['baseStats_DRtg']\n",
    "rapsDf = teamAggDfToAnalyze[teamAggDfToAnalyze['perGameStats_Tm'] == 'TOR']\n",
    "\n",
    "plt.scatter(\n",
    "    rapsDf['rtg_diff'].tolist(), \n",
    "    rapsDf['baseStats_W/L%'].tolist(),\n",
    "    color = 'red'\n",
    ")\n",
    "plt.xlabel('Offensive Rating - Defensive Rating')\n",
    "plt.ylabel('Win %')\n",
    "plt.title('Raptors Rating Margin')\n",
    "\n",
    "# Plot best fit line as well\n",
    "m, b = np.polyfit(\n",
    "    rapsDf['rtg_diff'].tolist(), \n",
    "    rapsDf['baseStats_W/L%'].tolist(),\n",
    "    1\n",
    ")\n",
    "\n",
    "plt.plot(\n",
    "    rapsDf['rtg_diff'].tolist(), \n",
    "    (m*rapsDf['rtg_diff'] + b).tolist(),\n",
    "    '-',\n",
    "    color = 'red',\n",
    ")\n",
    "\n",
    "plt.show()"
   ]
  },
  {
   "cell_type": "markdown",
   "metadata": {},
   "source": [
    "And for the whole league?"
   ]
  },
  {
   "cell_type": "code",
   "execution_count": 17,
   "metadata": {
    "collapsed": false
   },
   "outputs": [
    {
     "name": "stderr",
     "output_type": "stream",
     "text": [
      "C:\\Users\\chixwang\\AppData\\Local\\Continuum\\Anaconda2\\lib\\site-packages\\ipykernel\\__main__.py:2: SettingWithCopyWarning: \n",
      "A value is trying to be set on a copy of a slice from a DataFrame.\n",
      "Try using .loc[row_indexer,col_indexer] = value instead\n",
      "\n",
      "See the caveats in the documentation: http://pandas.pydata.org/pandas-docs/stable/indexing.html#indexing-view-versus-copy\n",
      "  from ipykernel import kernelapp as app\n"
     ]
    },
    {
     "data": {
      "text/plain": [
       "<matplotlib.text.Text at 0xa63af28>"
      ]
     },
     "execution_count": 17,
     "metadata": {},
     "output_type": "execute_result"
    },
    {
     "data": {
      "image/png": "[encoded data removed]",
      "text/plain": [
       "<matplotlib.figure.Figure at 0x33bef98>"
      ]
     },
     "metadata": {},
     "output_type": "display_data"
    }
   ],
   "source": [
    "# Get the rating margin defined as ORtg - DRtg\n",
    "teamAggDfToAnalyze['rtg_diff'] = teamAggDfToAnalyze['baseStats_ORtg'] - teamAggDfToAnalyze['baseStats_DRtg']\n",
    "\n",
    "plt.scatter(\n",
    "    teamAggDfToAnalyze['rtg_diff'].tolist(), \n",
    "    teamAggDfToAnalyze['baseStats_W/L%'].tolist(),\n",
    "    color = 'red'\n",
    ")\n",
    "plt.xlabel('Offensive Rating - Defensive Rating')\n",
    "plt.ylabel('Win %')\n",
    "plt.title('League Rating Margin')"
   ]
  },
  {
   "cell_type": "markdown",
   "metadata": {},
   "source": [
    "Thank god. This is finally  making a bit of sense. I just needed to know that I wasn't insane and that basketball is just complex in it's nature. Ok whatever fine both points are true."
   ]
  },
  {
   "cell_type": "code",
   "execution_count": 18,
   "metadata": {
    "collapsed": false
   },
   "outputs": [
    {
     "data": {
      "text/plain": [
       "0.51988679653679648"
      ]
     },
     "execution_count": 18,
     "metadata": {},
     "output_type": "execute_result"
    }
   ],
   "source": [
    "# Check covariance of rtg_diff\n",
    "np.cov(\n",
    "    rapsDf['rtg_diff'].tolist(), \n",
    "    rapsDf['baseStats_W/L%'].tolist()\n",
    ")[0, 1]"
   ]
  },
  {
   "cell_type": "code",
   "execution_count": 19,
   "metadata": {
    "collapsed": false
   },
   "outputs": [
    {
     "data": {
      "text/plain": [
       "0.30011948051948045"
      ]
     },
     "execution_count": 19,
     "metadata": {},
     "output_type": "execute_result"
    }
   ],
   "source": [
    "# And if we compare this to just ORtg...\n",
    "np.cov(\n",
    "    rapsDf['baseStats_ORtg'].tolist(), \n",
    "    rapsDf['baseStats_W/L%'].tolist()\n",
    ")[0, 1]"
   ]
  },
  {
   "cell_type": "markdown",
   "metadata": {},
   "source": [
    "This leaves more to be desired, but at the same time, it is **much** better than our original predictor. I've determined that if I score points more efficiently than my opponent, I win! I feel so accomplished... where's my  moneyball cheque?\n",
    "\n",
    "Visual representation of my analysis so far:\n",
    "\n",
    "<img src = \"http://www.raps.org/uploadedImages/Site_Setup/Regulatory_Focus/News/2015/03/Iceberg.jpg\" style = \"width: 200px;\"/>\n",
    "\n",
    "Actually, I think that's an insult to both basketball and the iceberg. My actual progress:\n",
    "\n",
    "<img src = \"http://www.snopes.com/photos/politics/graphics/binoc6.jpg\" style = \"width: 400px;\"/>"
   ]
  },
  {
   "cell_type": "markdown",
   "metadata": {},
   "source": [
    "Okay, so now we come to 2 more questions. What affects ORtg? What affects DRtg?\n",
    "\n",
    "We defined these earlier in this anaylsis as simply the amount of points you score and the amount of points you allow per 100 possessions. 100 is roughly the amount of possessions exchanged in a game. I'm sure 100 was picked because of that and the fact that it's a nice round number, but we can see that when we normalize the metric for possessions, it becomes a bit more meaningful to us."
   ]
  },
  {
   "cell_type": "markdown",
   "metadata": {},
   "source": [
    "## Conclusion\n",
    "That's it for now. One of my objectives was clearer communication, so I should probably stop packing more content into this one notebook. Some would scoff and say it's a lost cause already, and to those people, I scoff with you! But I'm a huge proponent of taking 80 steps back before taking 1 step forward!\n",
    "\n",
    "Below, we just save our dataframe to S3 so we don't have to spend the 5 minutes to scrape all the data again (and I'm sure basketball-reference wouldn't be happy about that)."
   ]
  },
  {
   "cell_type": "code",
   "execution_count": 20,
   "metadata": {
    "collapsed": false
   },
   "outputs": [
    {
     "data": {
      "text/plain": [
       "{u'ETag': '\"c367dc0f4ab2228b12e817e304776c9a\"',\n",
       " 'ResponseMetadata': {'HTTPHeaders': {'content-length': '0',\n",
       "   'date': 'Mon, 03 Apr 2017 17:04:48 GMT',\n",
       "   'etag': '\"c367dc0f4ab2228b12e817e304776c9a\"',\n",
       "   'server': 'AmazonS3',\n",
       "   'x-amz-id-2': 'NRk1o5HTW8BzWjSB+sAB4OGP9658Jdu5ABLytnKbpoAWqPm3NUwLqctHMFvxFlP0jyleOPt807Y=',\n",
       "   'x-amz-request-id': '7EE5DB9C49300666'},\n",
       "  'HTTPStatusCode': 200,\n",
       "  'HostId': 'NRk1o5HTW8BzWjSB+sAB4OGP9658Jdu5ABLytnKbpoAWqPm3NUwLqctHMFvxFlP0jyleOPt807Y=',\n",
       "  'RequestId': '7EE5DB9C49300666',\n",
       "  'RetryAttempts': 0}}"
      ]
     },
     "execution_count": 20,
     "metadata": {},
     "output_type": "execute_result"
    }
   ],
   "source": [
    "# Save data to S3 so we can use it for future analysis\n",
    "csv_buffer = StringIO()\n",
    "teamAggDfToAnalyze.to_csv(csv_buffer)\n",
    "s3_resource = boto3.resource('s3')\n",
    "s3_resource.Object('2017edmfasatb', 'fas_boto/data/teamAggDfToAnalyze.csv').put(Body=csv_buffer.getvalue())"
   ]
  }
 ],
 "metadata": {
  "kernelspec": {
   "display_name": "Python [Root]",
   "language": "python",
   "name": "Python [Root]"
  },
  "language_info": {
   "codemirror_mode": {
    "name": "ipython",
    "version": 2
   },
   "file_extension": ".py",
   "mimetype": "text/x-python",
   "name": "python",
   "nbconvert_exporter": "python",
   "pygments_lexer": "ipython2",
   "version": "2.7.11"
  }
 },
 "nbformat": 4,
 "nbformat_minor": 0
}
