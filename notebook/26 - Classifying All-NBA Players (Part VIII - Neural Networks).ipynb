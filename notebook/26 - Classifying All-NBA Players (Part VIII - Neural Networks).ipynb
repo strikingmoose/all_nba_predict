{
 "cells": [
  {
   "cell_type": "markdown",
   "metadata": {},
   "source": [
    "# 26 - Classifying All-NBA Players (Part VIII - Neural Networks)\n",
    "Alright, we're running out of classifiers for us to try here. We've already gotten some pretty decent results thus far. My personal favorite has probably been just a single decision tree or the random forest. The interpretability of those models are pretty cool. LDA and QDA are also pretty neat because of their simplicity, but the accuracy of the trees has literally been the best so far.\n",
    "\n",
    "I'm going to move on to Neural Networks in this post. I know for a fact that NN is overkill here because of\n",
    "1. How simple this application is\n",
    "2. How uninterpretable an NN is (I don't even think you can map a decision boundary...)\n",
    "\n",
    "but there's so much buzz around NNs... how can I resist!\n",
    "\n",
    "At the end of the day, an NN is basically just a linear sum of sigmoid functions... I think that's literally it! Through all the mess of the nodes, optimizing actually becomes quite easy because of the chain rule in calculus and leveraging gradient descent. Love it how something seemingly so complicated just ends up being so simple. So simple we can't even interpret the results... har har har...............\n",
    "\n",
    "Anyways, this video was a lifesaver for understanding NN's (as well as ESL):\n",
    "\n",
    "[![IMAGE ALT TEXT](http://img.youtube.com/vi/bH6VnezBZfI/0.jpg)](http://www.youtube.com/watch?v=bH6VnezBZfI \"Video Title\")\n",
    "\n",
    "It is really able to visually break down how an NN is constructed. To give a super quick rundown on an NN, we'll start off with what one even looks like:\n",
    "\n",
    "<img src=\"https://qph.ec.quoracdn.net/main-qimg-0b301ad05fd25916b36804a697fe6cea\" style=\"width: 400px;\"/>\n",
    "\n",
    "Yeah... pretty bad joke eh? I was on the fence. I think I'm getting way too deep into the modelling right now and I'm just barely trying on the jokes anymore. Oh well, I guess it's probably better this way than vice versa.\n",
    "\n",
    "Sorry, here's a real neural network... the STATISTICAL MODEL:\n",
    "\n",
    "<img src=\"https://s3.ca-central-1.amazonaws.com/2017edmfasatb/fas_boto/images/neuralnet/1neuralnetexample.png\" style=\"width: 500px;\"/>\n",
    "\n",
    "The above was taken from ESL and shows your 'vanilla' single layer neural network. In the case of regression, we have a single output node and that output node will be the value of the regressed output. In the case of classification, we have the same number of output nodes as we have classes, and each node will output the probability of the result being that class.\n",
    "\n",
    "The number of input nodes will always match the number of features we have. The number of hidden layer nodes (and hidden layers themselves) will govern the complexity of the neural network. The more hidden layer nodes, the more complex a neural network can become and the more flexibility it has to map abstract functions.\n",
    "\n",
    "If the last paragraph didn't make sense, it likely will by the end of this introduction.\n",
    "\n",
    "Again, a neural network is simply viewed as a linear combination of sigmoid functions. Each node basically has a sigmoid function and a weight tied to it:\n",
    "\n",
    "<img src=\"https://s3.ca-central-1.amazonaws.com/2017edmfasatb/fas_boto/images/neuralnet/2sigmoid.png\" style=\"width: 400px;\"/>\n",
    "\n",
    "The sigmoid function is basically a smoothed out step function. Let's forget the sigmoid for now and just look at a simple step function. We can imagine a situation where a simple step function is all we need to perform a regression or classification... see below:\n",
    "\n",
    "<img src=\"https://s3.ca-central-1.amazonaws.com/2017edmfasatb/fas_boto/images/neuralnet/3simplefunc.png\" style=\"width: 200px;\"/>\n",
    "\n",
    "This function is nice. It's simple, it gets most of the job done, but it doesnt get the entire job done. We've misclassified one blue point and one red point. If we bend our step function a bit, we can get the following model:\n",
    "\n",
    "<img src=\"https://s3.ca-central-1.amazonaws.com/2017edmfasatb/fas_boto/images/neuralnet/4complexfunc.png\" style=\"width: 200px;\"/>\n",
    "\n",
    "Here, we're getting all the points. Does it overfit? That really depends on test data, but for the purposes of the training data, we're happy we've even found a _**function at all**_ that can get 100% accuracy on the training data. How do we make this function??\n",
    "\n",
    "Well, we can do so by actually simply combining multiple step functions! If they are shifted and weighted with a magnitude, we can use an infinite amount (or a large amount) to build whatever model we want!\n",
    "\n",
    "<img src=\"https://s3.ca-central-1.amazonaws.com/2017edmfasatb/fas_boto/images/neuralnet/5linearsumfuncs.png\" style=\"width: 400px;\"/>\n",
    "\n",
    "We can see that this is basically what the neural net is doing. It's trying to find some possible way of building the optimal function based on the shifts and weights of its nodes:\n",
    "\n",
    "<img src=\"https://s3.ca-central-1.amazonaws.com/2017edmfasatb/fas_boto/images/neuralnet/6neuralnetworkstep.png\" style=\"width: 500px;\"/>\n",
    "\n",
    "How do we perform this optimization? We essentially take a look at the last output and simply take the derivative to see if we can gradient descent to a local optimum (yeah, we could get stuck in local optimas here...). This may seem like a pretty crazy derivative to take... we have so many factors that affect our output and we basically have to take the partial derivates of our final output with respect to all these parameters, but the chain rule actually allows these calculations to be somewhat scalable, at least to the point that the calculations scale linearly and a computer is able to handle it. More information can be found in the video as I won't go into the heavy math here.\n",
    "\n",
    "If we abstract this step function idea to use the sigmoid function with another parameter to adjust the \"smoothness\" of the sigmoid function, we've just unlocked a ridiculous amount of freedom to model... well... basically _**any**_ function!\n",
    "\n",
    "<img src=\"https://s3.ca-central-1.amazonaws.com/2017edmfasatb/fas_boto/images/neuralnet/7neuralnetworksigmoid.png\" style=\"width: 500px;\"/>\n",
    "\n",
    "Let's try one out!"
   ]
  },
  {
   "cell_type": "code",
   "execution_count": 1,
   "metadata": {
    "collapsed": true
   },
   "outputs": [],
   "source": [
    "# Load libraries & initial config\n",
    "%load_ext rpy2.ipython\n",
    "\n",
    "%R library(ggplot2)\n",
    "%R library(gridExtra)\n",
    "%R library(scales)\n",
    "%R library(ggbiplot)\n",
    "%R library(dplyr)\n",
    "\n",
    "%matplotlib nbagg\n",
    "import pandas as pd\n",
    "import numpy as np\n",
    "import matplotlib.pyplot as plt\n",
    "import boto3\n",
    "from StringIO import StringIO\n",
    "import warnings\n",
    "warnings.filterwarnings('ignore')"
   ]
  },
  {
   "cell_type": "code",
   "execution_count": 2,
   "metadata": {
    "scrolled": true
   },
   "outputs": [
    {
     "name": "stdout",
     "output_type": "stream",
     "text": [
      "season_start_year          int64\n",
      "perGameStats_Player       object\n",
      "perGameStats_Pos          object\n",
      "perGameStats_Age           int64\n",
      "perGameStats_Tm           object\n",
      "perGameStats_G             int64\n",
      "perGameStats_GS          float64\n",
      "perGameStats_MP          float64\n",
      "per100Stats_FG           float64\n",
      "per100Stats_FGA          float64\n",
      "per100Stats_FGPerc       float64\n",
      "per100Stats_3P           float64\n",
      "per100Stats_3PA          float64\n",
      "per100Stats_3PPerc       float64\n",
      "per100Stats_2P           float64\n",
      "per100Stats_2PA          float64\n",
      "per100Stats_2PPerc       float64\n",
      "per100Stats_FT           float64\n",
      "per100Stats_FTA          float64\n",
      "per100Stats_FTPerc       float64\n",
      "per100Stats_ORB          float64\n",
      "per100Stats_DRB          float64\n",
      "per100Stats_TRB          float64\n",
      "per100Stats_AST          float64\n",
      "per100Stats_STL          float64\n",
      "per100Stats_BLK          float64\n",
      "per100Stats_TOV          float64\n",
      "per100Stats_PF           float64\n",
      "per100Stats_PTS          float64\n",
      "per100Stats_ORtg         float64\n",
      "per100Stats_DRtg         float64\n",
      "advancedStats_PER        float64\n",
      "advancedStats_TSPerc     float64\n",
      "advancedStats_3PAr       float64\n",
      "advancedStats_FTr        float64\n",
      "advancedStats_ORBPerc    float64\n",
      "advancedStats_DRBPerc    float64\n",
      "advancedStats_TRBPerc    float64\n",
      "advancedStats_ASTPerc    float64\n",
      "advancedStats_STLPerc    float64\n",
      "advancedStats_BLKPerc    float64\n",
      "advancedStats_TOVPerc    float64\n",
      "advancedStats_USGPerc    float64\n",
      "advancedStats_OWS        float64\n",
      "advancedStats_DWS        float64\n",
      "advancedStats_WS         float64\n",
      "advancedStats_WS48       float64\n",
      "advancedStats_OBPM       float64\n",
      "advancedStats_DBPM       float64\n",
      "advancedStats_BPM        float64\n",
      "advancedStats_VORP       float64\n",
      "player_formatted          object\n",
      "Tm                        object\n",
      "Player_x                  object\n",
      "Player_y                  object\n",
      "all_star                  object\n",
      "accolades                 object\n",
      "accolades_any_team        object\n",
      "VORP_WS_sum              float64\n",
      "accolades_all_nba         object\n",
      "dtype: object\n"
     ]
    }
   ],
   "source": [
    "# Retrieve team stats from S3\n",
    "playerAggDfAllNbaAllStar = pd.read_csv('https://s3.ca-central-1.amazonaws.com/2017edmfasatb/fas_boto/data/playerAggDfAllNbaAllStar.csv', index_col = 0)\n",
    "\n",
    "pd.set_option('display.max_rows', len(playerAggDfAllNbaAllStar.dtypes))\n",
    "print playerAggDfAllNbaAllStar.dtypes\n",
    "pd.reset_option('display.max_rows')"
   ]
  },
  {
   "cell_type": "markdown",
   "metadata": {},
   "source": [
    "First, we actually scale our inputs. The reasoning for this is apparently not much to do with the functionality of the model itself (as nodes can be reweighted accordingly to the scale that the inputs are on), but it actually helps make the process more efficient and apparently helps avoid getting stuck in a local optima."
   ]
  },
  {
   "cell_type": "code",
   "execution_count": 3,
   "metadata": {},
   "outputs": [],
   "source": [
    "%%R -i playerAggDfAllNbaAllStar\n",
    "\n",
    "# Scale inputs\n",
    "playerAggDfAllNbaAllStar['advancedStats_WS_scaled'] = scale(playerAggDfAllNbaAllStar['advancedStats_WS'])\n",
    "playerAggDfAllNbaAllStar['advancedStats_VORP_scaled'] = scale(playerAggDfAllNbaAllStar['advancedStats_VORP'])\n",
    "playerAggDfAllNbaAllStar['accolades_all_nba_coded'] = ifelse(playerAggDfAllNbaAllStar['accolades_all_nba'] == 'All-NBA', 1, 0)"
   ]
  },
  {
   "cell_type": "code",
   "execution_count": 5,
   "metadata": {},
   "outputs": [],
   "source": [
    "%%R\n",
    "\n",
    "library(neuralnet)\n",
    "\n",
    "# Build neural net\n",
    "nnModel = neuralnet(\n",
    "    accolades_all_nba_coded ~ advancedStats_WS_scaled + advancedStats_VORP_scaled,\n",
    "    data = playerAggDfAllNbaAllStar,\n",
    "    hidden = 2,\n",
    "    err.fct = 'ce',\n",
    "    lifesign = 'full',\n",
    "    linear.output = FALSE\n",
    ")"
   ]
  },
  {
   "cell_type": "markdown",
   "metadata": {},
   "source": [
    "That neural net took... _**5 minutes**_ to train!!! I thought I was being cute with just one hidden layer with two nodes, but apparently that still takes 5 minutes. In the console, I could see the output from the 'lifesign' parameter, which simply gives us a verbose update. The output did say the neural net was working towards a 0.01 error thersholdon the partial derivatives... I'll have to review what exactly this threshold is but that's definitely a place to start if I ever wanted to lower the training time!\n",
    "\n",
    "Let's take a look at the ROC curve from this model."
   ]
  },
  {
   "cell_type": "code",
   "execution_count": 43,
   "metadata": {},
   "outputs": [
    {
     "data": {
      "image/png": "[encoded data removed]"
     },
     "metadata": {},
     "output_type": "display_data"
    }
   ],
   "source": [
    "%%R\n",
    "\n",
    "library(neuralnet)\n",
    "\n",
    "# Use the tree library to predict probabilities\n",
    "nnModelPred = compute(nnModel, playerAggDfAllNbaAllStar[,c('advancedStats_WS_scaled', 'advancedStats_VORP_scaled')])\n",
    "\n",
    "# There are \"prediction\" functions in both the neuralnet and ROCR package, we can't have both loaded in at the same time\n",
    "detach(package:neuralnet,unload = T)\n",
    "library(ROCR)\n",
    "\n",
    "# Use the ROCR library to build the ROC curve\n",
    "nnModelPredObj = prediction(nnModelPred$net.result, ifelse(playerAggDfAllNbaAllStar['accolades_all_nba'] == 'All-NBA', TRUE, FALSE))\n",
    "\n",
    "# Run performance evaluation for the metric 'total accuracy'\n",
    "nnModelRocEval = performance(nnModelPredObj, 'sens', 'spec')\n",
    "plot(nnModelRocEval, colorize = T)\n",
    "text(\n",
    "    0.2, \n",
    "    0.08, \n",
    "    labels = paste(\"AUC = \", round(performance(nnModelPredObj, 'auc')@y.values[[1]], digits = 4), sep= \"\"), \n",
    "    adj = 1\n",
    ")"
   ]
  },
  {
   "cell_type": "markdown",
   "metadata": {},
   "source": [
    "Wow, there we go, I don't know if we really need anything more here! I'm getting the same AUC as the decision tree I built before, and let's take a look at the best sens / spec metrics:"
   ]
  },
  {
   "cell_type": "code",
   "execution_count": 44,
   "metadata": {},
   "outputs": [
    {
     "data": {
      "text/html": [
       "<div>\n",
       "<table border=\"1\" class=\"dataframe\">\n",
       "  <thead>\n",
       "    <tr style=\"text-align: right;\">\n",
       "      <th></th>\n",
       "      <th>cut</th>\n",
       "      <th>sens</th>\n",
       "      <th>spec</th>\n",
       "      <th>sens_plus_spec</th>\n",
       "    </tr>\n",
       "  </thead>\n",
       "  <tbody>\n",
       "    <tr>\n",
       "      <th>1037</th>\n",
       "      <td>0.044727</td>\n",
       "      <td>0.921764</td>\n",
       "      <td>0.944223</td>\n",
       "      <td>1.865988</td>\n",
       "    </tr>\n",
       "    <tr>\n",
       "      <th>1036</th>\n",
       "      <td>0.044851</td>\n",
       "      <td>0.921922</td>\n",
       "      <td>0.944223</td>\n",
       "      <td>1.866145</td>\n",
       "    </tr>\n",
       "    <tr>\n",
       "      <th>1035</th>\n",
       "      <td>0.044892</td>\n",
       "      <td>0.922000</td>\n",
       "      <td>0.944223</td>\n",
       "      <td>1.866223</td>\n",
       "    </tr>\n",
       "    <tr>\n",
       "      <th>1034</th>\n",
       "      <td>0.045058</td>\n",
       "      <td>0.922236</td>\n",
       "      <td>0.944223</td>\n",
       "      <td>1.866459</td>\n",
       "    </tr>\n",
       "    <tr>\n",
       "      <th>1033</th>\n",
       "      <td>0.045303</td>\n",
       "      <td>0.922393</td>\n",
       "      <td>0.944223</td>\n",
       "      <td>1.866617</td>\n",
       "    </tr>\n",
       "    <tr>\n",
       "      <th>1032</th>\n",
       "      <td>0.045469</td>\n",
       "      <td>0.922472</td>\n",
       "      <td>0.944223</td>\n",
       "      <td>1.866695</td>\n",
       "    </tr>\n",
       "  </tbody>\n",
       "</table>\n",
       "</div>"
      ],
      "text/plain": [
       "           cut      sens      spec  sens_plus_spec\n",
       "1037  0.044727  0.921764  0.944223        1.865988\n",
       "1036  0.044851  0.921922  0.944223        1.866145\n",
       "1035  0.044892  0.922000  0.944223        1.866223\n",
       "1034  0.045058  0.922236  0.944223        1.866459\n",
       "1033  0.045303  0.922393  0.944223        1.866617\n",
       "1032  0.045469  0.922472  0.944223        1.866695"
      ]
     },
     "execution_count": 44,
     "metadata": {},
     "output_type": "execute_result"
    }
   ],
   "source": [
    "# Retrieve the iterative cut-off sensitivity analysis that logistic regression did behind the scenes\n",
    "%R cutoffs = data.frame(cut = nnModelRocEval@alpha.values[[1]], sens = nnModelRocEval@x.values[[1]], spec = nnModelRocEval@y.values[[1]])\n",
    "\n",
    "# Calculate the metrics sensitivity + specificity. This will help us gauge the accuracy of both classes simultaneously.\n",
    "#   E.g. if we were guessing each class 100% correctly (there is a very distinct decision boundary), then we would have 1 + 1 = 2\n",
    "%R cutoffs['sens_plus_spec'] = cutoffs['sens'] + cutoffs['spec']\n",
    "\n",
    "# See the last few rows of this dataframe where the sensitivity + specificity are at its max\n",
    "%R tail(cutoffs[order(cutoffs$sens_plus_spec),])"
   ]
  },
  {
   "cell_type": "markdown",
   "metadata": {},
   "source": [
    "94% / 92%... Not bad at all!\n",
    "\n",
    "One characteristic of neural nets is that we essentially start with random weights. The randomization of weights may cause us to live in a local maxima, or depending on how we stop our neural network (maximum # of iterations? error threshold?), we can actually end up with different results per neural network.\n",
    "\n",
    "The neuralnet library has a rep function which allows us to train multiple nets with random starting weights to see if any of them do better than the others."
   ]
  },
  {
   "cell_type": "code",
   "execution_count": 6,
   "metadata": {},
   "outputs": [],
   "source": [
    "%%R\n",
    "\n",
    "library(neuralnet)\n",
    "\n",
    "# Build neural net, repeating 5 times, storing 5 models\n",
    "nnModelRep5 = neuralnet(\n",
    "    accolades_all_nba_coded ~ advancedStats_WS_scaled + advancedStats_VORP_scaled,\n",
    "    data = playerAggDfAllNbaAllStar,\n",
    "    hidden = 2,\n",
    "    threshold = 0.05,\n",
    "    err.fct = 'ce',\n",
    "    lifesign = 'full',\n",
    "    lifesign.step = 5000,\n",
    "    linear.output = FALSE,\n",
    "    rep = 5\n",
    ")"
   ]
  },
  {
   "cell_type": "markdown",
   "metadata": {},
   "source": [
    "Grr, getting R to output in python via rpy2 is pretty annoying... For now, I'm just going to post the output of the neural network model above:\n",
    "\n",
    "hidden: 2    thresh: 0.05    rep: 1/5    steps:    5000 min thresh: 0.2075644215\n",
    "- 10000 min thresh: 0.06847760868\n",
    "- 13958 error: 791.3198\n",
    "\n",
    "time: 58.47 secs\n",
    "\n",
    "hidden: 2    thresh: 0.05    rep: 2/5    steps:    5000 min thresh: 0.3481586632\n",
    "- 10000 min thresh: 0.07653071371\n",
    "- 15000 min thresh: 0.05960859873\n",
    "- 15895 error: 791.35664\n",
    "\n",
    "time: 1.08 mins\n",
    "\n",
    "hidden: 2    thresh: 0.05    rep: 3/5    steps:    5000 min thresh: 0.3468716589\n",
    "- 10000 min thresh: 0.1031144785\n",
    "- 12088 error: 791.40614\n",
    "\n",
    "time: 49.1 secs\n",
    "\n",
    "hidden: 2    thresh: 0.05    rep: 4/5    steps:    5000 min thresh: 0.3831256971\n",
    "- 10000 min thresh: 0.255341992\n",
    "- 15000 min thresh: 0.128692032\n",
    "- 20000 min thresh: 0.07226071298\n",
    "- 25000 min thresh: 0.05648458323\n",
    "- 30000 min thresh: 0.05648458323\n",
    "- 34545 error: 791.49393\n",
    "\n",
    "time: 2.41 mins\n",
    "\n",
    "hidden: 2    thresh: 0.05    rep: 5/5    steps:    5000 min thresh: 0.3445472464\n",
    "- 10000 min thresh: 0.2133537315\n",
    "- 15000 min thresh: 0.08043855153\n",
    "- 17972 error: 791.36269\n",
    "time: 1.3 mins"
   ]
  },
  {
   "cell_type": "markdown",
   "metadata": {},
   "source": [
    "All the errors are more or less the same, and in fact it's quite close to what it was even for the 0.01 threshold as well! In this case, I don't think it really matters which model I take necessarily... Let's just take the first model."
   ]
  },
  {
   "cell_type": "code",
   "execution_count": 8,
   "metadata": {},
   "outputs": [
    {
     "data": {
      "image/png": "[encoded data removed]"
     },
     "metadata": {},
     "output_type": "display_data"
    }
   ],
   "source": [
    "%%R\n",
    "\n",
    "library(neuralnet)\n",
    "\n",
    "# Use the tree library to predict probabilities\n",
    "nnModelRep5Pred = compute(nnModelRep5, playerAggDfAllNbaAllStar[,c('advancedStats_WS_scaled', 'advancedStats_VORP_scaled')], rep = 1)\n",
    "\n",
    "# There are \"prediction\" functions in both the neuralnet and ROCR package, we can't have both loaded in at the same time\n",
    "detach(package:neuralnet,unload = T)\n",
    "library(ROCR)\n",
    "\n",
    "# Use the ROCR library to build the ROC curve\n",
    "nnModelRep5PredObj = prediction(nnModelRep5Pred$net.result, ifelse(playerAggDfAllNbaAllStar['accolades_all_nba'] == 'All-NBA', TRUE, FALSE))\n",
    "\n",
    "# Run performance evaluation for the metric 'total accuracy'\n",
    "nnModelRep5RocEval = performance(nnModelRep5PredObj, 'sens', 'spec')\n",
    "plot(nnModelRep5RocEval, colorize = T)\n",
    "text(\n",
    "    0.2, \n",
    "    0.08, \n",
    "    labels = paste(\"AUC = \", round(performance(nnModelRep5PredObj, 'auc')@y.values[[1]], digits = 4), sep= \"\"), \n",
    "    adj = 1\n",
    ")"
   ]
  },
  {
   "cell_type": "markdown",
   "metadata": {},
   "source": [
    "Pretty solid. I wonder if having more hidden layers would do any better?"
   ]
  },
  {
   "cell_type": "code",
   "execution_count": 9,
   "metadata": {
    "collapsed": true
   },
   "outputs": [],
   "source": [
    "%%R\n",
    "\n",
    "library(neuralnet)\n",
    "\n",
    "# Build neural net, repeating 5 times, storing 5 models\n",
    "nnModel2Hidden = neuralnet(\n",
    "    accolades_all_nba_coded ~ advancedStats_WS_scaled + advancedStats_VORP_scaled,\n",
    "    data = playerAggDfAllNbaAllStar,\n",
    "    hidden = c(2, 2),\n",
    "    threshold = 0.05,\n",
    "    err.fct = 'ce',\n",
    "    lifesign = 'full',\n",
    "    lifesign.step = 5000,\n",
    "    linear.output = FALSE,\n",
    "    rep = 5\n",
    ")"
   ]
  },
  {
   "cell_type": "markdown",
   "metadata": {},
   "source": [
    "Output:\n",
    "\n",
    "hidden: 2, 2    thresh: 0.05    rep: 1/5    steps:    5000      min thresh: 0.3955336051\n",
    "- 10000 min thresh: 0.3955336051\n",
    "- 15000      min thresh: 0.3955336051\n",
    "- 20000      min thresh: 0.2944346891\n",
    "- 25000      min thresh: 0.1514456265\n",
    "- 30000      min thresh: 0.1359256709\n",
    "- 35000      min thresh: 0.09372016559\n",
    "- 40000      min thresh: 0.05227332562\n",
    "- 45000      min thresh: 0.05227332562\n",
    "- 46863      error: 791.34253        \n",
    "\n",
    "time: 5.12 mins\n",
    "\n",
    "hidden: 2, 2    thresh: 0.05    rep: 2/5    steps:    5000      min thresh: 0.6179241594\n",
    "- 10000      min thresh: 0.3148427128\n",
    "- 15000      min thresh: 0.1755151267\n",
    "- 20000      min thresh: 0.08121020021\n",
    "- 25000      min thresh: 0.06796550208\n",
    "- 30000      min thresh: 0.05359180631\n",
    "- 31160      error: 791.3182\n",
    "\n",
    "time: 3.6 mins\n",
    "\n",
    "hidden: 2, 2    thresh: 0.05    rep: 3/5    steps:    5000      min thresh: 0.336480323\n",
    "- 10000      min thresh: 0.194590099\n",
    "- 15000      min thresh: 0.1081819564\n",
    "- 20000      min thresh: 0.08069576852\n",
    "- 20743      error: 791.37022\n",
    "\n",
    "time: 2.37 mins\n",
    "\n",
    "hidden: 2, 2    thresh: 0.05    rep: 4/5    steps:    5000      min thresh: 0.4791332965\n",
    "- 10000      min thresh: 0.3788586331\n",
    "- 15000      min thresh: 0.1683987977\n",
    "- 20000      min thresh: 0.09008662785\n",
    "- 25000      min thresh: 0.09008662785\n",
    "- 30000      min thresh: 0.08226159099\n",
    "- 35000      min thresh: 0.08039260278\n",
    "- 40000      min thresh: 0.07640665468\n",
    "- 45000      min thresh: 0.06796039954\n",
    "- 50000      min thresh: 0.0613511424\n",
    "- 54612      error: 791.35667\n",
    "\n",
    "time: 6.31 mins\n",
    "\n",
    "hidden: 2, 2    thresh: 0.05    rep: 5/5    steps:    5000      min thresh: 0.3201829626\n",
    "- 10000      min thresh: 0.1041002266\n",
    "- 15000      min thresh: 0.08308167395\n",
    "- 20000      min thresh: 0.06539671163\n",
    "- 25000      min thresh: 0.0535168671\n",
    "- 28251      error: 791.34216\n",
    "\n",
    "time: 3.31 mins"
   ]
  },
  {
   "cell_type": "markdown",
   "metadata": {},
   "source": [
    "Here, we see that our model definitely took longer to train (and also quite inconsistent actually ranging from 3-6 mins), but the error remains about the same it was before... Let's check the AUC real quick of th ebest model (model \\#2):"
   ]
  },
  {
   "cell_type": "code",
   "execution_count": 11,
   "metadata": {},
   "outputs": [
    {
     "data": {
      "image/png": "[encoded data removed]"
     },
     "metadata": {},
     "output_type": "display_data"
    }
   ],
   "source": [
    "%%R\n",
    "\n",
    "library(neuralnet)\n",
    "\n",
    "# Use the tree library to predict probabilities\n",
    "nnModel2HiddenPred = compute(nnModel2Hidden, playerAggDfAllNbaAllStar[,c('advancedStats_WS_scaled', 'advancedStats_VORP_scaled')], rep = 2)\n",
    "\n",
    "# There are \"prediction\" functions in both the neuralnet and ROCR package, we can't have both loaded in at the same time\n",
    "detach(package:neuralnet,unload = T)\n",
    "library(ROCR)\n",
    "\n",
    "# Use the ROCR library to build the ROC curve\n",
    "nnModel2HiddenPredObj = prediction(nnModel2HiddenPred$net.result, ifelse(playerAggDfAllNbaAllStar['accolades_all_nba'] == 'All-NBA', TRUE, FALSE))\n",
    "\n",
    "# Run performance evaluation for the metric 'total accuracy'\n",
    "nnModel2HiddenRocEval = performance(nnModel2HiddenPredObj, 'sens', 'spec')\n",
    "plot(nnModel2HiddenRocEval, colorize = T)\n",
    "text(\n",
    "    0.2, \n",
    "    0.08, \n",
    "    labels = paste(\"AUC = \", round(performance(nnModel2HiddenPredObj, 'auc')@y.values[[1]], digits = 4), sep= \"\"), \n",
    "    adj = 1\n",
    ")"
   ]
  },
  {
   "cell_type": "markdown",
   "metadata": {},
   "source": [
    "Same thing! Doesn't look like we need the complexity of 2 hidden nodes especially with the 6x training time. Probably even 1 hidden layer node is good!"
   ]
  },
  {
   "cell_type": "code",
   "execution_count": 12,
   "metadata": {
    "collapsed": true
   },
   "outputs": [],
   "source": [
    "%%R\n",
    "\n",
    "library(neuralnet)\n",
    "\n",
    "# Build neural net, repeating 5 times, storing 5 models\n",
    "nnModel1Hidden = neuralnet(\n",
    "    accolades_all_nba_coded ~ advancedStats_WS_scaled + advancedStats_VORP_scaled,\n",
    "    data = playerAggDfAllNbaAllStar,\n",
    "    hidden = 1,\n",
    "    threshold = 0.05,\n",
    "    err.fct = 'ce',\n",
    "    lifesign = 'full',\n",
    "    lifesign.step = 5000,\n",
    "    linear.output = FALSE,\n",
    "    rep = 5\n",
    ")"
   ]
  },
  {
   "cell_type": "markdown",
   "metadata": {},
   "source": [
    "I'll spare the entire output, but we're getting around 798 error, higher than before!"
   ]
  },
  {
   "cell_type": "code",
   "execution_count": 14,
   "metadata": {},
   "outputs": [
    {
     "data": {
      "image/png": "[encoded data removed]"
     },
     "metadata": {},
     "output_type": "display_data"
    }
   ],
   "source": [
    "%%R\n",
    "\n",
    "library(neuralnet)\n",
    "\n",
    "# Use the tree library to predict probabilities\n",
    "nnModel1HiddenPred = compute(nnModel1Hidden, playerAggDfAllNbaAllStar[,c('advancedStats_WS_scaled', 'advancedStats_VORP_scaled')], rep = 2)\n",
    "\n",
    "# There are \"prediction\" functions in both the neuralnet and ROCR package, we can't have both loaded in at the same time\n",
    "detach(package:neuralnet,unload = T)\n",
    "library(ROCR)\n",
    "\n",
    "# Use the ROCR library to build the ROC curve\n",
    "nnModel1HiddenPredObj = prediction(nnModel1HiddenPred$net.result, ifelse(playerAggDfAllNbaAllStar['accolades_all_nba'] == 'All-NBA', TRUE, FALSE))\n",
    "\n",
    "# Run performance evaluation for the metric 'total accuracy'\n",
    "nnModel1HiddenRocEval = performance(nnModel1HiddenPredObj, 'sens', 'spec')\n",
    "plot(nnModel1HiddenRocEval, colorize = T)\n",
    "text(\n",
    "    0.2, \n",
    "    0.08, \n",
    "    labels = paste(\"AUC = \", round(performance(nnModel1HiddenPredObj, 'auc')@y.values[[1]], digits = 4), sep= \"\"), \n",
    "    adj = 1\n",
    ")"
   ]
  },
  {
   "cell_type": "markdown",
   "metadata": {},
   "source": [
    "We lost about 0.0001 on our AUC, in other words, we really really don't care. I can see how people get deep into NN's now... just picking what's in the hidden layers is an interesting exercise in itself, and for something like image detection, I feel like we could spend... what... days on end just tweaking that one parameter.\n",
    "\n",
    "I would try to perform CV, but I might have to wait overnight before I kick off that script... At the fastest we were running at around 1.5 mins per model to train. If we're performing let's say even 5 fold CV and turning the repetition off on the NN and trying 1-5 hidden layer nodes, we're still looking at $5\\ nodes \\times 5\\ CV \\times 1.5\\ mins = 37.5\\ minutes$.\n",
    "\n",
    "Alright that's not HORRIBLE, but it is pretty annoying considering we can grow a tree in like 0.0000000000000001 seconds and get pretty much the same result lol.\n",
    "\n",
    "I don't even think the neuralnet package has a built in cross validation tuning function like the svm package did. I'll just leave this for now, but again, great predictive accuracy."
   ]
  }
 ],
 "metadata": {
  "anaconda-cloud": {},
  "kernelspec": {
   "display_name": "Python [conda root]",
   "language": "python",
   "name": "conda-root-py"
  },
  "language_info": {
   "codemirror_mode": {
    "name": "ipython",
    "version": 2
   },
   "file_extension": ".py",
   "mimetype": "text/x-python",
   "name": "python",
   "nbconvert_exporter": "python",
   "pygments_lexer": "ipython2",
   "version": "2.7.12"
  }
 },
 "nbformat": 4,
 "nbformat_minor": 1
}
