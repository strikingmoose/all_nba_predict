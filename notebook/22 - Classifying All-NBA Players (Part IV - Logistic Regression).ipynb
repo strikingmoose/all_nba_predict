{
 "cells": [
  {
   "cell_type": "markdown",
   "metadata": {},
   "source": [
    "# Classifying All-NBA Players (Part IV - Logistic Regression)\n",
    "Okay. So last time, we tried looking at LDA and QDA in addition to our manually chosen linear decision boundary to classify if players are all-NBA team worthy or not. We got the following results:\n",
    "- Manually chosen linear decision boundary - 93% / 92% accuracy for all-NBA / non all-NBA respectively\n",
    "- LDA - 69% / 98% accuracy for all-NBA / non all-NBA respectively\n",
    "- QDA - 73% / 98% accuracy for all-NBA / non all-NBA respectively\n",
    "\n",
    "Decent results. Not the greatest. These two dont touch the accuracy I've been able to get with my manually selected linear decision boundary (post 19).\n",
    "\n",
    "I'm going to try another model to see if we can see any improvement. I'm just kinda going down the list one by one, so I'll skip to logistic regression next.\n",
    "\n",
    "## Logistic Regression\n",
    "Okay, so how the hell does logistic regression work... Let's start with one perdictor and a classification outcome. For this, I'm going to refer to a [youtube video](https://www.youtube.com/watch?v=zAULhNrnuL4) that I found quite useful in solidifying my basic understanding.\n",
    "\n",
    "We start with a single predictor model and 2 classes of prediction. We have a credit score and are trying to determine how this credit score affects the our probabilities of getting approved for a... loan I think it was in the video?\n",
    "\n",
    "<img src=\"https://s3.ca-central-1.amazonaws.com/2017edmfasatb/fas_boto/images/logreg/1example.png\" width=\"400\">\n",
    "\n",
    "Above is the scatterplot for what this would look like _**assuming a quantitative representaton**_ of our output classes. Here, we've assigned _**1 as approve**_ and _**0 as deny**_. This then _**could**_ become a linear regression problem, pretending our results are quantitative results.\n",
    "\n",
    "<img src=\"https://s3.ca-central-1.amazonaws.com/2017edmfasatb/fas_boto/images/logreg/2examplelinreg.png\" width=\"400\">\n",
    "\n",
    "The problems with the results mainly revolve around the fact that, well, here the result can go above 1 and below 0, in fact it can go to infinity and negative infinity! What does a probability of infinity mean (and in this example the y variable really isn't even a probability)? We've already capped out on the definition of probability at 0 and 1! We can in fact still use linear regression, and just make a decision that anything p > 0.6 we will approve, or something like that, but the problem is that linear regression works on the basis of _**least squares**_ as a measurement of model performance.\n",
    "\n",
    "In the credit score example above, calculating least squares would be simply unreasonable because the number of samples in each class would affect the RSS value being calculated. Wherever there is a large density of samples will draw the line of best fit to cross through that cluster because having the line close to there will minimize the RSS being calculated. Also, let's say the line extends way beyond to where p = 0 or p = 1, and let's say we get to a score where p gets up to like 10. The RSS at this point will be extremely skewed because the error isn't representative of the model accuracy. The error would be extremely large, but the prediction is actually great... there should be an error of zero!\n",
    "\n",
    "Logistic regression takes the maximum likelihood approach, and we use the _**logit**_ function to model the relationship between x and y.\n",
    "\n",
    "The _**logit**_ function provides some great properties in a probability setting. For starters,\n",
    "\n",
    "$$F(\\infty)=1$$\n",
    "$$F(-\\infty)=0$$\n",
    "\n",
    "and this is exactly what we want. Having our y variable bound between 0 and 1 mimics the probability properties we're looking for.\n",
    "\n",
    "A logit looks like this:\n",
    "\n",
    "<img src=\"https://s3.ca-central-1.amazonaws.com/2017edmfasatb/fas_boto/images/logreg/3logit.png\" width=\"200\">\n",
    "\n",
    "$$logit(p)=ln(odds)=ln(\\frac{p}{1-p})$$\n",
    "\n",
    "This isn't constraining our y-variable to one yet, but the inverse does:\n",
    "\n",
    "<img src=\"https://s3.ca-central-1.amazonaws.com/2017edmfasatb/fas_boto/images/logreg/4inverselogit.png\" width=\"400\">\n",
    "\n",
    "$$logit^-1(p)=\\frac{1}{1+e^{-\\alpha}}=\\frac{e^{\\alpha}}{1+e^{\\alpha}}$$\n",
    "\n",
    "This thing is now allowing us to actually view our dependent variable as a probability. It also satisfies the way we actually model a probability of an outcome with two possible results.\n",
    "\n",
    "$$P(Y=y_i|X)=[P(Y=y_i|X)]^{y_i}[1-(P(Y=y_i|X))^{1-y_i}]$$\n",
    "\n",
    "Which is kind of just a fancy way of saying\n",
    "\n",
    "$$P(Y=1|X)=P(Y=1|X)$$\n",
    "$$P(Y=0|X)=1-P(Y=1|X)$$\n",
    "\n",
    "Our linear regression model wouldn't have played by this rule either as at any given moment, the total probability doesn't equal to 1. In the logit function, the total probability among the two classes at any given point in x _**is always 1**_!.\n",
    "\n",
    "If we then apply this logit function to our credit score data set, we now have something alongside the data representing probabilities of each class, and it's quite a bit more intuitive for us to understand and visualize:\n",
    "\n",
    "<img src=\"https://s3.ca-central-1.amazonaws.com/2017edmfasatb/fas_boto/images/logreg/5examplelogreg.png\" width=\"400\">\n",
    "\n",
    "Now, we take this logit function and make it relate to our input variables in _**A LINEAR FASHION**_. If we have the following linear combination of variables\n",
    "\n",
    "$$\\beta_0+\\beta_1x$$\n",
    "\n",
    "and we relate it to\n",
    "\n",
    "$$logit(p)=\\frac{p}{1-p}=\\beta_0+\\beta_1x$$\n",
    "\n",
    "We are essentially saying that _**every unit increase in x1 will result in a consistent increase in the log-odds of the predictor**_. That was definitely a lot of words, but maybe for a quick example, let's say that our model indicates that every unit increase of x1 causes an increase in log-odds of 2. This, in plain english, means that _**every 1 point increase in our credit score increases our odds of getting approved by 2**_. This means that if we're currently sitting at a score of 600 and we have 8:1 odds of getting approved, having 601 will give us 4:1 odds. These are clearly fictional numbers as one point would never double your chances of getting approved, but hopefully it demonstrates the idea here. Note that we are not saying the _**probability changes**_, we are saying that the _**log-odds change**_.\n",
    "\n",
    "An iterative approach is then taken to fit the coefficients to the best model."
   ]
  },
  {
   "cell_type": "markdown",
   "metadata": {},
   "source": [
    "## Logistic Regression on All-NBA Data\n",
    "Okay let's grab our data frame again and run it through logistic regression."
   ]
  },
  {
   "cell_type": "code",
   "execution_count": 1,
   "metadata": {
    "collapsed": false
   },
   "outputs": [],
   "source": [
    "# Load libraries & initial config\n",
    "%load_ext rpy2.ipython\n",
    "\n",
    "%R library(ggplot2)\n",
    "%R library(gridExtra)\n",
    "%R library(scales)\n",
    "%R library(ggbiplot)\n",
    "%R library(dplyr)\n",
    "\n",
    "%matplotlib nbagg\n",
    "import pandas as pd\n",
    "import numpy as np\n",
    "import matplotlib.pyplot as plt\n",
    "import boto3\n",
    "from StringIO import StringIO\n",
    "import warnings\n",
    "warnings.filterwarnings('ignore')"
   ]
  },
  {
   "cell_type": "code",
   "execution_count": 2,
   "metadata": {
    "collapsed": false
   },
   "outputs": [
    {
     "name": "stdout",
     "output_type": "stream",
     "text": [
      "season_start_year          int64\n",
      "perGameStats_Player       object\n",
      "perGameStats_Pos          object\n",
      "perGameStats_Age           int64\n",
      "perGameStats_Tm           object\n",
      "perGameStats_G             int64\n",
      "perGameStats_GS          float64\n",
      "perGameStats_MP          float64\n",
      "per100Stats_FG           float64\n",
      "per100Stats_FGA          float64\n",
      "per100Stats_FGPerc       float64\n",
      "per100Stats_3P           float64\n",
      "per100Stats_3PA          float64\n",
      "per100Stats_3PPerc       float64\n",
      "per100Stats_2P           float64\n",
      "per100Stats_2PA          float64\n",
      "per100Stats_2PPerc       float64\n",
      "per100Stats_FT           float64\n",
      "per100Stats_FTA          float64\n",
      "per100Stats_FTPerc       float64\n",
      "per100Stats_ORB          float64\n",
      "per100Stats_DRB          float64\n",
      "per100Stats_TRB          float64\n",
      "per100Stats_AST          float64\n",
      "per100Stats_STL          float64\n",
      "per100Stats_BLK          float64\n",
      "per100Stats_TOV          float64\n",
      "per100Stats_PF           float64\n",
      "per100Stats_PTS          float64\n",
      "per100Stats_ORtg         float64\n",
      "per100Stats_DRtg         float64\n",
      "advancedStats_PER        float64\n",
      "advancedStats_TSPerc     float64\n",
      "advancedStats_3PAr       float64\n",
      "advancedStats_FTr        float64\n",
      "advancedStats_ORBPerc    float64\n",
      "advancedStats_DRBPerc    float64\n",
      "advancedStats_TRBPerc    float64\n",
      "advancedStats_ASTPerc    float64\n",
      "advancedStats_STLPerc    float64\n",
      "advancedStats_BLKPerc    float64\n",
      "advancedStats_TOVPerc    float64\n",
      "advancedStats_USGPerc    float64\n",
      "advancedStats_OWS        float64\n",
      "advancedStats_DWS        float64\n",
      "advancedStats_WS         float64\n",
      "advancedStats_WS48       float64\n",
      "advancedStats_OBPM       float64\n",
      "advancedStats_DBPM       float64\n",
      "advancedStats_BPM        float64\n",
      "advancedStats_VORP       float64\n",
      "player_formatted          object\n",
      "Tm                        object\n",
      "Player_x                  object\n",
      "Player_y                  object\n",
      "all_star                  object\n",
      "accolades                 object\n",
      "accolades_any_team        object\n",
      "VORP_WS_sum              float64\n",
      "accolades_all_nba         object\n",
      "dtype: object\n"
     ]
    }
   ],
   "source": [
    "# Retrieve team stats from S3\n",
    "playerAggDfAllNbaAllStar = pd.read_csv('https://s3.ca-central-1.amazonaws.com/2017edmfasatb/fas_boto/data/playerAggDfAllNbaAllStar.csv', index_col = 0)\n",
    "\n",
    "pd.set_option('display.max_rows', len(playerAggDfAllNbaAllStar.dtypes))\n",
    "print playerAggDfAllNbaAllStar.dtypes\n",
    "pd.reset_option('display.max_rows')"
   ]
  },
  {
   "cell_type": "code",
   "execution_count": 3,
   "metadata": {
    "collapsed": false
   },
   "outputs": [],
   "source": [
    "%%R -i playerAggDfAllNbaAllStar -o playerAggDfAllNbaAllStarCoefs\n",
    "\n",
    "# Fit model\n",
    "allNbaLogReg = glm(accolades_all_nba ~ advancedStats_WS + advancedStats_VORP, data = playerAggDfAllNbaAllStar, family = binomial(link = 'logit'))\n",
    "\n",
    "# Store coefficients in dataframe to view back in python\n",
    "playerAggDfAllNbaAllStarCoefs = as.data.frame(summary(allNbaLogReg)$coefficients)"
   ]
  },
  {
   "cell_type": "code",
   "execution_count": 4,
   "metadata": {
    "collapsed": false
   },
   "outputs": [
    {
     "name": "stdout",
     "output_type": "stream",
     "text": [
      "                    Estimate  Std. Error    z value       Pr(>|z|)\n",
      "(Intercept)         8.984069    0.284663  31.560340  1.293465e-218\n",
      "advancedStats_WS   -0.728820    0.045611 -15.978872   1.793621e-57\n",
      "advancedStats_VORP -0.220985    0.072176  -3.061760   2.200399e-03\n"
     ]
    }
   ],
   "source": [
    "# View model coefficents\n",
    "print playerAggDfAllNbaAllStarCoefs"
   ]
  },
  {
   "cell_type": "markdown",
   "metadata": {},
   "source": [
    "Okay, before I go even into any other metrics of the model or ANYTHING else, I just want to make sense of the coefficients just so I'm aware of what these numbers are saying.\n",
    "\n",
    "Let's look at win shares first. What's this saying... it's saying a 1 unit increase in win shares is _**decreasing**_ the log-odds of... _**something**_ by 0.73. Oh man... that's alot to think about... let's break it down a bit more. There's 2 things going on here.\n",
    "\n",
    "#### 1 Unit Increase in Win Shares Decreases Log-Odds by 0.73\n",
    "We know that\n",
    "\n",
    "$$ln(\\frac{p}{1-p})=\\beta_0+\\beta_1x_1$$\n",
    "\n",
    "The _**odds**_ of something happening when there are only 2 outcomes can be seen as\n",
    "\n",
    "$$\\frac{p}{1-p}$$\n",
    "\n",
    "right? If we have a coin flip, our odds are\n",
    "\n",
    "$$\\frac{0.5}{1-0.5}=\\frac{1}{1}$$\n",
    "\n",
    "or 1 to 1 for both outcomes.\n",
    "\n",
    "If we picking marbles out of a bag, 3 of which are blue, and 1 of which is green, our odds of picking the blue marbles are\n",
    "\n",
    "$$\\frac{\\frac{3}{4}}{1-\\frac{3}{4}}=\\frac{\\frac{3}{4}}{\\frac{1}{4}}=\\frac{3}{1}$$\n",
    "\n",
    "or 3 to 1 odds. At this point, of course, the green would be 1 to 3 odds.\n",
    "\n",
    "So back to win shares... We know that _**1 unit increase in win shares decreases log-odds by 0.73**_.\n",
    "\n",
    "$$ln(\\frac{p}{1-p})=-0.73$$\n",
    "$$\\frac{p}{1-p}=e^{0.73}=2.08$$\n",
    "\n",
    "We must remember that this is the _**odds**_ that we are changing, which is a function of the probability. The probability itself follows the s-shaped logit function right? So from different parts of the curve, _**the probability itself may change more drastically or less drastically with every unit change in win share, but the odds themselves will always be proportional with every unit change in win share.**_\n",
    "\n",
    "I mentioned probability... well... that leads us to my second observation:\n",
    "\n",
    "_**Which Probability are we Referring to?**_\n",
    "A unit change in win shares changes the odds by 2.08, which is a function of probability... but... the probability of what? Because this is a relatively simple classification, I can assume that this is the probability of being a non all-NBA team member. This is only because I know that a higher win share decreases your chances of being an non all-NBA team member... duh... but what if I didnt know the data so well?\n",
    "\n",
    "I'm not sure if I have an answer for this at the moment other than using my intuition about the data. I think a clearer way for me to perform this modelling would be to explicitly classify the categories into 0 and 1, and then regress on that coded variable. Here, it's easy enough to 'assume', which will be confirmed soon anyways so I will leave it.\n",
    "\n",
    "So what exactly do we do when we predict using this model?"
   ]
  },
  {
   "cell_type": "code",
   "execution_count": 5,
   "metadata": {
    "collapsed": false
   },
   "outputs": [
    {
     "data": {
      "text/plain": [
       "array([-3.30516116,  7.50433114,  3.10888355, ...,  8.27734795,\n",
       "        8.85381729,  8.20446597])"
      ]
     },
     "execution_count": 5,
     "metadata": {},
     "output_type": "execute_result"
    }
   ],
   "source": [
    "# Perform prediction\n",
    "%R predict(allNbaLogReg, playerAggDfAllNbaAllStar[c('advancedStats_WS', 'advancedStats_VORP')])"
   ]
  },
  {
   "cell_type": "markdown",
   "metadata": {},
   "source": [
    "I got an array of numbers... which I can only assume is... log-odds? Uhh I have no clue lol. After googling a bit, it seems that prediction has a _**type**_ parameter that allows us to contextualize the response."
   ]
  },
  {
   "cell_type": "code",
   "execution_count": 6,
   "metadata": {
    "collapsed": false
   },
   "outputs": [
    {
     "data": {
      "text/plain": [
       "array([ 0.03539456,  0.99944961,  0.9572577 , ...,  0.99974585,\n",
       "        0.99985718,  0.99972665])"
      ]
     },
     "execution_count": 6,
     "metadata": {},
     "output_type": "execute_result"
    }
   ],
   "source": [
    "# Perform prediction\n",
    "%R predict(allNbaLogReg, playerAggDfAllNbaAllStar[c('advancedStats_WS', 'advancedStats_VORP')], type = 'response')"
   ]
  },
  {
   "cell_type": "markdown",
   "metadata": {},
   "source": [
    "Those look a lot more like probabilities, that's for sure. I'll know plotting it and seeing if it follows the pattern."
   ]
  },
  {
   "cell_type": "code",
   "execution_count": 7,
   "metadata": {
    "collapsed": false
   },
   "outputs": [
    {
     "data": {
      "text/plain": [
       "array([ 0.03539456,  0.99944961,  0.9572577 , ...,  0.99974585,\n",
       "        0.99985718,  0.99972665])"
      ]
     },
     "execution_count": 7,
     "metadata": {},
     "output_type": "execute_result"
    }
   ],
   "source": [
    "# Add predictions to dataframe\n",
    "%R playerAggDfAllNbaAllStar['log_reg_pred'] = predict(allNbaLogReg, playerAggDfAllNbaAllStar[c('advancedStats_WS', 'advancedStats_VORP')], type = 'response')"
   ]
  },
  {
   "cell_type": "code",
   "execution_count": 8,
   "metadata": {
    "collapsed": false,
    "scrolled": false
   },
   "outputs": [
    {
     "data": {
      "image/png": "[encoded data removed]"
     },
     "metadata": {},
     "output_type": "display_data"
    }
   ],
   "source": [
    "%%R -w 700 -u px\n",
    "\n",
    "# Plot WS vs VORP scatter with predictions colored in\n",
    "allNbaPlotLinReg = ggplot(\n",
    "    NULL\n",
    ") +\n",
    "geom_point(\n",
    "    data = playerAggDfAllNbaAllStar,\n",
    "    aes(\n",
    "        x = advancedStats_VORP,\n",
    "        y = advancedStats_WS,\n",
    "        color = log_reg_pred\n",
    "    )\n",
    ")\n",
    "\n",
    "allNbaPlotLinReg"
   ]
  },
  {
   "cell_type": "markdown",
   "metadata": {},
   "source": [
    "This looks pretty good. We see the gradient start to change around that WS = 8 mark. Remember that WS = 7.5 was basically the minimum WS that we saw from all-NBA team members.\n",
    "\n",
    "Let's see the original plot again to remind ourselves what that looked like."
   ]
  },
  {
   "cell_type": "code",
   "execution_count": 9,
   "metadata": {
    "collapsed": false
   },
   "outputs": [
    {
     "data": {
      "image/png": "[encoded data removed]"
     },
     "metadata": {},
     "output_type": "display_data"
    }
   ],
   "source": [
    "%%R -w 700 -u px\n",
    "\n",
    "# Plot WS vs VORP scatter with predictions colored in\n",
    "allNbaPlot = ggplot(\n",
    "    NULL\n",
    ") +\n",
    "geom_point(\n",
    "    data = playerAggDfAllNbaAllStar,\n",
    "    aes(\n",
    "        x = advancedStats_VORP,\n",
    "        y = advancedStats_WS,\n",
    "        color = accolades_all_nba\n",
    "    )\n",
    ")\n",
    "\n",
    "allNbaPlot"
   ]
  },
  {
   "cell_type": "markdown",
   "metadata": {},
   "source": [
    "In the linear regression plot, we can really see the probabilities take the shape of an S-curve, with the curve part of the plot taking place around WS = 10 and VORP = 4. The S curve follows WS a bit more actually, an interesting observation.\n",
    "\n",
    "Okay, so we have probabilities of what's what. Do we just assume that anything over a 50% probability is non all-NBA and under  is all-NBA? Let's try it out!"
   ]
  },
  {
   "cell_type": "code",
   "execution_count": 10,
   "metadata": {
    "collapsed": false
   },
   "outputs": [
    {
     "data": {
      "text/plain": [
       "array(['All-NBA', 'Not All-NBA', 'Not All-NBA', ..., 'Not All-NBA',\n",
       "       'Not All-NBA', 'Not All-NBA'], \n",
       "      dtype='|S11')"
      ]
     },
     "execution_count": 10,
     "metadata": {},
     "output_type": "execute_result"
    }
   ],
   "source": [
    "# Classify anything above 50% not all-NBA and under 50% all-NBA\n",
    "%R playerAggDfAllNbaAllStar['log_reg_pred_classified_50_50'] = ifelse(playerAggDfAllNbaAllStar['log_reg_pred'] >= 0.5, 'Not All-NBA', 'All-NBA')"
   ]
  },
  {
   "cell_type": "code",
   "execution_count": 11,
   "metadata": {
    "collapsed": false
   },
   "outputs": [
    {
     "data": {
      "text/html": [
       "<div>\n",
       "<table border=\"1\" class=\"dataframe\">\n",
       "  <thead>\n",
       "    <tr style=\"text-align: right;\">\n",
       "      <th></th>\n",
       "      <th>Var1</th>\n",
       "      <th>Var2</th>\n",
       "      <th>Freq</th>\n",
       "    </tr>\n",
       "  </thead>\n",
       "  <tbody>\n",
       "    <tr>\n",
       "      <th>1</th>\n",
       "      <td>All-NBA</td>\n",
       "      <td>All-NBA</td>\n",
       "      <td>268</td>\n",
       "    </tr>\n",
       "    <tr>\n",
       "      <th>2</th>\n",
       "      <td>Not All-NBA</td>\n",
       "      <td>All-NBA</td>\n",
       "      <td>234</td>\n",
       "    </tr>\n",
       "    <tr>\n",
       "      <th>3</th>\n",
       "      <td>All-NBA</td>\n",
       "      <td>Not All-NBA</td>\n",
       "      <td>76</td>\n",
       "    </tr>\n",
       "    <tr>\n",
       "      <th>4</th>\n",
       "      <td>Not All-NBA</td>\n",
       "      <td>Not All-NBA</td>\n",
       "      <td>12642</td>\n",
       "    </tr>\n",
       "  </tbody>\n",
       "</table>\n",
       "</div>"
      ],
      "text/plain": [
       "          Var1         Var2   Freq\n",
       "1      All-NBA      All-NBA    268\n",
       "2  Not All-NBA      All-NBA    234\n",
       "3      All-NBA  Not All-NBA     76\n",
       "4  Not All-NBA  Not All-NBA  12642"
      ]
     },
     "execution_count": 11,
     "metadata": {},
     "output_type": "execute_result"
    }
   ],
   "source": [
    "%R logReg5050ConfMatrixTbl = table(playerAggDfAllNbaAllStar[['log_reg_pred_classified_50_50']], playerAggDfAllNbaAllStar[['accolades_all_nba']])\n",
    "%R logReg5050ConfMatrixDf = as.data.frame(logReg5050ConfMatrixTbl)"
   ]
  },
  {
   "cell_type": "code",
   "execution_count": 12,
   "metadata": {
    "collapsed": false
   },
   "outputs": [
    {
     "data": {
      "text/plain": [
       "array([ 0.97655068])"
      ]
     },
     "execution_count": 12,
     "metadata": {},
     "output_type": "execute_result"
    }
   ],
   "source": [
    "%R sum(diag(logReg5050ConfMatrixTbl)) / sum(logReg5050ConfMatrixTbl)"
   ]
  },
  {
   "cell_type": "markdown",
   "metadata": {},
   "source": [
    "Overall, the model gets 97.7% of the results correct, but remember how many non all-NBA players there are? Even if you just always guessed non all-NBA you'd still be at like 95% accuracy, so how much better is this than always guessing non all-NBA? What we'd end up doing now is re-analyzing the model having the cutoff at different points and finding which cutoff gives the best results. This sounds kind of familiar... oh wait, it is. It's _**basically what I was doing by moving the y-intercepts in our manual line model**_! I'm basically moving the boundary causing the classification process to be more or less forgiving to certain categories, right?\n",
    "\n",
    "There is a library called ROCR that gives us some really easy tools to perform this analysis... much... MUCH quicker than what I did before..."
   ]
  },
  {
   "cell_type": "code",
   "execution_count": 13,
   "metadata": {
    "collapsed": false
   },
   "outputs": [
    {
     "data": {
      "image/png": "[encoded data removed]"
     },
     "metadata": {},
     "output_type": "display_data"
    }
   ],
   "source": [
    "# The ROCR package provides us with many tools to gauge accuracy of classification models\n",
    "%R library(ROCR)\n",
    "\n",
    "# Perform prediction\n",
    "%R linRegPredObj = prediction(playerAggDfAllNbaAllStar['log_reg_pred'], playerAggDfAllNbaAllStar['accolades_all_nba'])\n",
    "\n",
    "# Run performance evaluation for the metric 'total accuracy'\n",
    "%R linRegEval = performance(linRegPredObj, 'acc')\n",
    "%R plot(linRegEval)"
   ]
  },
  {
   "cell_type": "markdown",
   "metadata": {},
   "source": [
    "Mm, ok. Took me a bit to get my bearings there and understand exactly what the hell is happening in this plot... I'm just following a [youtube tutorial](https://www.youtube.com/watch?v=ypO1DPEKYFo) by the way... I have never heard of the ROCR package, nor have I thought this much about ROC curves in general until now.\n",
    "\n",
    "This plot is gauging _**total accuracy**_ like we were doing before. \n",
    "\n",
    "At the very left of the plot, this is the situation where we say anybody with 0% probability or up is a non all-NBA team member, aka _**everybody is a non all-NBA team member (aka no one made the all-NBA team)**_. Again, when we classify everybody as an all-NBA team member, we're still like 95%< correct because so much of the data is non all-NBA! We see we have to literally get up to cutting ourselves off at like 0.9 probability to even begin to go under 90% total accuracy...\n",
    "\n",
    "At the right of the plot, when we say _**everyone made the all-NBA team**_, we see the accuracy go down to... wel... pretty much 0. This is because we're only getting 500 some odd people correc out of over 30k! Not that many people make the all-NBA team each year, so to just blindly guess all-NBA for every single person is a horrible approach.\n",
    "\n",
    "Clearly, this curve isn't really useful to us in determining the best model. We want great accuracy in _**both**_ classes! This curve, however, does have sort of a _**hump at around cutoff = 0.5**_... so maybe our random guess at 0.5 was right after all!\n",
    "\n",
    "ROCR also has tools to help us look at accuracy by class as well."
   ]
  },
  {
   "cell_type": "code",
   "execution_count": 14,
   "metadata": {
    "collapsed": false
   },
   "outputs": [
    {
     "data": {
      "image/png": "[encoded data removed]"
     },
     "metadata": {},
     "output_type": "display_data"
    }
   ],
   "source": [
    "# Run performance evaluation for the metrics 'true positive rate' and 'false positive rate'\n",
    "%R linRegRocEval = performance(linRegPredObj, 'sens', 'spec')\n",
    "%R plot(linRegRocEval, colorize = T)"
   ]
  },
  {
   "cell_type": "markdown",
   "metadata": {},
   "source": [
    "A few terms to define here...\n",
    "- _**True Positive Rate**_ - Otherwise known as the sensitivity, the TPR is the amount of 1's that the model will classify as a 1 (in this case, the percentage of non all-NBA players the model guessed correctly)\n",
    "- _**False Positive Rate**_ - Otherwise known as 1-specificity, the FPR is the amount of 0's that the model will classify as a 1 (in this case, the percentage of non all-NBA players the model guessed incorrectly)\n",
    "\n",
    "Basically, the ROC curve is just demonstrating the trade off that we have in this model. With my straight line, we saw that there was a sweet spot where both classes were guessing quite successfully, and that's when we ended up with 93% / 92% for all-NBA / non all-NBA respectively.\n",
    "\n",
    "I see the representation of that here because, on the ROC curve, we want to get as close to the top left corner as possible where there are 100% true positives and 0% false positives. This is actually the case where both classes are being predicted at 100%! While this curve doesnt hug the top left corner directly, it does get decently close and there seems to be a point where true positives sit at like 90% and false positives sit at 5%. This would provide for 95% / 95% accuracy! I wanna say this sits at a cutoff of around 0.9 which says the model has to be _**90% sure that the player is not an all-NBA player to classify it as 'Not All-NBA'**_. We're giving a lot more leniency to being on the all-NBA team. Even if the model is 85% you're a non-all NBA player, the model ignores you and calls you all-NBA, congratulations! Let's try out a cutoff of 0.9."
   ]
  },
  {
   "cell_type": "code",
   "execution_count": 15,
   "metadata": {
    "collapsed": false
   },
   "outputs": [
    {
     "data": {
      "text/plain": [
       "array(['All-NBA', 'Not All-NBA', 'Not All-NBA', ..., 'Not All-NBA',\n",
       "       'Not All-NBA', 'Not All-NBA'], \n",
       "      dtype='|S11')"
      ]
     },
     "execution_count": 15,
     "metadata": {},
     "output_type": "execute_result"
    }
   ],
   "source": [
    "# Classify anything above 90% not all-NBA and under 90% all-NBA\n",
    "%R playerAggDfAllNbaAllStar['log_reg_pred_classified_90_10'] = ifelse(playerAggDfAllNbaAllStar['log_reg_pred'] >= 0.9, 'Not All-NBA', 'All-NBA')"
   ]
  },
  {
   "cell_type": "code",
   "execution_count": 16,
   "metadata": {
    "collapsed": false
   },
   "outputs": [
    {
     "data": {
      "text/html": [
       "<div>\n",
       "<table border=\"1\" class=\"dataframe\">\n",
       "  <thead>\n",
       "    <tr style=\"text-align: right;\">\n",
       "      <th></th>\n",
       "      <th>Var1</th>\n",
       "      <th>Var2</th>\n",
       "      <th>Freq</th>\n",
       "    </tr>\n",
       "  </thead>\n",
       "  <tbody>\n",
       "    <tr>\n",
       "      <th>1</th>\n",
       "      <td>All-NBA</td>\n",
       "      <td>All-NBA</td>\n",
       "      <td>430</td>\n",
       "    </tr>\n",
       "    <tr>\n",
       "      <th>2</th>\n",
       "      <td>Not All-NBA</td>\n",
       "      <td>All-NBA</td>\n",
       "      <td>72</td>\n",
       "    </tr>\n",
       "    <tr>\n",
       "      <th>3</th>\n",
       "      <td>All-NBA</td>\n",
       "      <td>Not All-NBA</td>\n",
       "      <td>549</td>\n",
       "    </tr>\n",
       "    <tr>\n",
       "      <th>4</th>\n",
       "      <td>Not All-NBA</td>\n",
       "      <td>Not All-NBA</td>\n",
       "      <td>12169</td>\n",
       "    </tr>\n",
       "  </tbody>\n",
       "</table>\n",
       "</div>"
      ],
      "text/plain": [
       "          Var1         Var2   Freq\n",
       "1      All-NBA      All-NBA    430\n",
       "2  Not All-NBA      All-NBA     72\n",
       "3      All-NBA  Not All-NBA    549\n",
       "4  Not All-NBA  Not All-NBA  12169"
      ]
     },
     "execution_count": 16,
     "metadata": {},
     "output_type": "execute_result"
    }
   ],
   "source": [
    "%R logReg9010ConfMatrixTbl = table(playerAggDfAllNbaAllStar[['log_reg_pred_classified_90_10']], playerAggDfAllNbaAllStar[['accolades_all_nba']])\n",
    "%R logReg9010ConfMatrixDf = as.data.frame(logReg9010ConfMatrixTbl)"
   ]
  },
  {
   "cell_type": "code",
   "execution_count": 17,
   "metadata": {
    "collapsed": false
   },
   "outputs": [
    {
     "data": {
      "text/html": [
       "<div>\n",
       "<table border=\"1\" class=\"dataframe\">\n",
       "  <thead>\n",
       "    <tr style=\"text-align: right;\">\n",
       "      <th></th>\n",
       "      <th>cut</th>\n",
       "      <th>sens</th>\n",
       "      <th>spec</th>\n",
       "      <th>sens_plus_spec</th>\n",
       "    </tr>\n",
       "  </thead>\n",
       "  <tbody>\n",
       "    <tr>\n",
       "      <th>1961</th>\n",
       "      <td>0.962366</td>\n",
       "      <td>0.948207</td>\n",
       "      <td>0.917125</td>\n",
       "      <td>1.865333</td>\n",
       "    </tr>\n",
       "    <tr>\n",
       "      <th>1976</th>\n",
       "      <td>0.960660</td>\n",
       "      <td>0.946215</td>\n",
       "      <td>0.919170</td>\n",
       "      <td>1.865385</td>\n",
       "    </tr>\n",
       "    <tr>\n",
       "      <th>1962</th>\n",
       "      <td>0.962211</td>\n",
       "      <td>0.948207</td>\n",
       "      <td>0.917204</td>\n",
       "      <td>1.865411</td>\n",
       "    </tr>\n",
       "    <tr>\n",
       "      <th>1963</th>\n",
       "      <td>0.962126</td>\n",
       "      <td>0.948207</td>\n",
       "      <td>0.917283</td>\n",
       "      <td>1.865490</td>\n",
       "    </tr>\n",
       "    <tr>\n",
       "      <th>1964</th>\n",
       "      <td>0.961955</td>\n",
       "      <td>0.948207</td>\n",
       "      <td>0.917361</td>\n",
       "      <td>1.865568</td>\n",
       "    </tr>\n",
       "    <tr>\n",
       "      <th>1965</th>\n",
       "      <td>0.961886</td>\n",
       "      <td>0.948207</td>\n",
       "      <td>0.917518</td>\n",
       "      <td>1.865726</td>\n",
       "    </tr>\n",
       "  </tbody>\n",
       "</table>\n",
       "</div>"
      ],
      "text/plain": [
       "           cut      sens      spec  sens_plus_spec\n",
       "1961  0.962366  0.948207  0.917125        1.865333\n",
       "1976  0.960660  0.946215  0.919170        1.865385\n",
       "1962  0.962211  0.948207  0.917204        1.865411\n",
       "1963  0.962126  0.948207  0.917283        1.865490\n",
       "1964  0.961955  0.948207  0.917361        1.865568\n",
       "1965  0.961886  0.948207  0.917518        1.865726"
      ]
     },
     "execution_count": 17,
     "metadata": {},
     "output_type": "execute_result"
    }
   ],
   "source": [
    "# Retrieve the iterative cut-off sensitivity analysis that logistic regression did behind the scenes\n",
    "%R cutoffs = data.frame(cut = linRegRocEval@alpha.values[[1]], sens = linRegRocEval@x.values[[1]], spec = linRegRocEval@y.values[[1]])\n",
    "\n",
    "# Calculate the metrics sensitivity + specificity. This will help us gauge the accuracy of both classes simultaneously.\n",
    "#   E.g. if we were guessing each class 100% correctly (there is a very distinct decision boundary), then we would have 1 + 1 = 2\n",
    "%R cutoffs['sens_plus_spec'] = cutoffs['sens'] + cutoffs['spec']\n",
    "\n",
    "# See the last few rows of this dataframe where the sensitivity + specificity are at its max\n",
    "%R tail(cutoffs[order(cutoffs$sens_plus_spec),])"
   ]
  },
  {
   "cell_type": "markdown",
   "metadata": {},
   "source": [
    "Alright, so a cutoff of around 0.96 is in order! This should give us... 92% and _**95%**_. Let's see."
   ]
  },
  {
   "cell_type": "code",
   "execution_count": 18,
   "metadata": {
    "collapsed": false
   },
   "outputs": [
    {
     "data": {
      "text/plain": [
       "array(['All-NBA', 'Not All-NBA', 'All-NBA', ..., 'Not All-NBA',\n",
       "       'Not All-NBA', 'Not All-NBA'], \n",
       "      dtype='|S11')"
      ]
     },
     "execution_count": 18,
     "metadata": {},
     "output_type": "execute_result"
    }
   ],
   "source": [
    "# Classify anything above 90% not all-NBA and under 90% all-NBA\n",
    "%R playerAggDfAllNbaAllStar['log_reg_pred_classified_96_4'] = ifelse(playerAggDfAllNbaAllStar['log_reg_pred'] >= 0.96, 'Not All-NBA', 'All-NBA')"
   ]
  },
  {
   "cell_type": "code",
   "execution_count": 19,
   "metadata": {
    "collapsed": false
   },
   "outputs": [
    {
     "data": {
      "text/html": [
       "<div>\n",
       "<table border=\"1\" class=\"dataframe\">\n",
       "  <thead>\n",
       "    <tr style=\"text-align: right;\">\n",
       "      <th></th>\n",
       "      <th>Var1</th>\n",
       "      <th>Var2</th>\n",
       "      <th>Freq</th>\n",
       "    </tr>\n",
       "  </thead>\n",
       "  <tbody>\n",
       "    <tr>\n",
       "      <th>1</th>\n",
       "      <td>All-NBA</td>\n",
       "      <td>All-NBA</td>\n",
       "      <td>473</td>\n",
       "    </tr>\n",
       "    <tr>\n",
       "      <th>2</th>\n",
       "      <td>Not All-NBA</td>\n",
       "      <td>All-NBA</td>\n",
       "      <td>29</td>\n",
       "    </tr>\n",
       "    <tr>\n",
       "      <th>3</th>\n",
       "      <td>All-NBA</td>\n",
       "      <td>Not All-NBA</td>\n",
       "      <td>1020</td>\n",
       "    </tr>\n",
       "    <tr>\n",
       "      <th>4</th>\n",
       "      <td>Not All-NBA</td>\n",
       "      <td>Not All-NBA</td>\n",
       "      <td>11698</td>\n",
       "    </tr>\n",
       "  </tbody>\n",
       "</table>\n",
       "</div>"
      ],
      "text/plain": [
       "          Var1         Var2   Freq\n",
       "1      All-NBA      All-NBA    473\n",
       "2  Not All-NBA      All-NBA     29\n",
       "3      All-NBA  Not All-NBA   1020\n",
       "4  Not All-NBA  Not All-NBA  11698"
      ]
     },
     "execution_count": 19,
     "metadata": {},
     "output_type": "execute_result"
    }
   ],
   "source": [
    "%R logReg9604ConfMatrixTbl = table(playerAggDfAllNbaAllStar[['log_reg_pred_classified_96_4']], playerAggDfAllNbaAllStar[['accolades_all_nba']])\n",
    "%R logReg9604ConfMatrixDf = as.data.frame(logReg9604ConfMatrixTbl)"
   ]
  },
  {
   "cell_type": "markdown",
   "metadata": {},
   "source": [
    "Okay, there we have it ladies and gentleman. A glorious 94% / 92% accuracy on all-NBA / non all-NBA model! It's better than our hand picked model, and best thing, it is all _**automatable**_. If I have another data set that looks like this in the future. I will know much better how to deal with that and evaluate a model in minutes! Just felt like I was a in an infomercial there for a second... that was weird."
   ]
  },
  {
   "cell_type": "markdown",
   "metadata": {},
   "source": [
    "## Collinearity\n",
    "One thoguht that I've had in the back of my mind this entire time was 'what if WS and VORP are highly highly collinear? I know from linear regression that collinearity is one of the biggest achilles heel's of linear regression! You can get extremely unstable results if you fit two or more highly collinear fields with each other in the same model. This makes sense, because if you have... oh I don't know... weight in lbs and weight in kg as two factors, this is an extreme because, well, they literally are the same predictor, just on different scales. They are completely collinear, and how are you supposed to attribute the response to these two factors evenly?\n",
    "\n",
    "You could attribute everything to lbs and nothing to kg and the result would be correct. You could attribute everything to kg and nothing to lbs and the result would be correct. You could attribute half to lbs and half to kg and the result would be correct. You could attribute 2x to kg and -1x to lbs and the result would be correct. You see what I'm saying? There are basically infinite amounts of solutions that would\n",
    "1. Skew the interpretability of the model (having a coefficient that's 2x for kg and -1x for lbs really doesn't make intuitive sense, they are the same variable so they cannot have opposite affects on the dependent variable)\n",
    "2. The model has to settle on a model, and that model is a bit beyond our control because there are infinite solutions\n",
    "\n",
    "To help with analyzing collinearity there is a great metric called the _**Variance Inflation Factor (VIF)**_.\n",
    "\n",
    "### VIF\n",
    "The variance inflation factor essentially spits out a value for each predictor and gives an indication of whether or not that variable is being represented through all the other predictors in the model.\n",
    "\n",
    "Before I found out about VIF, my train of thought would be to use a scatterplot matrix to see if I can spot any linear trends. In fact, with our WS vs VORP graph, there actually is an obvious visual linear trend! As WS increases, VORP increases. As we explored, they are both trying to measure the value of a player, so it's right that MJ has a high WS and VORP because he's generating so much offense and helping so much on defense.\n",
    "\n",
    "Scatterplot matrices are great, but their limitation is that they can _**only compare 2 predictors at once**_. VIF allows us to gauge if a predictor is collinear to even a _**linear combination of any other predictors**_ as well! Maybe weight is actually collinear to the sum of height and diet, not any one in particular, but the sum of both? VIF will allow us to identify these cicumstances as well.\n",
    "\n",
    "Some general guidelines for VIF are:\n",
    "- A good VIF should be below 5\n",
    "- A bad VIF will be above 10\n",
    "\n",
    "VIF works by _**regressing each predictor on all the other predictors**_. If we have weight, height, and diet, we'd perform the following regressions and get their respective r-squared values:\n",
    "- Regress weight on height and diet\n",
    "- Regress height on weight and diet\n",
    "- Regress diet on height and weight\n",
    "\n",
    "Once we have all the r-squared values, we go ahead and perform the following calculation to get VIF\n",
    "\n",
    "$$VIF=\\frac{1}{1-R^2}$$\n",
    "\n",
    "What does this curve actually look like?"
   ]
  },
  {
   "cell_type": "code",
   "execution_count": 20,
   "metadata": {
    "collapsed": false,
    "scrolled": false
   },
   "outputs": [
    {
     "data": {
      "application/javascript": [
       "/* Put everything inside the global mpl namespace */\n",
       "window.mpl = {};\n",
       "\n",
       "mpl.get_websocket_type = function() {\n",
       "    if (typeof(WebSocket) !== 'undefined') {\n",
       "        return WebSocket;\n",
       "    } else if (typeof(MozWebSocket) !== 'undefined') {\n",
       "        return MozWebSocket;\n",
       "    } else {\n",
       "        alert('Your browser does not have WebSocket support.' +\n",
       "              'Please try Chrome, Safari or Firefox ≥ 6. ' +\n",
       "              'Firefox 4 and 5 are also supported but you ' +\n",
       "              'have to enable WebSockets in about:config.');\n",
       "    };\n",
       "}\n",
       "\n",
       "mpl.figure = function(figure_id, websocket, ondownload, parent_element) {\n",
       "    this.id = figure_id;\n",
       "\n",
       "    this.ws = websocket;\n",
       "\n",
       "    this.supports_binary = (this.ws.binaryType != undefined);\n",
       "\n",
       "    if (!this.supports_binary) {\n",
       "        var warnings = document.getElementById(\"mpl-warnings\");\n",
       "        if (warnings) {\n",
       "            warnings.style.display = 'block';\n",
       "            warnings.textContent = (\n",
       "                \"This browser does not support binary websocket messages. \" +\n",
       "                    \"Performance may be slow.\");\n",
       "        }\n",
       "    }\n",
       "\n",
       "    this.imageObj = new Image();\n",
       "\n",
       "    this.context = undefined;\n",
       "    this.message = undefined;\n",
       "    this.canvas = undefined;\n",
       "    this.rubberband_canvas = undefined;\n",
       "    this.rubberband_context = undefined;\n",
       "    this.format_dropdown = undefined;\n",
       "\n",
       "    this.image_mode = 'full';\n",
       "\n",
       "    this.root = $('<div/>');\n",
       "    this._root_extra_style(this.root)\n",
       "    this.root.attr('style', 'display: inline-block');\n",
       "\n",
       "    $(parent_element).append(this.root);\n",
       "\n",
       "    this._init_header(this);\n",
       "    this._init_canvas(this);\n",
       "    this._init_toolbar(this);\n",
       "\n",
       "    var fig = this;\n",
       "\n",
       "    this.waiting = false;\n",
       "\n",
       "    this.ws.onopen =  function () {\n",
       "            fig.send_message(\"supports_binary\", {value: fig.supports_binary});\n",
       "            fig.send_message(\"send_image_mode\", {});\n",
       "            fig.send_message(\"refresh\", {});\n",
       "        }\n",
       "\n",
       "    this.imageObj.onload = function() {\n",
       "            if (fig.image_mode == 'full') {\n",
       "                // Full images could contain transparency (where diff images\n",
       "                // almost always do), so we need to clear the canvas so that\n",
       "                // there is no ghosting.\n",
       "                fig.context.clearRect(0, 0, fig.canvas.width, fig.canvas.height);\n",
       "            }\n",
       "            fig.context.drawImage(fig.imageObj, 0, 0);\n",
       "        };\n",
       "\n",
       "    this.imageObj.onunload = function() {\n",
       "        this.ws.close();\n",
       "    }\n",
       "\n",
       "    this.ws.onmessage = this._make_on_message_function(this);\n",
       "\n",
       "    this.ondownload = ondownload;\n",
       "}\n",
       "\n",
       "mpl.figure.prototype._init_header = function() {\n",
       "    var titlebar = $(\n",
       "        '<div class=\"ui-dialog-titlebar ui-widget-header ui-corner-all ' +\n",
       "        'ui-helper-clearfix\"/>');\n",
       "    var titletext = $(\n",
       "        '<div class=\"ui-dialog-title\" style=\"width: 100%; ' +\n",
       "        'text-align: center; padding: 3px;\"/>');\n",
       "    titlebar.append(titletext)\n",
       "    this.root.append(titlebar);\n",
       "    this.header = titletext[0];\n",
       "}\n",
       "\n",
       "\n",
       "\n",
       "mpl.figure.prototype._canvas_extra_style = function(canvas_div) {\n",
       "\n",
       "}\n",
       "\n",
       "\n",
       "mpl.figure.prototype._root_extra_style = function(canvas_div) {\n",
       "\n",
       "}\n",
       "\n",
       "mpl.figure.prototype._init_canvas = function() {\n",
       "    var fig = this;\n",
       "\n",
       "    var canvas_div = $('<div/>');\n",
       "\n",
       "    canvas_div.attr('style', 'position: relative; clear: both; outline: 0');\n",
       "\n",
       "    function canvas_keyboard_event(event) {\n",
       "        return fig.key_event(event, event['data']);\n",
       "    }\n",
       "\n",
       "    canvas_div.keydown('key_press', canvas_keyboard_event);\n",
       "    canvas_div.keyup('key_release', canvas_keyboard_event);\n",
       "    this.canvas_div = canvas_div\n",
       "    this._canvas_extra_style(canvas_div)\n",
       "    this.root.append(canvas_div);\n",
       "\n",
       "    var canvas = $('<canvas/>');\n",
       "    canvas.addClass('mpl-canvas');\n",
       "    canvas.attr('style', \"left: 0; top: 0; z-index: 0; outline: 0\")\n",
       "\n",
       "    this.canvas = canvas[0];\n",
       "    this.context = canvas[0].getContext(\"2d\");\n",
       "\n",
       "    var rubberband = $('<canvas/>');\n",
       "    rubberband.attr('style', \"position: absolute; left: 0; top: 0; z-index: 1;\")\n",
       "\n",
       "    var pass_mouse_events = true;\n",
       "\n",
       "    canvas_div.resizable({\n",
       "        start: function(event, ui) {\n",
       "            pass_mouse_events = false;\n",
       "        },\n",
       "        resize: function(event, ui) {\n",
       "            fig.request_resize(ui.size.width, ui.size.height);\n",
       "        },\n",
       "        stop: function(event, ui) {\n",
       "            pass_mouse_events = true;\n",
       "            fig.request_resize(ui.size.width, ui.size.height);\n",
       "        },\n",
       "    });\n",
       "\n",
       "    function mouse_event_fn(event) {\n",
       "        if (pass_mouse_events)\n",
       "            return fig.mouse_event(event, event['data']);\n",
       "    }\n",
       "\n",
       "    rubberband.mousedown('button_press', mouse_event_fn);\n",
       "    rubberband.mouseup('button_release', mouse_event_fn);\n",
       "    // Throttle sequential mouse events to 1 every 20ms.\n",
       "    rubberband.mousemove('motion_notify', mouse_event_fn);\n",
       "\n",
       "    rubberband.mouseenter('figure_enter', mouse_event_fn);\n",
       "    rubberband.mouseleave('figure_leave', mouse_event_fn);\n",
       "\n",
       "    canvas_div.on(\"wheel\", function (event) {\n",
       "        event = event.originalEvent;\n",
       "        event['data'] = 'scroll'\n",
       "        if (event.deltaY < 0) {\n",
       "            event.step = 1;\n",
       "        } else {\n",
       "            event.step = -1;\n",
       "        }\n",
       "        mouse_event_fn(event);\n",
       "    });\n",
       "\n",
       "    canvas_div.append(canvas);\n",
       "    canvas_div.append(rubberband);\n",
       "\n",
       "    this.rubberband = rubberband;\n",
       "    this.rubberband_canvas = rubberband[0];\n",
       "    this.rubberband_context = rubberband[0].getContext(\"2d\");\n",
       "    this.rubberband_context.strokeStyle = \"#000000\";\n",
       "\n",
       "    this._resize_canvas = function(width, height) {\n",
       "        // Keep the size of the canvas, canvas container, and rubber band\n",
       "        // canvas in synch.\n",
       "        canvas_div.css('width', width)\n",
       "        canvas_div.css('height', height)\n",
       "\n",
       "        canvas.attr('width', width);\n",
       "        canvas.attr('height', height);\n",
       "\n",
       "        rubberband.attr('width', width);\n",
       "        rubberband.attr('height', height);\n",
       "    }\n",
       "\n",
       "    // Set the figure to an initial 600x600px, this will subsequently be updated\n",
       "    // upon first draw.\n",
       "    this._resize_canvas(600, 600);\n",
       "\n",
       "    // Disable right mouse context menu.\n",
       "    $(this.rubberband_canvas).bind(\"contextmenu\",function(e){\n",
       "        return false;\n",
       "    });\n",
       "\n",
       "    function set_focus () {\n",
       "        canvas.focus();\n",
       "        canvas_div.focus();\n",
       "    }\n",
       "\n",
       "    window.setTimeout(set_focus, 100);\n",
       "}\n",
       "\n",
       "mpl.figure.prototype._init_toolbar = function() {\n",
       "    var fig = this;\n",
       "\n",
       "    var nav_element = $('<div/>')\n",
       "    nav_element.attr('style', 'width: 100%');\n",
       "    this.root.append(nav_element);\n",
       "\n",
       "    // Define a callback function for later on.\n",
       "    function toolbar_event(event) {\n",
       "        return fig.toolbar_button_onclick(event['data']);\n",
       "    }\n",
       "    function toolbar_mouse_event(event) {\n",
       "        return fig.toolbar_button_onmouseover(event['data']);\n",
       "    }\n",
       "\n",
       "    for(var toolbar_ind in mpl.toolbar_items) {\n",
       "        var name = mpl.toolbar_items[toolbar_ind][0];\n",
       "        var tooltip = mpl.toolbar_items[toolbar_ind][1];\n",
       "        var image = mpl.toolbar_items[toolbar_ind][2];\n",
       "        var method_name = mpl.toolbar_items[toolbar_ind][3];\n",
       "\n",
       "        if (!name) {\n",
       "            // put a spacer in here.\n",
       "            continue;\n",
       "        }\n",
       "        var button = $('<button/>');\n",
       "        button.addClass('ui-button ui-widget ui-state-default ui-corner-all ' +\n",
       "                        'ui-button-icon-only');\n",
       "        button.attr('role', 'button');\n",
       "        button.attr('aria-disabled', 'false');\n",
       "        button.click(method_name, toolbar_event);\n",
       "        button.mouseover(tooltip, toolbar_mouse_event);\n",
       "\n",
       "        var icon_img = $('<span/>');\n",
       "        icon_img.addClass('ui-button-icon-primary ui-icon');\n",
       "        icon_img.addClass(image);\n",
       "        icon_img.addClass('ui-corner-all');\n",
       "\n",
       "        var tooltip_span = $('<span/>');\n",
       "        tooltip_span.addClass('ui-button-text');\n",
       "        tooltip_span.html(tooltip);\n",
       "\n",
       "        button.append(icon_img);\n",
       "        button.append(tooltip_span);\n",
       "\n",
       "        nav_element.append(button);\n",
       "    }\n",
       "\n",
       "    var fmt_picker_span = $('<span/>');\n",
       "\n",
       "    var fmt_picker = $('<select/>');\n",
       "    fmt_picker.addClass('mpl-toolbar-option ui-widget ui-widget-content');\n",
       "    fmt_picker_span.append(fmt_picker);\n",
       "    nav_element.append(fmt_picker_span);\n",
       "    this.format_dropdown = fmt_picker[0];\n",
       "\n",
       "    for (var ind in mpl.extensions) {\n",
       "        var fmt = mpl.extensions[ind];\n",
       "        var option = $(\n",
       "            '<option/>', {selected: fmt === mpl.default_extension}).html(fmt);\n",
       "        fmt_picker.append(option)\n",
       "    }\n",
       "\n",
       "    // Add hover states to the ui-buttons\n",
       "    $( \".ui-button\" ).hover(\n",
       "        function() { $(this).addClass(\"ui-state-hover\");},\n",
       "        function() { $(this).removeClass(\"ui-state-hover\");}\n",
       "    );\n",
       "\n",
       "    var status_bar = $('<span class=\"mpl-message\"/>');\n",
       "    nav_element.append(status_bar);\n",
       "    this.message = status_bar[0];\n",
       "}\n",
       "\n",
       "mpl.figure.prototype.request_resize = function(x_pixels, y_pixels) {\n",
       "    // Request matplotlib to resize the figure. Matplotlib will then trigger a resize in the client,\n",
       "    // which will in turn request a refresh of the image.\n",
       "    this.send_message('resize', {'width': x_pixels, 'height': y_pixels});\n",
       "}\n",
       "\n",
       "mpl.figure.prototype.send_message = function(type, properties) {\n",
       "    properties['type'] = type;\n",
       "    properties['figure_id'] = this.id;\n",
       "    this.ws.send(JSON.stringify(properties));\n",
       "}\n",
       "\n",
       "mpl.figure.prototype.send_draw_message = function() {\n",
       "    if (!this.waiting) {\n",
       "        this.waiting = true;\n",
       "        this.ws.send(JSON.stringify({type: \"draw\", figure_id: this.id}));\n",
       "    }\n",
       "}\n",
       "\n",
       "\n",
       "mpl.figure.prototype.handle_save = function(fig, msg) {\n",
       "    var format_dropdown = fig.format_dropdown;\n",
       "    var format = format_dropdown.options[format_dropdown.selectedIndex].value;\n",
       "    fig.ondownload(fig, format);\n",
       "}\n",
       "\n",
       "\n",
       "mpl.figure.prototype.handle_resize = function(fig, msg) {\n",
       "    var size = msg['size'];\n",
       "    if (size[0] != fig.canvas.width || size[1] != fig.canvas.height) {\n",
       "        fig._resize_canvas(size[0], size[1]);\n",
       "        fig.send_message(\"refresh\", {});\n",
       "    };\n",
       "}\n",
       "\n",
       "mpl.figure.prototype.handle_rubberband = function(fig, msg) {\n",
       "    var x0 = msg['x0'];\n",
       "    var y0 = fig.canvas.height - msg['y0'];\n",
       "    var x1 = msg['x1'];\n",
       "    var y1 = fig.canvas.height - msg['y1'];\n",
       "    x0 = Math.floor(x0) + 0.5;\n",
       "    y0 = Math.floor(y0) + 0.5;\n",
       "    x1 = Math.floor(x1) + 0.5;\n",
       "    y1 = Math.floor(y1) + 0.5;\n",
       "    var min_x = Math.min(x0, x1);\n",
       "    var min_y = Math.min(y0, y1);\n",
       "    var width = Math.abs(x1 - x0);\n",
       "    var height = Math.abs(y1 - y0);\n",
       "\n",
       "    fig.rubberband_context.clearRect(\n",
       "        0, 0, fig.canvas.width, fig.canvas.height);\n",
       "\n",
       "    fig.rubberband_context.strokeRect(min_x, min_y, width, height);\n",
       "}\n",
       "\n",
       "mpl.figure.prototype.handle_figure_label = function(fig, msg) {\n",
       "    // Updates the figure title.\n",
       "    fig.header.textContent = msg['label'];\n",
       "}\n",
       "\n",
       "mpl.figure.prototype.handle_cursor = function(fig, msg) {\n",
       "    var cursor = msg['cursor'];\n",
       "    switch(cursor)\n",
       "    {\n",
       "    case 0:\n",
       "        cursor = 'pointer';\n",
       "        break;\n",
       "    case 1:\n",
       "        cursor = 'default';\n",
       "        break;\n",
       "    case 2:\n",
       "        cursor = 'crosshair';\n",
       "        break;\n",
       "    case 3:\n",
       "        cursor = 'move';\n",
       "        break;\n",
       "    }\n",
       "    fig.rubberband_canvas.style.cursor = cursor;\n",
       "}\n",
       "\n",
       "mpl.figure.prototype.handle_message = function(fig, msg) {\n",
       "    fig.message.textContent = msg['message'];\n",
       "}\n",
       "\n",
       "mpl.figure.prototype.handle_draw = function(fig, msg) {\n",
       "    // Request the server to send over a new figure.\n",
       "    fig.send_draw_message();\n",
       "}\n",
       "\n",
       "mpl.figure.prototype.handle_image_mode = function(fig, msg) {\n",
       "    fig.image_mode = msg['mode'];\n",
       "}\n",
       "\n",
       "mpl.figure.prototype.updated_canvas_event = function() {\n",
       "    // Called whenever the canvas gets updated.\n",
       "    this.send_message(\"ack\", {});\n",
       "}\n",
       "\n",
       "// A function to construct a web socket function for onmessage handling.\n",
       "// Called in the figure constructor.\n",
       "mpl.figure.prototype._make_on_message_function = function(fig) {\n",
       "    return function socket_on_message(evt) {\n",
       "        if (evt.data instanceof Blob) {\n",
       "            /* FIXME: We get \"Resource interpreted as Image but\n",
       "             * transferred with MIME type text/plain:\" errors on\n",
       "             * Chrome.  But how to set the MIME type?  It doesn't seem\n",
       "             * to be part of the websocket stream */\n",
       "            evt.data.type = \"image/png\";\n",
       "\n",
       "            /* Free the memory for the previous frames */\n",
       "            if (fig.imageObj.src) {\n",
       "                (window.URL || window.webkitURL).revokeObjectURL(\n",
       "                    fig.imageObj.src);\n",
       "            }\n",
       "\n",
       "            fig.imageObj.src = (window.URL || window.webkitURL).createObjectURL(\n",
       "                evt.data);\n",
       "            fig.updated_canvas_event();\n",
       "            fig.waiting = false;\n",
       "            return;\n",
       "        }\n",
       "        else if (typeof evt.data === 'string' && evt.data.slice(0, 21) == \"data:image/png;base64\") {\n",
       "            fig.imageObj.src = evt.data;\n",
       "            fig.updated_canvas_event();\n",
       "            fig.waiting = false;\n",
       "            return;\n",
       "        }\n",
       "\n",
       "        var msg = JSON.parse(evt.data);\n",
       "        var msg_type = msg['type'];\n",
       "\n",
       "        // Call the  \"handle_{type}\" callback, which takes\n",
       "        // the figure and JSON message as its only arguments.\n",
       "        try {\n",
       "            var callback = fig[\"handle_\" + msg_type];\n",
       "        } catch (e) {\n",
       "            console.log(\"No handler for the '\" + msg_type + \"' message type: \", msg);\n",
       "            return;\n",
       "        }\n",
       "\n",
       "        if (callback) {\n",
       "            try {\n",
       "                // console.log(\"Handling '\" + msg_type + \"' message: \", msg);\n",
       "                callback(fig, msg);\n",
       "            } catch (e) {\n",
       "                console.log(\"Exception inside the 'handler_\" + msg_type + \"' callback:\", e, e.stack, msg);\n",
       "            }\n",
       "        }\n",
       "    };\n",
       "}\n",
       "\n",
       "// from http://stackoverflow.com/questions/1114465/getting-mouse-location-in-canvas\n",
       "mpl.findpos = function(e) {\n",
       "    //this section is from http://www.quirksmode.org/js/events_properties.html\n",
       "    var targ;\n",
       "    if (!e)\n",
       "        e = window.event;\n",
       "    if (e.target)\n",
       "        targ = e.target;\n",
       "    else if (e.srcElement)\n",
       "        targ = e.srcElement;\n",
       "    if (targ.nodeType == 3) // defeat Safari bug\n",
       "        targ = targ.parentNode;\n",
       "\n",
       "    // jQuery normalizes the pageX and pageY\n",
       "    // pageX,Y are the mouse positions relative to the document\n",
       "    // offset() returns the position of the element relative to the document\n",
       "    var x = e.pageX - $(targ).offset().left;\n",
       "    var y = e.pageY - $(targ).offset().top;\n",
       "\n",
       "    return {\"x\": x, \"y\": y};\n",
       "};\n",
       "\n",
       "/*\n",
       " * return a copy of an object with only non-object keys\n",
       " * we need this to avoid circular references\n",
       " * http://stackoverflow.com/a/24161582/3208463\n",
       " */\n",
       "function simpleKeys (original) {\n",
       "  return Object.keys(original).reduce(function (obj, key) {\n",
       "    if (typeof original[key] !== 'object')\n",
       "        obj[key] = original[key]\n",
       "    return obj;\n",
       "  }, {});\n",
       "}\n",
       "\n",
       "mpl.figure.prototype.mouse_event = function(event, name) {\n",
       "    var canvas_pos = mpl.findpos(event)\n",
       "\n",
       "    if (name === 'button_press')\n",
       "    {\n",
       "        this.canvas.focus();\n",
       "        this.canvas_div.focus();\n",
       "    }\n",
       "\n",
       "    var x = canvas_pos.x;\n",
       "    var y = canvas_pos.y;\n",
       "\n",
       "    this.send_message(name, {x: x, y: y, button: event.button,\n",
       "                             step: event.step,\n",
       "                             guiEvent: simpleKeys(event)});\n",
       "\n",
       "    /* This prevents the web browser from automatically changing to\n",
       "     * the text insertion cursor when the button is pressed.  We want\n",
       "     * to control all of the cursor setting manually through the\n",
       "     * 'cursor' event from matplotlib */\n",
       "    event.preventDefault();\n",
       "    return false;\n",
       "}\n",
       "\n",
       "mpl.figure.prototype._key_event_extra = function(event, name) {\n",
       "    // Handle any extra behaviour associated with a key event\n",
       "}\n",
       "\n",
       "mpl.figure.prototype.key_event = function(event, name) {\n",
       "\n",
       "    // Prevent repeat events\n",
       "    if (name == 'key_press')\n",
       "    {\n",
       "        if (event.which === this._key)\n",
       "            return;\n",
       "        else\n",
       "            this._key = event.which;\n",
       "    }\n",
       "    if (name == 'key_release')\n",
       "        this._key = null;\n",
       "\n",
       "    var value = '';\n",
       "    if (event.ctrlKey && event.which != 17)\n",
       "        value += \"ctrl+\";\n",
       "    if (event.altKey && event.which != 18)\n",
       "        value += \"alt+\";\n",
       "    if (event.shiftKey && event.which != 16)\n",
       "        value += \"shift+\";\n",
       "\n",
       "    value += 'k';\n",
       "    value += event.which.toString();\n",
       "\n",
       "    this._key_event_extra(event, name);\n",
       "\n",
       "    this.send_message(name, {key: value,\n",
       "                             guiEvent: simpleKeys(event)});\n",
       "    return false;\n",
       "}\n",
       "\n",
       "mpl.figure.prototype.toolbar_button_onclick = function(name) {\n",
       "    if (name == 'download') {\n",
       "        this.handle_save(this, null);\n",
       "    } else {\n",
       "        this.send_message(\"toolbar_button\", {name: name});\n",
       "    }\n",
       "};\n",
       "\n",
       "mpl.figure.prototype.toolbar_button_onmouseover = function(tooltip) {\n",
       "    this.message.textContent = tooltip;\n",
       "};\n",
       "mpl.toolbar_items = [[\"Home\", \"Reset original view\", \"fa fa-home icon-home\", \"home\"], [\"Back\", \"Back to  previous view\", \"fa fa-arrow-left icon-arrow-left\", \"back\"], [\"Forward\", \"Forward to next view\", \"fa fa-arrow-right icon-arrow-right\", \"forward\"], [\"\", \"\", \"\", \"\"], [\"Pan\", \"Pan axes with left mouse, zoom with right\", \"fa fa-arrows icon-move\", \"pan\"], [\"Zoom\", \"Zoom to rectangle\", \"fa fa-square-o icon-check-empty\", \"zoom\"], [\"\", \"\", \"\", \"\"], [\"Download\", \"Download plot\", \"fa fa-floppy-o icon-save\", \"download\"]];\n",
       "\n",
       "mpl.extensions = [\"eps\", \"jpeg\", \"pdf\", \"png\", \"ps\", \"raw\", \"svg\", \"tif\"];\n",
       "\n",
       "mpl.default_extension = \"png\";var comm_websocket_adapter = function(comm) {\n",
       "    // Create a \"websocket\"-like object which calls the given IPython comm\n",
       "    // object with the appropriate methods. Currently this is a non binary\n",
       "    // socket, so there is still some room for performance tuning.\n",
       "    var ws = {};\n",
       "\n",
       "    ws.close = function() {\n",
       "        comm.close()\n",
       "    };\n",
       "    ws.send = function(m) {\n",
       "        //console.log('sending', m);\n",
       "        comm.send(m);\n",
       "    };\n",
       "    // Register the callback with on_msg.\n",
       "    comm.on_msg(function(msg) {\n",
       "        //console.log('receiving', msg['content']['data'], msg);\n",
       "        // Pass the mpl event to the overriden (by mpl) onmessage function.\n",
       "        ws.onmessage(msg['content']['data'])\n",
       "    });\n",
       "    return ws;\n",
       "}\n",
       "\n",
       "mpl.mpl_figure_comm = function(comm, msg) {\n",
       "    // This is the function which gets called when the mpl process\n",
       "    // starts-up an IPython Comm through the \"matplotlib\" channel.\n",
       "\n",
       "    var id = msg.content.data.id;\n",
       "    // Get hold of the div created by the display call when the Comm\n",
       "    // socket was opened in Python.\n",
       "    var element = $(\"#\" + id);\n",
       "    var ws_proxy = comm_websocket_adapter(comm)\n",
       "\n",
       "    function ondownload(figure, format) {\n",
       "        window.open(figure.imageObj.src);\n",
       "    }\n",
       "\n",
       "    var fig = new mpl.figure(id, ws_proxy,\n",
       "                           ondownload,\n",
       "                           element.get(0));\n",
       "\n",
       "    // Call onopen now - mpl needs it, as it is assuming we've passed it a real\n",
       "    // web socket which is closed, not our websocket->open comm proxy.\n",
       "    ws_proxy.onopen();\n",
       "\n",
       "    fig.parent_element = element.get(0);\n",
       "    fig.cell_info = mpl.find_output_cell(\"<div id='\" + id + \"'></div>\");\n",
       "    if (!fig.cell_info) {\n",
       "        console.error(\"Failed to find cell for figure\", id, fig);\n",
       "        return;\n",
       "    }\n",
       "\n",
       "    var output_index = fig.cell_info[2]\n",
       "    var cell = fig.cell_info[0];\n",
       "\n",
       "};\n",
       "\n",
       "mpl.figure.prototype.handle_close = function(fig, msg) {\n",
       "    fig.root.unbind('remove')\n",
       "\n",
       "    // Update the output cell to use the data from the current canvas.\n",
       "    fig.push_to_output();\n",
       "    var dataURL = fig.canvas.toDataURL();\n",
       "    // Re-enable the keyboard manager in IPython - without this line, in FF,\n",
       "    // the notebook keyboard shortcuts fail.\n",
       "    IPython.keyboard_manager.enable()\n",
       "    $(fig.parent_element).html('<img src=\"' + dataURL + '\">');\n",
       "    fig.close_ws(fig, msg);\n",
       "}\n",
       "\n",
       "mpl.figure.prototype.close_ws = function(fig, msg){\n",
       "    fig.send_message('closing', msg);\n",
       "    // fig.ws.close()\n",
       "}\n",
       "\n",
       "mpl.figure.prototype.push_to_output = function(remove_interactive) {\n",
       "    // Turn the data on the canvas into data in the output cell.\n",
       "    var dataURL = this.canvas.toDataURL();\n",
       "    this.cell_info[1]['text/html'] = '<img src=\"' + dataURL + '\">';\n",
       "}\n",
       "\n",
       "mpl.figure.prototype.updated_canvas_event = function() {\n",
       "    // Tell IPython that the notebook contents must change.\n",
       "    IPython.notebook.set_dirty(true);\n",
       "    this.send_message(\"ack\", {});\n",
       "    var fig = this;\n",
       "    // Wait a second, then push the new image to the DOM so\n",
       "    // that it is saved nicely (might be nice to debounce this).\n",
       "    setTimeout(function () { fig.push_to_output() }, 1000);\n",
       "}\n",
       "\n",
       "mpl.figure.prototype._init_toolbar = function() {\n",
       "    var fig = this;\n",
       "\n",
       "    var nav_element = $('<div/>')\n",
       "    nav_element.attr('style', 'width: 100%');\n",
       "    this.root.append(nav_element);\n",
       "\n",
       "    // Define a callback function for later on.\n",
       "    function toolbar_event(event) {\n",
       "        return fig.toolbar_button_onclick(event['data']);\n",
       "    }\n",
       "    function toolbar_mouse_event(event) {\n",
       "        return fig.toolbar_button_onmouseover(event['data']);\n",
       "    }\n",
       "\n",
       "    for(var toolbar_ind in mpl.toolbar_items){\n",
       "        var name = mpl.toolbar_items[toolbar_ind][0];\n",
       "        var tooltip = mpl.toolbar_items[toolbar_ind][1];\n",
       "        var image = mpl.toolbar_items[toolbar_ind][2];\n",
       "        var method_name = mpl.toolbar_items[toolbar_ind][3];\n",
       "\n",
       "        if (!name) { continue; };\n",
       "\n",
       "        var button = $('<button class=\"btn btn-default\" href=\"#\" title=\"' + name + '\"><i class=\"fa ' + image + ' fa-lg\"></i></button>');\n",
       "        button.click(method_name, toolbar_event);\n",
       "        button.mouseover(tooltip, toolbar_mouse_event);\n",
       "        nav_element.append(button);\n",
       "    }\n",
       "\n",
       "    // Add the status bar.\n",
       "    var status_bar = $('<span class=\"mpl-message\" style=\"text-align:right; float: right;\"/>');\n",
       "    nav_element.append(status_bar);\n",
       "    this.message = status_bar[0];\n",
       "\n",
       "    // Add the close button to the window.\n",
       "    var buttongrp = $('<div class=\"btn-group inline pull-right\"></div>');\n",
       "    var button = $('<button class=\"btn btn-mini btn-primary\" href=\"#\" title=\"Stop Interaction\"><i class=\"fa fa-power-off icon-remove icon-large\"></i></button>');\n",
       "    button.click(function (evt) { fig.handle_close(fig, {}); } );\n",
       "    button.mouseover('Stop Interaction', toolbar_mouse_event);\n",
       "    buttongrp.append(button);\n",
       "    var titlebar = this.root.find($('.ui-dialog-titlebar'));\n",
       "    titlebar.prepend(buttongrp);\n",
       "}\n",
       "\n",
       "mpl.figure.prototype._root_extra_style = function(el){\n",
       "    var fig = this\n",
       "    el.on(\"remove\", function(){\n",
       "\tfig.close_ws(fig, {});\n",
       "    });\n",
       "}\n",
       "\n",
       "mpl.figure.prototype._canvas_extra_style = function(el){\n",
       "    // this is important to make the div 'focusable\n",
       "    el.attr('tabindex', 0)\n",
       "    // reach out to IPython and tell the keyboard manager to turn it's self\n",
       "    // off when our div gets focus\n",
       "\n",
       "    // location in version 3\n",
       "    if (IPython.notebook.keyboard_manager) {\n",
       "        IPython.notebook.keyboard_manager.register_events(el);\n",
       "    }\n",
       "    else {\n",
       "        // location in version 2\n",
       "        IPython.keyboard_manager.register_events(el);\n",
       "    }\n",
       "\n",
       "}\n",
       "\n",
       "mpl.figure.prototype._key_event_extra = function(event, name) {\n",
       "    var manager = IPython.notebook.keyboard_manager;\n",
       "    if (!manager)\n",
       "        manager = IPython.keyboard_manager;\n",
       "\n",
       "    // Check for shift+enter\n",
       "    if (event.shiftKey && event.which == 13) {\n",
       "        this.canvas_div.blur();\n",
       "        event.shiftKey = false;\n",
       "        // Send a \"J\" for go to next cell\n",
       "        event.which = 74;\n",
       "        event.keyCode = 74;\n",
       "        manager.command_mode();\n",
       "        manager.handle_keydown(event);\n",
       "    }\n",
       "}\n",
       "\n",
       "mpl.figure.prototype.handle_save = function(fig, msg) {\n",
       "    fig.ondownload(fig, null);\n",
       "}\n",
       "\n",
       "\n",
       "mpl.find_output_cell = function(html_output) {\n",
       "    // Return the cell and output element which can be found *uniquely* in the notebook.\n",
       "    // Note - this is a bit hacky, but it is done because the \"notebook_saving.Notebook\"\n",
       "    // IPython event is triggered only after the cells have been serialised, which for\n",
       "    // our purposes (turning an active figure into a static one), is too late.\n",
       "    var cells = IPython.notebook.get_cells();\n",
       "    var ncells = cells.length;\n",
       "    for (var i=0; i<ncells; i++) {\n",
       "        var cell = cells[i];\n",
       "        if (cell.cell_type === 'code'){\n",
       "            for (var j=0; j<cell.output_area.outputs.length; j++) {\n",
       "                var data = cell.output_area.outputs[j];\n",
       "                if (data.data) {\n",
       "                    // IPython >= 3 moved mimebundle to data attribute of output\n",
       "                    data = data.data;\n",
       "                }\n",
       "                if (data['text/html'] == html_output) {\n",
       "                    return [cell, data, j];\n",
       "                }\n",
       "            }\n",
       "        }\n",
       "    }\n",
       "}\n",
       "\n",
       "// Register the function which deals with the matplotlib target/channel.\n",
       "// The kernel may be null if the page has been refreshed.\n",
       "if (IPython.notebook.kernel != null) {\n",
       "    IPython.notebook.kernel.comm_manager.register_target('matplotlib', mpl.mpl_figure_comm);\n",
       "}\n"
      ],
      "text/plain": [
       "<IPython.core.display.Javascript object>"
      ]
     },
     "metadata": {},
     "output_type": "display_data"
    },
    {
     "data": {
      "text/html": [
       "<img src=\"data:image/png;base64,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\">"
      ],
      "text/plain": [
       "<IPython.core.display.HTML object>"
      ]
     },
     "metadata": {},
     "output_type": "display_data"
    },
    {
     "data": {
      "text/plain": [
       "<matplotlib.axes._subplots.AxesSubplot at 0xc97aeb8>"
      ]
     },
     "execution_count": 20,
     "metadata": {},
     "output_type": "execute_result"
    }
   ],
   "source": [
    "rsquared = np.linspace(0.5, 0.95, 100)\n",
    "vif = 1 / (1 - rsquared)\n",
    "\n",
    "pd.DataFrame({\n",
    "    'rsquared': rsquared,\n",
    "    'vif': vif\n",
    "}).plot(kind = 'scatter', x = 'rsquared', y = 'vif')"
   ]
  },
  {
   "cell_type": "markdown",
   "metadata": {},
   "source": [
    "Here, we get a bit more insight into the classic VIF thresholds.\n",
    "\n",
    "A VIF of 5 means that your r-squared is sitting around 0.8 on the predictor regression.\n",
    "\n",
    "A VIF of 10 means that your r-squared is sitting around 0.9 on the predictor regression.\n",
    "\n",
    "Essentially what we are saying is that we're comfortable saying that the collinearity is acceptable below a 0.8 r-squared threshold. How accurate is that? Well I'm not about to argue with the standards of an entire scientific community... I'm just a guy who likes basketball...\n",
    "\n",
    "Let's give VIF a try."
   ]
  },
  {
   "cell_type": "code",
   "execution_count": 21,
   "metadata": {
    "collapsed": false
   },
   "outputs": [
    {
     "data": {
      "text/html": [
       "<div>\n",
       "<table border=\"1\" class=\"dataframe\">\n",
       "  <thead>\n",
       "    <tr style=\"text-align: right;\">\n",
       "      <th></th>\n",
       "      <th>vif(allNbaLogReg)</th>\n",
       "    </tr>\n",
       "  </thead>\n",
       "  <tbody>\n",
       "    <tr>\n",
       "      <th>advancedStats_WS</th>\n",
       "      <td>2.467044</td>\n",
       "    </tr>\n",
       "    <tr>\n",
       "      <th>advancedStats_VORP</th>\n",
       "      <td>2.467044</td>\n",
       "    </tr>\n",
       "  </tbody>\n",
       "</table>\n",
       "</div>"
      ],
      "text/plain": [
       "                    vif(allNbaLogReg)\n",
       "advancedStats_WS             2.467044\n",
       "advancedStats_VORP           2.467044"
      ]
     },
     "execution_count": 21,
     "metadata": {},
     "output_type": "execute_result"
    }
   ],
   "source": [
    "# Load library with vif function\n",
    "%R library(car)\n",
    "\n",
    "# Run vif analysis\n",
    "%R as.data.frame(vif(allNbaLogReg))"
   ]
  },
  {
   "cell_type": "markdown",
   "metadata": {},
   "source": [
    "Doesn't actually look like there's much collinearity here! The value is not 0, so it definitely exists, but is well below our threshold of 5. It does still bother me a little bit because just _**visually**_, there clearly is collinearity! The band might be wide enough to escape the threshold, but there definitely is, right?\n",
    "\n",
    "<img src=\"https://68.media.tumblr.com/e6626cfa0fe8a0688164cad15a8ab17f/tumblr_nqaly8YmeU1ur2po4o1_500.gif\" width=\"400\">\n",
    "\n",
    "### LDA + Logistic Regression\n",
    "Let me actually try a dimension reduction algorithm to see if I can get any closer in my predictions! This seems perfect for LDA dimension reduction because LDA will help us find the axis of greatest separation. We then end up with one predictor variable (the first LDA component) which we can then pass through logistic regression."
   ]
  },
  {
   "cell_type": "code",
   "execution_count": 22,
   "metadata": {
    "collapsed": false
   },
   "outputs": [],
   "source": [
    "%%R -o allNbaLogRegLdaCoefs\n",
    "\n",
    "# Load MASS package to access LDA function\n",
    "library(MASS)\n",
    "\n",
    "# Fit the LDA model\n",
    "allNbaLda = lda(accolades_all_nba ~ advancedStats_VORP + advancedStats_WS, data = playerAggDfAllNbaAllStar)\n",
    "\n",
    "# Apply the model back on the data to get the reduced dimension\n",
    "allNbaLdaPred = predict(allNbaLda, newdata = playerAggDfAllNbaAllStar[,c('advancedStats_VORP', 'advancedStats_WS')])\n",
    "\n",
    "# Store the first LDA component back into our dataframe\n",
    "playerAggDfAllNbaAllStar['lda_first_comp'] = allNbaLdaPred$x[,'LD1']\n",
    "\n",
    "# Fit the logistic regression model\n",
    "allNbaLogRegLda = glm(accolades_all_nba ~ lda_first_comp, data = playerAggDfAllNbaAllStar, family = binomial(link = 'logit'))\n",
    "\n",
    "# # Store coefficients in dataframe to view back in python\n",
    "allNbaLogRegLdaCoefs = as.data.frame(summary(allNbaLogRegLda)$coefficients)"
   ]
  },
  {
   "cell_type": "code",
   "execution_count": 23,
   "metadata": {
    "collapsed": false
   },
   "outputs": [
    {
     "data": {
      "text/html": [
       "<div>\n",
       "<table border=\"1\" class=\"dataframe\">\n",
       "  <thead>\n",
       "    <tr style=\"text-align: right;\">\n",
       "      <th></th>\n",
       "      <th>Estimate</th>\n",
       "      <th>Std. Error</th>\n",
       "      <th>z value</th>\n",
       "      <th>Pr(&gt;|z|)</th>\n",
       "    </tr>\n",
       "  </thead>\n",
       "  <tbody>\n",
       "    <tr>\n",
       "      <th>(Intercept)</th>\n",
       "      <td>5.821242</td>\n",
       "      <td>0.152874</td>\n",
       "      <td>38.078724</td>\n",
       "      <td>0.000000e+00</td>\n",
       "    </tr>\n",
       "    <tr>\n",
       "      <th>lda_first_comp</th>\n",
       "      <td>1.852801</td>\n",
       "      <td>0.060778</td>\n",
       "      <td>30.484941</td>\n",
       "      <td>4.126607e-204</td>\n",
       "    </tr>\n",
       "  </tbody>\n",
       "</table>\n",
       "</div>"
      ],
      "text/plain": [
       "                Estimate  Std. Error    z value       Pr(>|z|)\n",
       "(Intercept)     5.821242    0.152874  38.078724   0.000000e+00\n",
       "lda_first_comp  1.852801    0.060778  30.484941  4.126607e-204"
      ]
     },
     "execution_count": 23,
     "metadata": {},
     "output_type": "execute_result"
    }
   ],
   "source": [
    "# View coefficients of logistic regression model on first LDA component\n",
    "allNbaLogRegLdaCoefs"
   ]
  },
  {
   "cell_type": "markdown",
   "metadata": {},
   "source": [
    "Okay, our coefficient is positive now, but we have to be aware of everything that's going on. Our unit increase is now on our LDA component, the axis of greatest separation. This is some combinatino of WS and VORP, but is a bit abstracted now because we can't tie it directly to WS or VORP without looking at any of the loadings on the variables.\n",
    "\n",
    "However, we do only have one variable, and with every unit increase in that variable, we _**increase**_ our log-odds by 1.85, and I can only assume that our probability has switched to now evaluating the probability of _**being on an all-NBA team**_ because of the positive coefficient.\n",
    "\n",
    "Let's take a look at the ROC curve here."
   ]
  },
  {
   "cell_type": "code",
   "execution_count": 24,
   "metadata": {
    "collapsed": false
   },
   "outputs": [
    {
     "data": {
      "image/png": "[encoded data removed]"
     },
     "metadata": {},
     "output_type": "display_data"
    }
   ],
   "source": [
    "%%R -w 700 -u px\n",
    "\n",
    "# Add predictions to dataframe\n",
    "playerAggDfAllNbaAllStar['lda_log_reg_pred'] = predict(allNbaLogRegLda, playerAggDfAllNbaAllStar[c('lda_first_comp')], type = 'response')\n",
    "\n",
    "# Plot WS vs VORP scatter with predictions colored in\n",
    "allNbaPlotLogLdaReg = ggplot(\n",
    "    NULL\n",
    ") +\n",
    "geom_point(\n",
    "    data = playerAggDfAllNbaAllStar,\n",
    "    aes(\n",
    "        x = advancedStats_VORP,\n",
    "        y = advancedStats_WS,\n",
    "        color = lda_log_reg_pred\n",
    "    )\n",
    ")\n",
    "\n",
    "allNbaPlotLogLdaReg"
   ]
  },
  {
   "cell_type": "markdown",
   "metadata": {},
   "source": [
    "The gradient has in fact changed! Not by much, but it has definitely changed. The gradient before was a bit more horizontal, but we see now that it changes more along with the axis of separation, which is diagonal. It almost looks like we did it with PCA as well, it looks to be in the axis of greatest varaince as well (roughly).\n",
    "\n",
    "Let's check out the ROC curve."
   ]
  },
  {
   "cell_type": "code",
   "execution_count": 25,
   "metadata": {
    "collapsed": false
   },
   "outputs": [
    {
     "data": {
      "image/png": "[encoded data removed]"
     },
     "metadata": {},
     "output_type": "display_data"
    }
   ],
   "source": [
    "%%R\n",
    "\n",
    "# Perform prediction\n",
    "logRegLdaPredObj = prediction(playerAggDfAllNbaAllStar['lda_log_reg_pred'], playerAggDfAllNbaAllStar['accolades_all_nba'])\n",
    "\n",
    "# Run performance evaluation for the metrics 'true positive rate' and 'false positive rate'\n",
    "logRegLdaRocEval = performance(logRegLdaPredObj, 'sens', 'spec')\n",
    "plot(logRegLdaRocEval, colorize = T)"
   ]
  },
  {
   "cell_type": "code",
   "execution_count": 26,
   "metadata": {
    "collapsed": false
   },
   "outputs": [
    {
     "data": {
      "text/html": [
       "<div>\n",
       "<table border=\"1\" class=\"dataframe\">\n",
       "  <thead>\n",
       "    <tr style=\"text-align: right;\">\n",
       "      <th></th>\n",
       "      <th>cut</th>\n",
       "      <th>sens</th>\n",
       "      <th>spec</th>\n",
       "      <th>sens_plus_spec</th>\n",
       "    </tr>\n",
       "  </thead>\n",
       "  <tbody>\n",
       "    <tr>\n",
       "      <th>1821</th>\n",
       "      <td>0.972548</td>\n",
       "      <td>0.956175</td>\n",
       "      <td>0.893537</td>\n",
       "      <td>1.849712</td>\n",
       "    </tr>\n",
       "    <tr>\n",
       "      <th>1802</th>\n",
       "      <td>0.974116</td>\n",
       "      <td>0.960159</td>\n",
       "      <td>0.889605</td>\n",
       "      <td>1.849765</td>\n",
       "    </tr>\n",
       "    <tr>\n",
       "      <th>1803</th>\n",
       "      <td>0.974060</td>\n",
       "      <td>0.960159</td>\n",
       "      <td>0.889684</td>\n",
       "      <td>1.849843</td>\n",
       "    </tr>\n",
       "    <tr>\n",
       "      <th>1804</th>\n",
       "      <td>0.974002</td>\n",
       "      <td>0.960159</td>\n",
       "      <td>0.889841</td>\n",
       "      <td>1.850001</td>\n",
       "    </tr>\n",
       "    <tr>\n",
       "      <th>1805</th>\n",
       "      <td>0.973946</td>\n",
       "      <td>0.960159</td>\n",
       "      <td>0.889998</td>\n",
       "      <td>1.850158</td>\n",
       "    </tr>\n",
       "    <tr>\n",
       "      <th>1806</th>\n",
       "      <td>0.973888</td>\n",
       "      <td>0.960159</td>\n",
       "      <td>0.890077</td>\n",
       "      <td>1.850236</td>\n",
       "    </tr>\n",
       "  </tbody>\n",
       "</table>\n",
       "</div>"
      ],
      "text/plain": [
       "           cut      sens      spec  sens_plus_spec\n",
       "1821  0.972548  0.956175  0.893537        1.849712\n",
       "1802  0.974116  0.960159  0.889605        1.849765\n",
       "1803  0.974060  0.960159  0.889684        1.849843\n",
       "1804  0.974002  0.960159  0.889841        1.850001\n",
       "1805  0.973946  0.960159  0.889998        1.850158\n",
       "1806  0.973888  0.960159  0.890077        1.850236"
      ]
     },
     "execution_count": 26,
     "metadata": {},
     "output_type": "execute_result"
    }
   ],
   "source": [
    "# Retrieve the iterative cut-off sensitivity analysis that logistic regression did behind the scenes\n",
    "%R logRegLdaCutoffs = data.frame(cut = logRegLdaRocEval@alpha.values[[1]], sens = logRegLdaRocEval@x.values[[1]], spec = logRegLdaRocEval@y.values[[1]])\n",
    "\n",
    "# Calculate the metrics sensitivity + specificity. This will help us gauge the accuracy of both classes simultaneously.\n",
    "#   E.g. if we were guessing each class 100% correctly (there is a very distinct decision boundary), then we would have 1 + 1 = 2\n",
    "%R logRegLdaCutoffs['sens_plus_spec'] = logRegLdaCutoffs['sens'] + logRegLdaCutoffs['spec']\n",
    "\n",
    "# See the last few rows of this dataframe where the sensitivity + specificity are at its max\n",
    "%R tail(logRegLdaCutoffs[order(logRegLdaCutoffs$sens_plus_spec),])"
   ]
  },
  {
   "cell_type": "markdown",
   "metadata": {},
   "source": [
    "Okay, wow, in this space, the max we can achieve is 1.85 and the max we achieved with pure logistic regression is 1.866. We see that the split here is 96% / 89%, which is probably a bit less disirable than 94% / 92%, so let's not go any further for now."
   ]
  },
  {
   "cell_type": "code",
   "execution_count": null,
   "metadata": {
    "collapsed": true
   },
   "outputs": [],
   "source": []
  }
 ],
 "metadata": {
  "kernelspec": {
   "display_name": "Python [Root]",
   "language": "python",
   "name": "Python [Root]"
  },
  "language_info": {
   "codemirror_mode": {
    "name": "ipython",
    "version": 2
   },
   "file_extension": ".py",
   "mimetype": "text/x-python",
   "name": "python",
   "nbconvert_exporter": "python",
   "pygments_lexer": "ipython2",
   "version": "2.7.11"
  }
 },
 "nbformat": 4,
 "nbformat_minor": 0
}
