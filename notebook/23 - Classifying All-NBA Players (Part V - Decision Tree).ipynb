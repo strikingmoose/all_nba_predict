{
 "cells": [
  {
   "cell_type": "markdown",
   "metadata": {},
   "source": [
    "# 23 - Classifying All-NBA Players (Part V - Decision Tree)\n",
    "Alrighty, so we've taken a look at the following classifiers: Manually selected linear boundary, LDA, QDA, and logistic regression. First one, not so scientific. Next 3, a bit of math involved, nothing too crazy. We now jump to one of the most interpretable models that exist. [ESL](http://statweb.stanford.edu/~tibs/ElemStatLearn/download.html) calls the decision tree as close to an off-the-shelf model you can get.\n",
    "\n",
    "According to the book, trees have the following outstanding qualities:\n",
    "- Fast to construct\n",
    "- Interpretable models (if trees are relatively small)\n",
    "- Can naturally incorporate numeric and categorical featuers\n",
    "- Immune to outliers\n",
    "- Perform internal feature selection\n",
    "\n",
    "The only thing that prevents decision trees from being completely ideal is accuracy because they seldom provide the predictive accuracy compared to the best that can be achieved with the data at hand. This really depends on what your application here is, though. For many applications, _**interpretability**_ may be just as, if not more important, if not _**A LOT**_ more important than accuracy alone. In an application like we're exploring now, where we're literally trying to make sense of how VORP and WS affects all-NBA status, we'd likely welcome something that says \"hey bozo, anything over a WS of 7 generally makes all-NBA\". This contrasts to something like Neural Networks, which we'll look at later, but generally is a very complex linear combination of the inputs and usually is very complex. For much more complex applications like image detection, NN's have become more popular because of their flexibility, but if you try to interpret the model to understand how the NN is telling the difference between a picture of a meerkat and a picture of a lion, you'd be hard-pressed to find an explanation that someone else will also be able to understand!\n",
    "\n",
    "Now, back to trees. Essentially what we're trying to do is split our space up with basic logic / rules that an analyst might come up with. Let's say we're trying to figure out peoples' salaries based on their education. Maybe you'd say somebody with no post secondary education might have a lower salary. Perhaps someone with 0-4 years of schooling will have a bit higher salary. 4-8 even more. And maybe 8-12 is too much school and your salary goes down a bit (you stay in academia or something like that). Your rules might look like:\n",
    "- If # years schooling == 0: Salary ~ \\$40K\n",
    "- If 0 < # years schooling < 4: Salary ~ \\$80K\n",
    "- If 4 < # years schooling < 8: Salary ~ \\$120K\n",
    "- If 8 < # years schooling < 12: Salary ~ \\$80K\n",
    "\n",
    "If we extended this to 2 features, maybe our 2D space would look something like that:\n",
    "\n",
    "![](https://s3.ca-central-1.amazonaws.com/2017edmfasatb/fas_boto/images/trees/1exampleregions.png)\n",
    "\n",
    "And if we broke down the rules, our rules could be mapped out in a plot like this:\n",
    "\n",
    "![](https://s3.ca-central-1.amazonaws.com/2017edmfasatb/fas_boto/images/trees/2exampletree.png)\n",
    "\n",
    "The above two plots are saying the same thing!\n",
    "\n",
    "From this graphic in [ISL](http://www-bcf.usc.edu/~gareth/ISL/) (ESL's more application-based sister book), we can see further advantages and drawbacks of the decision tree.\n",
    "\n",
    "![](https://s3.ca-central-1.amazonaws.com/2017edmfasatb/fas_boto/images/trees/3treelinearboundary.png)\n",
    "\n",
    "We see for linear boundaries, linear models could work better. For non-linear and more compartmentalized boundaries, decision trees can perform well. Decision trees can perform well for linear boundaries as well, but like the top-right plot above, we see our decision tree becomes more complicated and to an extent less interpretable.\n",
    "\n",
    "We actually do have more of a linear boundary here, so the decision tree might not be the _**best**_ model, but let's see what happens."
   ]
  },
  {
   "cell_type": "code",
   "execution_count": 1,
   "metadata": {
    "collapsed": true
   },
   "outputs": [],
   "source": [
    "# Load libraries & initial config\n",
    "%load_ext rpy2.ipython\n",
    "\n",
    "%R library(ggplot2)\n",
    "%R library(gridExtra)\n",
    "%R library(scales)\n",
    "%R library(ggbiplot)\n",
    "%R library(dplyr)\n",
    "\n",
    "%matplotlib nbagg\n",
    "import pandas as pd\n",
    "import numpy as np\n",
    "import matplotlib.pyplot as plt\n",
    "import boto3\n",
    "from StringIO import StringIO\n",
    "import warnings\n",
    "warnings.filterwarnings('ignore')"
   ]
  },
  {
   "cell_type": "code",
   "execution_count": 2,
   "metadata": {
    "collapsed": false,
    "scrolled": true
   },
   "outputs": [
    {
     "name": "stdout",
     "output_type": "stream",
     "text": [
      "season_start_year          int64\n",
      "perGameStats_Player       object\n",
      "perGameStats_Pos          object\n",
      "perGameStats_Age           int64\n",
      "perGameStats_Tm           object\n",
      "perGameStats_G             int64\n",
      "perGameStats_GS          float64\n",
      "perGameStats_MP          float64\n",
      "per100Stats_FG           float64\n",
      "per100Stats_FGA          float64\n",
      "per100Stats_FGPerc       float64\n",
      "per100Stats_3P           float64\n",
      "per100Stats_3PA          float64\n",
      "per100Stats_3PPerc       float64\n",
      "per100Stats_2P           float64\n",
      "per100Stats_2PA          float64\n",
      "per100Stats_2PPerc       float64\n",
      "per100Stats_FT           float64\n",
      "per100Stats_FTA          float64\n",
      "per100Stats_FTPerc       float64\n",
      "per100Stats_ORB          float64\n",
      "per100Stats_DRB          float64\n",
      "per100Stats_TRB          float64\n",
      "per100Stats_AST          float64\n",
      "per100Stats_STL          float64\n",
      "per100Stats_BLK          float64\n",
      "per100Stats_TOV          float64\n",
      "per100Stats_PF           float64\n",
      "per100Stats_PTS          float64\n",
      "per100Stats_ORtg         float64\n",
      "per100Stats_DRtg         float64\n",
      "advancedStats_PER        float64\n",
      "advancedStats_TSPerc     float64\n",
      "advancedStats_3PAr       float64\n",
      "advancedStats_FTr        float64\n",
      "advancedStats_ORBPerc    float64\n",
      "advancedStats_DRBPerc    float64\n",
      "advancedStats_TRBPerc    float64\n",
      "advancedStats_ASTPerc    float64\n",
      "advancedStats_STLPerc    float64\n",
      "advancedStats_BLKPerc    float64\n",
      "advancedStats_TOVPerc    float64\n",
      "advancedStats_USGPerc    float64\n",
      "advancedStats_OWS        float64\n",
      "advancedStats_DWS        float64\n",
      "advancedStats_WS         float64\n",
      "advancedStats_WS48       float64\n",
      "advancedStats_OBPM       float64\n",
      "advancedStats_DBPM       float64\n",
      "advancedStats_BPM        float64\n",
      "advancedStats_VORP       float64\n",
      "player_formatted          object\n",
      "Tm                        object\n",
      "Player_x                  object\n",
      "Player_y                  object\n",
      "all_star                  object\n",
      "accolades                 object\n",
      "accolades_any_team        object\n",
      "VORP_WS_sum              float64\n",
      "accolades_all_nba         object\n",
      "dtype: object\n"
     ]
    }
   ],
   "source": [
    "# Retrieve team stats from S3\n",
    "playerAggDfAllNbaAllStar = pd.read_csv('https://s3.ca-central-1.amazonaws.com/2017edmfasatb/fas_boto/data/playerAggDfAllNbaAllStar.csv', index_col = 0)\n",
    "\n",
    "pd.set_option('display.max_rows', len(playerAggDfAllNbaAllStar.dtypes))\n",
    "print playerAggDfAllNbaAllStar.dtypes\n",
    "pd.reset_option('display.max_rows')"
   ]
  },
  {
   "cell_type": "markdown",
   "metadata": {},
   "source": [
    "Let's remind ourselves first what the data looks like."
   ]
  },
  {
   "cell_type": "code",
   "execution_count": 3,
   "metadata": {
    "collapsed": false
   },
   "outputs": [
    {
     "data": {
      "image/png": "[encoded data removed]"
     },
     "metadata": {},
     "output_type": "display_data"
    }
   ],
   "source": [
    "%%R -i playerAggDfAllNbaAllStar -w 700 -u px\n",
    "\n",
    "# Plot WS vs VORP scatter with predictions colored in\n",
    "allNbaPlot = ggplot(\n",
    "    NULL\n",
    ") +\n",
    "geom_point(\n",
    "    data = playerAggDfAllNbaAllStar,\n",
    "    aes(\n",
    "        x = advancedStats_VORP,\n",
    "        y = advancedStats_WS,\n",
    "        color = accolades_all_nba\n",
    "    )\n",
    ")\n",
    "\n",
    "allNbaPlot"
   ]
  },
  {
   "cell_type": "markdown",
   "metadata": {},
   "source": [
    "There seems to be a few libraries capable of performing decision trees in R. It seems that the most basic one is simply a package called 'tree'. Let's give it a go."
   ]
  },
  {
   "cell_type": "code",
   "execution_count": 4,
   "metadata": {
    "collapsed": false
   },
   "outputs": [
    {
     "data": {
      "image/png": "[encoded data removed]"
     },
     "metadata": {},
     "output_type": "display_data"
    },
    {
     "ename": "LookupError",
     "evalue": "'treeModelSummary' not found",
     "output_type": "error",
     "traceback": [
      "\u001b[1;31m---------------------------------------------------------------------------\u001b[0m",
      "\u001b[1;31mLookupError\u001b[0m                               Traceback (most recent call last)",
      "\u001b[1;32m<ipython-input-4-c4971c579974>\u001b[0m in \u001b[0;36m<module>\u001b[1;34m()\u001b[0m\n\u001b[1;32m----> 1\u001b[1;33m \u001b[0mget_ipython\u001b[0m\u001b[1;33m(\u001b[0m\u001b[1;33m)\u001b[0m\u001b[1;33m.\u001b[0m\u001b[0mrun_cell_magic\u001b[0m\u001b[1;33m(\u001b[0m\u001b[1;34mu'R'\u001b[0m\u001b[1;33m,\u001b[0m \u001b[1;34mu'-i playerAggDfAllNbaAllStar -o treeModel -o treeModelSummary'\u001b[0m\u001b[1;33m,\u001b[0m \u001b[1;34mu\"library(tree)\\n\\n# Build a tree using the 'tree' function\\ntreeModel = tree(\\n    accolades_all_nba ~ advancedStats_WS + advancedStats_VORP, \\n    data = playerAggDfAllNbaAllStar\\n)\\n\\n# Plot the tree\\nplot(treeModel)\\ntext(treeModel)\"\u001b[0m\u001b[1;33m)\u001b[0m\u001b[1;33m\u001b[0m\u001b[0m\n\u001b[0m",
      "\u001b[1;32mC:\\Users\\chixwang\\AppData\\Local\\Continuum\\Anaconda2\\lib\\site-packages\\IPython\\core\\interactiveshell.pyc\u001b[0m in \u001b[0;36mrun_cell_magic\u001b[1;34m(self, magic_name, line, cell)\u001b[0m\n\u001b[0;32m   2118\u001b[0m             \u001b[0mmagic_arg_s\u001b[0m \u001b[1;33m=\u001b[0m \u001b[0mself\u001b[0m\u001b[1;33m.\u001b[0m\u001b[0mvar_expand\u001b[0m\u001b[1;33m(\u001b[0m\u001b[0mline\u001b[0m\u001b[1;33m,\u001b[0m \u001b[0mstack_depth\u001b[0m\u001b[1;33m)\u001b[0m\u001b[1;33m\u001b[0m\u001b[0m\n\u001b[0;32m   2119\u001b[0m             \u001b[1;32mwith\u001b[0m \u001b[0mself\u001b[0m\u001b[1;33m.\u001b[0m\u001b[0mbuiltin_trap\u001b[0m\u001b[1;33m:\u001b[0m\u001b[1;33m\u001b[0m\u001b[0m\n\u001b[1;32m-> 2120\u001b[1;33m                 \u001b[0mresult\u001b[0m \u001b[1;33m=\u001b[0m \u001b[0mfn\u001b[0m\u001b[1;33m(\u001b[0m\u001b[0mmagic_arg_s\u001b[0m\u001b[1;33m,\u001b[0m \u001b[0mcell\u001b[0m\u001b[1;33m)\u001b[0m\u001b[1;33m\u001b[0m\u001b[0m\n\u001b[0m\u001b[0;32m   2121\u001b[0m             \u001b[1;32mreturn\u001b[0m \u001b[0mresult\u001b[0m\u001b[1;33m\u001b[0m\u001b[0m\n\u001b[0;32m   2122\u001b[0m \u001b[1;33m\u001b[0m\u001b[0m\n",
      "\u001b[1;32m<decorator-gen-129>\u001b[0m in \u001b[0;36mR\u001b[1;34m(self, line, cell, local_ns)\u001b[0m\n",
      "\u001b[1;32mC:\\Users\\chixwang\\AppData\\Local\\Continuum\\Anaconda2\\lib\\site-packages\\IPython\\core\\magic.pyc\u001b[0m in \u001b[0;36m<lambda>\u001b[1;34m(f, *a, **k)\u001b[0m\n\u001b[0;32m    191\u001b[0m     \u001b[1;31m# but it's overkill for just that one bit of state.\u001b[0m\u001b[1;33m\u001b[0m\u001b[1;33m\u001b[0m\u001b[0m\n\u001b[0;32m    192\u001b[0m     \u001b[1;32mdef\u001b[0m \u001b[0mmagic_deco\u001b[0m\u001b[1;33m(\u001b[0m\u001b[0marg\u001b[0m\u001b[1;33m)\u001b[0m\u001b[1;33m:\u001b[0m\u001b[1;33m\u001b[0m\u001b[0m\n\u001b[1;32m--> 193\u001b[1;33m         \u001b[0mcall\u001b[0m \u001b[1;33m=\u001b[0m \u001b[1;32mlambda\u001b[0m \u001b[0mf\u001b[0m\u001b[1;33m,\u001b[0m \u001b[1;33m*\u001b[0m\u001b[0ma\u001b[0m\u001b[1;33m,\u001b[0m \u001b[1;33m**\u001b[0m\u001b[0mk\u001b[0m\u001b[1;33m:\u001b[0m \u001b[0mf\u001b[0m\u001b[1;33m(\u001b[0m\u001b[1;33m*\u001b[0m\u001b[0ma\u001b[0m\u001b[1;33m,\u001b[0m \u001b[1;33m**\u001b[0m\u001b[0mk\u001b[0m\u001b[1;33m)\u001b[0m\u001b[1;33m\u001b[0m\u001b[0m\n\u001b[0m\u001b[0;32m    194\u001b[0m \u001b[1;33m\u001b[0m\u001b[0m\n\u001b[0;32m    195\u001b[0m         \u001b[1;32mif\u001b[0m \u001b[0mcallable\u001b[0m\u001b[1;33m(\u001b[0m\u001b[0marg\u001b[0m\u001b[1;33m)\u001b[0m\u001b[1;33m:\u001b[0m\u001b[1;33m\u001b[0m\u001b[0m\n",
      "\u001b[1;32mC:\\Users\\chixwang\\AppData\\Local\\Continuum\\Anaconda2\\lib\\site-packages\\rpy2\\ipython\\rmagic.pyc\u001b[0m in \u001b[0;36mR\u001b[1;34m(self, line, cell, local_ns)\u001b[0m\n\u001b[0;32m    712\u001b[0m             \u001b[1;32mfor\u001b[0m \u001b[0moutput\u001b[0m \u001b[1;32min\u001b[0m \u001b[1;34m','\u001b[0m\u001b[1;33m.\u001b[0m\u001b[0mjoin\u001b[0m\u001b[1;33m(\u001b[0m\u001b[0margs\u001b[0m\u001b[1;33m.\u001b[0m\u001b[0moutput\u001b[0m\u001b[1;33m)\u001b[0m\u001b[1;33m.\u001b[0m\u001b[0msplit\u001b[0m\u001b[1;33m(\u001b[0m\u001b[1;34m','\u001b[0m\u001b[1;33m)\u001b[0m\u001b[1;33m:\u001b[0m\u001b[1;33m\u001b[0m\u001b[0m\n\u001b[0;32m    713\u001b[0m                 \u001b[1;32mif\u001b[0m \u001b[0margs\u001b[0m\u001b[1;33m.\u001b[0m\u001b[0mconverter\u001b[0m \u001b[1;32mis\u001b[0m \u001b[0mNone\u001b[0m\u001b[1;33m:\u001b[0m\u001b[1;33m\u001b[0m\u001b[0m\n\u001b[1;32m--> 714\u001b[1;33m                     \u001b[0moutput_ipy\u001b[0m \u001b[1;33m=\u001b[0m \u001b[0mconverter\u001b[0m\u001b[1;33m.\u001b[0m\u001b[0mri2py\u001b[0m\u001b[1;33m(\u001b[0m\u001b[0mri\u001b[0m\u001b[1;33m.\u001b[0m\u001b[0mglobalenv\u001b[0m\u001b[1;33m.\u001b[0m\u001b[0mget\u001b[0m\u001b[1;33m(\u001b[0m\u001b[0moutput\u001b[0m\u001b[1;33m)\u001b[0m\u001b[1;33m)\u001b[0m\u001b[1;33m\u001b[0m\u001b[0m\n\u001b[0m\u001b[0;32m    715\u001b[0m                 \u001b[1;32melse\u001b[0m\u001b[1;33m:\u001b[0m\u001b[1;33m\u001b[0m\u001b[0m\n\u001b[0;32m    716\u001b[0m                     \u001b[0moutput_ipy\u001b[0m \u001b[1;33m=\u001b[0m \u001b[0mlocalconverter\u001b[0m\u001b[1;33m.\u001b[0m\u001b[0mri2py\u001b[0m\u001b[1;33m(\u001b[0m\u001b[0mri\u001b[0m\u001b[1;33m.\u001b[0m\u001b[0mglobalenv\u001b[0m\u001b[1;33m.\u001b[0m\u001b[0mget\u001b[0m\u001b[1;33m(\u001b[0m\u001b[0moutput\u001b[0m\u001b[1;33m)\u001b[0m\u001b[1;33m)\u001b[0m\u001b[1;33m\u001b[0m\u001b[0m\n",
      "\u001b[1;31mLookupError\u001b[0m: 'treeModelSummary' not found"
     ]
    }
   ],
   "source": [
    "%%R -i playerAggDfAllNbaAllStar -o treeModel -o treeModelSummary\n",
    "library(tree)\n",
    "\n",
    "# Build a tree using the 'tree' function\n",
    "treeModel = tree(\n",
    "    accolades_all_nba ~ advancedStats_WS + advancedStats_VORP, \n",
    "    data = playerAggDfAllNbaAllStar\n",
    ")\n",
    "\n",
    "# Plot the tree\n",
    "plot(treeModel)\n",
    "text(treeModel)"
   ]
  },
  {
   "cell_type": "markdown",
   "metadata": {},
   "source": [
    "Alright, so we've got a tree. First thing I notice here right off the bat... where's VORP? We're wanting to build a model off of WS and VORP right? Well where is it? My first instinct seeing the tree is that... well... does VORP not matter in the presence of WS? It seems that, from the tree, a WS > 10.55 will get you onto an all-NBA team. With the eye test, this seems to pass. WS = 10.55 is the line about where the blues start to fade out and pinks start to come in (in our first plot).\n",
    "\n",
    "Second observation... certain terminal nodes actually repeat themselves. For example, if we look at the WS > 10.55 guys, the tree splits further into WS < 12.75 and WS > 12.75... except the problem here is that both of them lead to All-NBA! What's the point of even making that last WS = 12.75 split if both of them lead to All-NBA? Can't we just leave it at WS > 10.55 leads to All-NBA?\n",
    "\n",
    "My last thought is... why did we stop at 5 terminal nodes? I like the tree and all, but tying into our last point, why not 4 terminal nodes, or better yet, 6 terminal nodes? 100 terminal nodes? 1000 terminal nodes? I know from reading about trees that we can have a ton of nodes and overfit the hell out of this model. Why did we get such a (seemingly) reasonable tree here?\n",
    "\n",
    "To recap all my concerns:\n",
    "1. Where's VORP?\n",
    "2. Why do splits lead to same results in terminal nodes?\n",
    "3. Why did the tree splits stop where they stopped?\n",
    "\n",
    "Let's park 1. for now and look a bit more at 2. and 3.\n",
    "\n",
    "From reading about trees in [ESL](http://statweb.stanford.edu/~tibs/ElemStatLearn/download.html), I have a basic understanding of how trees are measured in terms of accuracy. To get into this discussion, we have to explore a few options first of how exactly to measure node accuracy or \"purity\".\n",
    "\n",
    "Our classic vanilla method of measuring \"accuracy\" in classification in simply _**misclassification error**_. Simply a count of how many are right and how many are wrong.\n",
    "\n",
    "$$E=1-max(\\hat{p}_{mk})$$\n",
    "\n",
    "where $\\hat{p}_{mk}$ is the proportion of training observations in the $m$th region from the $k$th class. Generally, trees are _**not**_ used with misclassification because it doesn't answer the entire question of accuracy. Let's say we have three classes that we're trying to classify (A, B, C), and we get two nodes with the following results:\n",
    "- Node 1:\n",
    "    - Class A: 60%\n",
    "    - Class B: 39%\n",
    "    - Class C: 1%\n",
    "- Node 2:\n",
    "    - Class A: 60%\n",
    "    - Class B: 20%\n",
    "    - Class C: 20%\n",
    "\n",
    "Which node would you say is more \"pure\"? The first node seems like a pretty good shot at class A, but class B is not too far behind, still capturing 39% of the population. If I told you I had a 39% of getting something right, that's not too far off from a coin flip, right?\n",
    "\n",
    "The second node seems to give us a lot more confidence in our estimate that the node represents class A. With each of the other classes at 20%, we feel a bit more comfortable going with class A because 20% is like pulling a yellow marble out of a bag with 4 other red marbles. 1/5th of a chance, right?\n",
    "\n",
    "The kicker here is that both nodes would have _**the same misclassification error**_ because both of them would end up with _**40%**_.\n",
    "\n",
    "Because of this logic, we tend to go with either the Gini index:\n",
    "\n",
    "$$G=\\sum_{k=1}^{K}\\hat{p}_{mk}(1-\\hat{p}_{mk})$$\n",
    "\n",
    "or Cross-Entropy measurement:\n",
    "\n",
    "$$D=-\\sum_{k=1}^{K}\\hat{p}_{mk}log{\\hat{p}_{mk}}$$\n",
    "\n",
    "which both measure more node _**purity**_ as values will get smaller as each node becomes more \"pure\" with one class.\n",
    "\n",
    "Reviewing our two scenarios again, we would get the following Gini and Entropy values for node 1:\n",
    "\n",
    "$$G=\\sum_{k=1}^{K}\\hat{p}_{mk}(1-\\hat{p}_{mk})=(0.6)(1-0.6)+(0.39)(1-0.39)+(0.01)(1-0.01)=0.49$$\n",
    "$$D=-\\sum_{k=1}^{K}\\hat{p}_{mk}log{\\hat{p}_{mk}}=-((0.6)(log0.6)+(0.39)(log0.39)+(0.01)(log0.01))=0.31$$\n",
    "\n",
    "and the following values for node 2:\n",
    "$$G=\\sum_{k=1}^{K}\\hat{p}_{mk}(1-\\hat{p}_{mk})=(0.6)(1-0.6)+(0.2)(1-0.2)+(0.2)(1-0.2)=0.56$$\n",
    "$$D=-\\sum_{k=1}^{K}\\hat{p}_{mk}log{\\hat{p}_{mk}}=-((0.6)(log0.6)+(0.2)(log0.2)+(0.2)(log0.2))=0.41$$\n",
    "\n",
    "_**ALRIGHT THEN**_. This is slightly embarrassing... it looks like my logic initially was wrong haha. It looks like node 1 _**is actually more pure**_. I guess my logic is counter-intuitive to what the math of Gini and Entropy say. Let's check out the graphs of misclassification error, Gini, and Entropy:\n",
    "\n",
    "<img src=\"http://www.bogotobogo.com/python/scikit-learn/images/Entropy/ImpurityIndicesPlot.png\" style=\"width: 400px;\"/>\n",
    "\n",
    "Okay, it looks like the logic kinda checks out. If I map 0.6-0.39-0.01 out on the Gini and Entropy indexes and 0.6-0.2-0.2 as well, it looks like the sum of these values _**would**_ be higher for the 0.6-0.2-0.2 case. I guess Gini and Entropy really value where the proportion is closer to 1 or 0. That 0.01 really lowers the Gini value (it basically has negligible contribution to the entire index value).\n",
    "\n",
    "Alright, well now that I know a bit more about the types of metrics I can measure trees on, let's see if I can get a bit more understanding about the questions I had.\n",
    "\n",
    "Looking through the [documentation](https://cran.r-project.org/web/packages/tree/tree.pdf) for the tree function, the default metric tree uses (within its _**split**_ parameter) is \"deviance\", which is actually equivalent to _**Entropy**_.\n",
    "\n",
    "Let's check out the deviance for the nodes above:"
   ]
  },
  {
   "cell_type": "code",
   "execution_count": null,
   "metadata": {
    "collapsed": false,
    "scrolled": true
   },
   "outputs": [],
   "source": [
    "# Print the tree branches\n",
    "print treeModel"
   ]
  },
  {
   "cell_type": "markdown",
   "metadata": {},
   "source": [
    "Here, I'm getting a chance to see the logic behind how the tree is estimating some of these nodes. I still don't quite understand why there are 5 terminal nodes, but I can see that many of the terminal nodes boast pretty confident probabilities.\n",
    "\n",
    "The first thing I want to point out again is the overwhelming amount of non all-NBA players. Only 3.8% of the entire population is all-NBA calibre! This can be observed in the \"root\" node (first one).\n",
    "\n",
    "The second thing I notice is how high the deviance values are... why are they so high? I only have 2 classes, and each class cannot have a deviance value of over 1... so how are we getting values in the 100's?\n",
    "\n",
    "After googling a bit, I'm seeing some [sources](http://homepage.stat.uiowa.edu/~rdecook/stat6220/Class_notes/CART.pdf) calculate deviance like:\n",
    "\n",
    "$$D=-2n_{i}\\sum_{k=1}^{K}\\hat{p}_{mk}log{\\hat{p}_{mk}}$$\n",
    "\n",
    "where we also multiply by the number of observations in each node and scale by a factor of 2. I won't pretend like I quite understand why we do this now, and after running through some calculations by myself the numbers still don't align completely, but it does get me closer to the value that I'm seeing in the output of the tree function. I'll just accept this for now, assume that the underlying calculation is still based off Cross Entropy, and understand that the smaller the value, the better.\n",
    "\n",
    "Understanding of Cross Entropy or deviance helps me gauge a bit better why the tree may have stopped growing. I'm going to poke around the documentation a bit more and see if the tree function has some default stop setting.\n",
    "\n",
    "It turns out that there is a parameter within tree, _**control**_, which sets some default stop values. There are the _**minsize**_ and _**mindev**_ parameters which control the minimum size of each node and the minimum deviance (in terms of % of root node) for the node to be split respectively. The root node has deviance of about ~4200, so we'd expect the each terminal node to be split if it was above \n",
    "\n",
    "Let's see what happens when I change these values. Let's lower the threshold on the minimum deviance. In fact, let's just go all the way to 0 and tell the library to grow the whole tree. Whoop de doo!!"
   ]
  },
  {
   "cell_type": "code",
   "execution_count": null,
   "metadata": {
    "collapsed": false
   },
   "outputs": [],
   "source": [
    "%%R -i playerAggDfAllNbaAllStar -o treeModelMinDev -o treeModelMinDevSummary\n",
    "library(tree)\n",
    "\n",
    "# Build a tree using the 'tree' function with mindev = 0, indicating that we want to grow the whole tree\n",
    "treeModelMinDev = tree(\n",
    "    accolades_all_nba ~ advancedStats_WS + advancedStats_VORP, \n",
    "    data = playerAggDfAllNbaAllStar,\n",
    "    mindev = 0\n",
    ")\n",
    "\n",
    "# Plot the tree\n",
    "plot(treeModelMinDev)\n",
    "text(treeModelMinDev)"
   ]
  },
  {
   "cell_type": "code",
   "execution_count": null,
   "metadata": {
    "collapsed": false
   },
   "outputs": [],
   "source": [
    "# Print the tree branches\n",
    "print treeModelMinDev"
   ]
  },
  {
   "cell_type": "markdown",
   "metadata": {},
   "source": [
    "Welp, there are a lot of nodes unsurprisingly. I guess the tree is basically being grown until it literally cannot get any better. It may be a good model, but unfortunately it's likely to overfit (1000+ nodes on a simple possibly linear decision boundary...).\n",
    "\n",
    "BUT HEY!! THERE'S VORP!!! Although I never anticipated that the model was broken or anything, it warms to my heart to actually _**see**_ VORP on there. I guess this just means that, within the first 5 terminal nodes (as in the first model), VORP simply doesn't matter!\n",
    "\n",
    "Back to the huge ass tree though, it's common to grow out the full tree, and then _**prune**_ the tree back. A little more about trees first: It's really _**impossible**_ to explore every single combination of tree that exists. There are infinite number of trees that can be fit if we don't care about accuracy. Even if we care about accuracy, we'd still have to explore every single tree to get the sense of how it fits. Generally, trees are fit _**recursively**_ for computational efficiency. A first split is made, then the next split is made after the first one is complete. Once we have grown out a tree, let's say the 1000+ node tree above, we essentially have 1000 sub-trees that we can choose from. One common way to select the best tree is to perform cross validation on each tree to see which one is best. The 'tree' library gives us a built in function to do that!"
   ]
  },
  {
   "cell_type": "code",
   "execution_count": null,
   "metadata": {
    "collapsed": false
   },
   "outputs": [],
   "source": [
    "%%R -o bestSize\n",
    "# Run 10-fold CV on our tree model generated from 'tree'\n",
    "treeModelMinDevCv = cv.tree(treeModelMinDev)\n",
    "\n",
    "# Plot CV graph\n",
    "plot(treeModelMinDevCv)\n",
    "\n",
    "# Get best size\n",
    "bestSize <- min(treeModelMinDevCv$size[which(treeModelMinDevCv$dev==min(treeModelMinDevCv$dev))])"
   ]
  },
  {
   "cell_type": "code",
   "execution_count": null,
   "metadata": {
    "collapsed": false
   },
   "outputs": [],
   "source": [
    "# See which number of terminal nodes yields the best tree\n",
    "print bestSize"
   ]
  },
  {
   "cell_type": "code",
   "execution_count": null,
   "metadata": {
    "collapsed": false
   },
   "outputs": [],
   "source": [
    "%%R -o treeModelMinDevCvPruned\n",
    "treeModelMinDevCvPruned <- prune.tree(treeModelMinDev, best = bestSize)"
   ]
  },
  {
   "cell_type": "code",
   "execution_count": null,
   "metadata": {
    "collapsed": false,
    "scrolled": true
   },
   "outputs": [],
   "source": [
    "print treeModelMinDevCvPruned"
   ]
  },
  {
   "cell_type": "markdown",
   "metadata": {},
   "source": [
    "We end up with the default tree we started with with no VORP (coincidentally). Let's see how this performs in terms of obtaining a prediction and ROC curve."
   ]
  },
  {
   "cell_type": "code",
   "execution_count": null,
   "metadata": {
    "collapsed": false,
    "scrolled": false
   },
   "outputs": [],
   "source": [
    "%%R\n",
    "library(ROCR)\n",
    "\n",
    "# Use the tree library to predict probabilities\n",
    "treeModelMinDevCvPrunedPred = predict(treeModelMinDevCvPruned)\n",
    "\n",
    "# Use the ROCR library to build the ROC curve\n",
    "treePredObj = prediction(as.data.frame(treeModelMinDevCvPrunedPred[,1]), ifelse(playerAggDfAllNbaAllStar['accolades_all_nba'] == 'All-NBA', TRUE, FALSE))\n",
    "\n",
    "# Run performance evaluation for the metric 'total accuracy'\n",
    "treeRocEval = performance(treePredObj, 'sens', 'spec')\n",
    "plot(treeRocEval, colorize = T)\n",
    "text(\n",
    "    0.2, \n",
    "    0.08, \n",
    "    labels = paste(\"AUC = \", round(performance(treePredObj, 'auc')@y.values[[1]], digits = 4), sep= \"\"), \n",
    "    adj = 1\n",
    ")"
   ]
  },
  {
   "cell_type": "markdown",
   "metadata": {},
   "source": [
    "The ROC curve here looks _**kind of**_ like the one yielded by logistic regression. I mean, they probably pretty much will all be the same... but this one is a bit more coarse and it doesn't look to hug the top as much. The AUC pretty much says that it's on par with what logistic regression was giving us. Not much difference here!"
   ]
  },
  {
   "cell_type": "code",
   "execution_count": null,
   "metadata": {
    "collapsed": false
   },
   "outputs": [],
   "source": [
    "# Retrieve the iterative cut-off sensitivity analysis that logistic regression did behind the scenes\n",
    "%R cutoffs = data.frame(cut = treeRocEval@alpha.values[[1]], sens = treeRocEval@x.values[[1]], spec = treeRocEval@y.values[[1]])\n",
    "\n",
    "# Calculate the metrics sensitivity + specificity. This will help us gauge the accuracy of both classes simultaneously.\n",
    "#   E.g. if we were guessing each class 100% correctly (there is a very distinct decision boundary), then we would have 1 + 1 = 2\n",
    "%R cutoffs['sens_plus_spec'] = cutoffs['sens'] + cutoffs['spec']\n",
    "\n",
    "# See the last few rows of this dataframe where the sensitivity + specificity are at its max\n",
    "%R tail(cutoffs[order(cutoffs$sens_plus_spec),])"
   ]
  },
  {
   "cell_type": "markdown",
   "metadata": {},
   "source": [
    "Here, we see a pretty good cutoff for All-NBA. We're sitting at around 95% / 90%, results that logistic regression was showing us as well! Essentially, a few quick splits _**just on WS**_ gets us the same results! How's that for interpretability? Amazing.\n",
    "\n",
    "Let's just try out another decision tree package. There seems to be a pretty nice visual package under the 'party' library. From what I've seen of it, it's got a more intuitive decision gree graph where you can see the node sizes and node purity without printing out the text rendition of the tree. Let's give it a shot."
   ]
  },
  {
   "cell_type": "code",
   "execution_count": null,
   "metadata": {
    "collapsed": false
   },
   "outputs": [],
   "source": [
    "%%R -w 1500 -u px\n",
    "library('party')\n",
    "\n",
    "# Build tree using the ctree tool within the party package\n",
    "ctreeModel = ctree(\n",
    "    accolades_all_nba ~ advancedStats_WS + advancedStats_VORP, \n",
    "    data = playerAggDfAllNbaAllStar\n",
    ")\n",
    "\n",
    "# Plot tree\n",
    "plot(ctreeModel)"
   ]
  },
  {
   "cell_type": "markdown",
   "metadata": {},
   "source": [
    "Alright, well this default tree is much different than our other default tree (using default model parameters) generated by the 'tree' package. First of all, VORP is the _**first**_ split! Our other one didn't even have VORP, period! Not only that, but there are many more nodes as well.\n",
    "\n",
    "The visuals here are definitely much better, we see nodes clearly labelled, the decision rules clearly labelled, and we immediately get a sense of node purity here.\n",
    "\n",
    "Other than nodes 15 and 20, where we only have a total of ~200 samples out of 13220 (~1% of all samples), all other terminal nodes are pretty pure! The following 2 scenarios lead to successful all-NBA predictions:\n",
    "- VORP > 4.4, WS > 10.5\n",
    "- VORP <= 4.4, WS > 11.7\n",
    "\n",
    "In fact, that first rule is honestly a lot like the manual box boundary that we chose in post \\#19! We arbitrarily chose WS > 5 and VORP > 10 then, not too far off from what we're getting now!\n",
    "\n",
    "Let's check the ROC on this real quick."
   ]
  },
  {
   "cell_type": "code",
   "execution_count": null,
   "metadata": {
    "collapsed": false
   },
   "outputs": [],
   "source": [
    "%%R\n",
    "# Use the tree library to predict probabilities\n",
    "cTreeModelPred = predict(ctreeModel, type = 'prob')\n",
    "\n",
    "# Predict on ctree returns a list of vectors instead of a data frame, we convert to dataframe here\n",
    "cTreeModelPredDf = do.call(rbind, cTreeModelPred)\n",
    "\n",
    "# Use the ROCR library to build the ROC curve\n",
    "cTreePredObj = prediction(as.data.frame(cTreeModelPredDf[,1]), ifelse(playerAggDfAllNbaAllStar['accolades_all_nba'] == 'All-NBA', TRUE, FALSE))\n",
    "\n",
    "# Run performance evaluation for the metric 'total accuracy'\n",
    "cTreeRocEval = performance(cTreePredObj, 'sens', 'spec')\n",
    "plot(cTreeRocEval, colorize = T)\n",
    "text(\n",
    "    0.2, \n",
    "    0.08, \n",
    "    labels = paste(\"AUC = \", round(performance(cTreePredObj, 'auc')@y.values[[1]], digits = 4), sep= \"\"), \n",
    "    adj = 1\n",
    ")"
   ]
  },
  {
   "cell_type": "code",
   "execution_count": null,
   "metadata": {
    "collapsed": false
   },
   "outputs": [],
   "source": [
    "# Retrieve the iterative cut-off sensitivity analysis that logistic regression did behind the scenes\n",
    "%R cutoffs = data.frame(cut = cTreeRocEval@alpha.values[[1]], sens = cTreeRocEval@x.values[[1]], spec = cTreeRocEval@y.values[[1]])\n",
    "\n",
    "# Calculate the metrics sensitivity + specificity. This will help us gauge the accuracy of both classes simultaneously.\n",
    "#   E.g. if we were guessing each class 100% correctly (there is a very distinct decision boundary), then we would have 1 + 1 = 2\n",
    "%R cutoffs['sens_plus_spec'] = cutoffs['sens'] + cutoffs['spec']\n",
    "\n",
    "# See the last few rows of this dataframe where the sensitivity + specificity are at its max\n",
    "%R tail(cutoffs[order(cutoffs$sens_plus_spec),])"
   ]
  },
  {
   "cell_type": "markdown",
   "metadata": {},
   "source": [
    "Alright, that's definitely the highest AUC we've seen, no doubt. Checking back to what we had with logistic regression, these prediction splits are better as well! Logistic regression gave us ~96.0% / ~89.0%, and here with the ctree library we are seeing ~95.5% / ~91.5%. Absolutely the best we've seen thus far!\n",
    "\n",
    "One thing that I would like to mention at this point is that we could probably keep growing the tree and get better and better prediction results on our data. The one we've built seems pretty reasonable in terms of the balance between accuracy and interpretability. It's only got a handful of terminal nodes, nothing too overwhelming, however we've been measuring results for ctree on the same set of data that we're training on. I'm sure if we kept growing the tree, it would find ways to yield even better results. In the tree package, we had a cross validation option where we pruned the tree back, I wonder if ctree has anything like that.\n",
    "\n",
    "---10 minutes later...---\n",
    "\n",
    "So apparently the [ctree (party)](https://cran.r-project.org/web/packages/partykit/partykit.pdf) library documentation states that we don't even need to prune or CV test trees generated by ctree. As the documentation states:\n",
    "\n",
    "> The implementation utilizes a unified framework for conditional inference, or permutation tests,\n",
    "developed by Strasser and Weber (1999). The stop criterion in step 1) is either based on multiplicity\n",
    "adjusted p-values (testtype = \"Bonferroni\" in ctree_control) or on the univariate\n",
    "p-values (testtype = \"Univariate\"). In both cases, the criterion is maximized, i.e., 1 - p-value\n",
    "is used. A split is implemented when the criterion exceeds the value given by mincriterion as\n",
    "specified in ctree_control. For example, when mincriterion = 0.95, the p-value must be\n",
    "smaller than 0.05 in order to split this node. This statistical approach ensures that the right-sized\n",
    "tree is grown without additional (post-)pruning or cross-validation.\n",
    "\n",
    "I won't pretend like I quite know how these trees split by \"conditional inference\" works, but essentially the split process is based off of a statistical inference approach comparing the features to a null hypothesis rather than directly measuring misclassification error or a gini index / cross entropy etc. I guess that does it for my tree post. Again, these things are amazing!"
   ]
  }
 ],
 "metadata": {
  "kernelspec": {
   "display_name": "Python [Root]",
   "language": "python",
   "name": "Python [Root]"
  },
  "language_info": {
   "codemirror_mode": {
    "name": "ipython",
    "version": 2
   },
   "file_extension": ".py",
   "mimetype": "text/x-python",
   "name": "python",
   "nbconvert_exporter": "python",
   "pygments_lexer": "ipython2",
   "version": "2.7.11"
  }
 },
 "nbformat": 4,
 "nbformat_minor": 0
}
