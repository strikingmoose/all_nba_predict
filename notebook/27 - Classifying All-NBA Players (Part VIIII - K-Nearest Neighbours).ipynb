{
 "cells": [
  {
   "cell_type": "markdown",
   "metadata": {},
   "source": [
    "# 27 - Classifying All-NBA Players (Part VIIII - K-Nearest Neighbours)\n",
    "We go from one of the most complex models to one of the least complex... K-NN here we go. Not really too much to explain here... We pick the $K$ closest observations by euclidean distance and take a vote. If the majority of them are all-NBA, then the observation is all-NBA. If the majority of them are not, then the observation is not all-NBA. If it's a tie, we break it at random and assign to one or the other. Anything else to explain? I don't really think so. Let's go."
   ]
  },
  {
   "cell_type": "code",
   "execution_count": 1,
   "metadata": {
    "collapsed": true
   },
   "outputs": [],
   "source": [
    "# Load libraries & initial config\n",
    "%load_ext rpy2.ipython\n",
    "\n",
    "%R library(ggplot2)\n",
    "%R library(gridExtra)\n",
    "%R library(scales)\n",
    "%R library(ggbiplot)\n",
    "%R library(dplyr)\n",
    "\n",
    "%matplotlib nbagg\n",
    "import pandas as pd\n",
    "import numpy as np\n",
    "import matplotlib.pyplot as plt\n",
    "import boto3\n",
    "from StringIO import StringIO\n",
    "import warnings\n",
    "warnings.filterwarnings('ignore')"
   ]
  },
  {
   "cell_type": "code",
   "execution_count": 2,
   "metadata": {
    "scrolled": true
   },
   "outputs": [
    {
     "name": "stdout",
     "output_type": "stream",
     "text": [
      "season_start_year          int64\n",
      "perGameStats_Player       object\n",
      "perGameStats_Pos          object\n",
      "perGameStats_Age           int64\n",
      "perGameStats_Tm           object\n",
      "perGameStats_G             int64\n",
      "perGameStats_GS          float64\n",
      "perGameStats_MP          float64\n",
      "per100Stats_FG           float64\n",
      "per100Stats_FGA          float64\n",
      "per100Stats_FGPerc       float64\n",
      "per100Stats_3P           float64\n",
      "per100Stats_3PA          float64\n",
      "per100Stats_3PPerc       float64\n",
      "per100Stats_2P           float64\n",
      "per100Stats_2PA          float64\n",
      "per100Stats_2PPerc       float64\n",
      "per100Stats_FT           float64\n",
      "per100Stats_FTA          float64\n",
      "per100Stats_FTPerc       float64\n",
      "per100Stats_ORB          float64\n",
      "per100Stats_DRB          float64\n",
      "per100Stats_TRB          float64\n",
      "per100Stats_AST          float64\n",
      "per100Stats_STL          float64\n",
      "per100Stats_BLK          float64\n",
      "per100Stats_TOV          float64\n",
      "per100Stats_PF           float64\n",
      "per100Stats_PTS          float64\n",
      "per100Stats_ORtg         float64\n",
      "per100Stats_DRtg         float64\n",
      "advancedStats_PER        float64\n",
      "advancedStats_TSPerc     float64\n",
      "advancedStats_3PAr       float64\n",
      "advancedStats_FTr        float64\n",
      "advancedStats_ORBPerc    float64\n",
      "advancedStats_DRBPerc    float64\n",
      "advancedStats_TRBPerc    float64\n",
      "advancedStats_ASTPerc    float64\n",
      "advancedStats_STLPerc    float64\n",
      "advancedStats_BLKPerc    float64\n",
      "advancedStats_TOVPerc    float64\n",
      "advancedStats_USGPerc    float64\n",
      "advancedStats_OWS        float64\n",
      "advancedStats_DWS        float64\n",
      "advancedStats_WS         float64\n",
      "advancedStats_WS48       float64\n",
      "advancedStats_OBPM       float64\n",
      "advancedStats_DBPM       float64\n",
      "advancedStats_BPM        float64\n",
      "advancedStats_VORP       float64\n",
      "player_formatted          object\n",
      "Tm                        object\n",
      "Player_x                  object\n",
      "Player_y                  object\n",
      "all_star                  object\n",
      "accolades                 object\n",
      "accolades_any_team        object\n",
      "VORP_WS_sum              float64\n",
      "accolades_all_nba         object\n",
      "dtype: object\n"
     ]
    }
   ],
   "source": [
    "# Retrieve team stats from S3\n",
    "playerAggDfAllNbaAllStar = pd.read_csv('https://s3.ca-central-1.amazonaws.com/2017edmfasatb/fas_boto/data/playerAggDfAllNbaAllStar.csv', index_col = 0)\n",
    "\n",
    "pd.set_option('display.max_rows', len(playerAggDfAllNbaAllStar.dtypes))\n",
    "print playerAggDfAllNbaAllStar.dtypes\n",
    "pd.reset_option('display.max_rows')"
   ]
  },
  {
   "cell_type": "markdown",
   "metadata": {},
   "source": [
    "We scale first because we are dealing with euclidean distance here."
   ]
  },
  {
   "cell_type": "code",
   "execution_count": 10,
   "metadata": {
    "collapsed": true
   },
   "outputs": [],
   "source": [
    "%%R -i playerAggDfAllNbaAllStar\n",
    "\n",
    "# Scale inputs\n",
    "playerAggDfAllNbaAllStar['advancedStats_WS_scaled'] = scale(playerAggDfAllNbaAllStar['advancedStats_WS'])\n",
    "playerAggDfAllNbaAllStar['advancedStats_VORP_scaled'] = scale(playerAggDfAllNbaAllStar['advancedStats_VORP'])"
   ]
  },
  {
   "cell_type": "code",
   "execution_count": 12,
   "metadata": {},
   "outputs": [],
   "source": [
    "%%R\n",
    "\n",
    "library(class)\n",
    "\n",
    "# Prepare x and y vars\n",
    "x = playerAggDfAllNbaAllStar[,c('advancedStats_WS_scaled', 'advancedStats_VORP_scaled')]\n",
    "y = playerAggDfAllNbaAllStar[,c('accolades_all_nba')]\n",
    "\n",
    "# Build model\n",
    "knnModel = knn(x, x, y, k = 30)"
   ]
  },
  {
   "cell_type": "code",
   "execution_count": 14,
   "metadata": {},
   "outputs": [
    {
     "data": {
      "text/html": [
       "<div>\n",
       "<table border=\"1\" class=\"dataframe\">\n",
       "  <thead>\n",
       "    <tr style=\"text-align: right;\">\n",
       "      <th></th>\n",
       "      <th>y</th>\n",
       "      <th>knnModel</th>\n",
       "      <th>Freq</th>\n",
       "    </tr>\n",
       "  </thead>\n",
       "  <tbody>\n",
       "    <tr>\n",
       "      <th>1</th>\n",
       "      <td>All-NBA</td>\n",
       "      <td>All-NBA</td>\n",
       "      <td>286</td>\n",
       "    </tr>\n",
       "    <tr>\n",
       "      <th>2</th>\n",
       "      <td>Not All-NBA</td>\n",
       "      <td>All-NBA</td>\n",
       "      <td>82</td>\n",
       "    </tr>\n",
       "    <tr>\n",
       "      <th>3</th>\n",
       "      <td>All-NBA</td>\n",
       "      <td>Not All-NBA</td>\n",
       "      <td>216</td>\n",
       "    </tr>\n",
       "    <tr>\n",
       "      <th>4</th>\n",
       "      <td>Not All-NBA</td>\n",
       "      <td>Not All-NBA</td>\n",
       "      <td>12636</td>\n",
       "    </tr>\n",
       "  </tbody>\n",
       "</table>\n",
       "</div>"
      ],
      "text/plain": [
       "             y     knnModel   Freq\n",
       "1      All-NBA      All-NBA    286\n",
       "2  Not All-NBA      All-NBA     82\n",
       "3      All-NBA  Not All-NBA    216\n",
       "4  Not All-NBA  Not All-NBA  12636"
      ]
     },
     "execution_count": 14,
     "metadata": {},
     "output_type": "execute_result"
    }
   ],
   "source": [
    "%R # Output prediction results\n",
    "%R knnModelConfMatrix = as.data.frame(table(y, knnModel))\n",
    "%R print(knnModelConfMatrix)"
   ]
  },
  {
   "cell_type": "markdown",
   "metadata": {},
   "source": [
    "We're looking at 99% / 57%. Pretty shitty. There's a pretty big glaring problem that this data set probably has with kNN though. Rmemeber how 95% of the data is all-NBA observations? Well where all-NBA and non all-NBA overlap, we're probably going to hit _**way more all-NBA**_ observations than not. They're just... everywhere.\n",
    "\n",
    "Since we're kinda cheating here and using the same training set as our test set, we can't really put knn to 1 (1 will always be the observation itself). There you go, think about that. We are using _**THE SAME TRAINING SET AS OUR TEST SET**_ and it predicts all-NBA at _**57**_ frickin percent. So we can't use k = 1. k = 2 probably also is not too fair as one will always be the observation itself, so the best it can do is tie. Let's try k = 3?"
   ]
  },
  {
   "cell_type": "code",
   "execution_count": 17,
   "metadata": {
    "collapsed": true
   },
   "outputs": [],
   "source": [
    "%%R\n",
    "\n",
    "# Build model\n",
    "knnModelk3 = knn(x, x, y, k = 3)"
   ]
  },
  {
   "cell_type": "code",
   "execution_count": 19,
   "metadata": {},
   "outputs": [
    {
     "data": {
      "text/html": [
       "<div>\n",
       "<table border=\"1\" class=\"dataframe\">\n",
       "  <thead>\n",
       "    <tr style=\"text-align: right;\">\n",
       "      <th></th>\n",
       "      <th>y</th>\n",
       "      <th>knnModelk3</th>\n",
       "      <th>Freq</th>\n",
       "    </tr>\n",
       "  </thead>\n",
       "  <tbody>\n",
       "    <tr>\n",
       "      <th>1</th>\n",
       "      <td>All-NBA</td>\n",
       "      <td>All-NBA</td>\n",
       "      <td>327</td>\n",
       "    </tr>\n",
       "    <tr>\n",
       "      <th>2</th>\n",
       "      <td>Not All-NBA</td>\n",
       "      <td>All-NBA</td>\n",
       "      <td>65</td>\n",
       "    </tr>\n",
       "    <tr>\n",
       "      <th>3</th>\n",
       "      <td>All-NBA</td>\n",
       "      <td>Not All-NBA</td>\n",
       "      <td>175</td>\n",
       "    </tr>\n",
       "    <tr>\n",
       "      <th>4</th>\n",
       "      <td>Not All-NBA</td>\n",
       "      <td>Not All-NBA</td>\n",
       "      <td>12653</td>\n",
       "    </tr>\n",
       "  </tbody>\n",
       "</table>\n",
       "</div>"
      ],
      "text/plain": [
       "             y   knnModelk3   Freq\n",
       "1      All-NBA      All-NBA    327\n",
       "2  Not All-NBA      All-NBA     65\n",
       "3      All-NBA  Not All-NBA    175\n",
       "4  Not All-NBA  Not All-NBA  12653"
      ]
     },
     "execution_count": 19,
     "metadata": {},
     "output_type": "execute_result"
    }
   ],
   "source": [
    "%R # Output prediction results\n",
    "%R knnModelk3ConfMatrix = as.data.frame(table(y, knnModelk3))\n",
    "%R print(knnModelk3ConfMatrix)"
   ]
  },
  {
   "cell_type": "markdown",
   "metadata": {},
   "source": [
    "Here, we're only at 65% on all-NBA prediction. It doesn't even matter what non all-NBA is... Let's move on."
   ]
  }
 ],
 "metadata": {
  "anaconda-cloud": {},
  "kernelspec": {
   "display_name": "Python [conda root]",
   "language": "python",
   "name": "conda-root-py"
  },
  "language_info": {
   "codemirror_mode": {
    "name": "ipython",
    "version": 2
   },
   "file_extension": ".py",
   "mimetype": "text/x-python",
   "name": "python",
   "nbconvert_exporter": "python",
   "pygments_lexer": "ipython2",
   "version": "2.7.12"
  }
 },
 "nbformat": 4,
 "nbformat_minor": 1
}
