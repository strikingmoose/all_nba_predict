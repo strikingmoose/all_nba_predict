{
 "cells": [
  {
   "cell_type": "markdown",
   "metadata": {},
   "source": [
    "# 28 - Classifying All-NBA Players (Part X - Prototypes)\n",
    "Jesus christ... we are on our 10th classifier... For any consolation, I highly doubt this one will work any better than kNN but this basically is the last one that I wanted to try out of ESL."
   ]
  },
  {
   "cell_type": "code",
   "execution_count": 1,
   "metadata": {
    "collapsed": true
   },
   "outputs": [],
   "source": [
    "# Load libraries & initial config\n",
    "%load_ext rpy2.ipython\n",
    "\n",
    "%R library(ggplot2)\n",
    "%R library(gridExtra)\n",
    "%R library(scales)\n",
    "%R library(ggbiplot)\n",
    "%R library(dplyr)\n",
    "\n",
    "%matplotlib nbagg\n",
    "import pandas as pd\n",
    "import numpy as np\n",
    "import matplotlib.pyplot as plt\n",
    "import boto3\n",
    "from StringIO import StringIO\n",
    "import warnings\n",
    "warnings.filterwarnings('ignore')"
   ]
  },
  {
   "cell_type": "code",
   "execution_count": 2,
   "metadata": {
    "collapsed": false,
    "scrolled": true
   },
   "outputs": [
    {
     "name": "stdout",
     "output_type": "stream",
     "text": [
      "season_start_year          int64\n",
      "perGameStats_Player       object\n",
      "perGameStats_Pos          object\n",
      "perGameStats_Age           int64\n",
      "perGameStats_Tm           object\n",
      "perGameStats_G             int64\n",
      "perGameStats_GS          float64\n",
      "perGameStats_MP          float64\n",
      "per100Stats_FG           float64\n",
      "per100Stats_FGA          float64\n",
      "per100Stats_FGPerc       float64\n",
      "per100Stats_3P           float64\n",
      "per100Stats_3PA          float64\n",
      "per100Stats_3PPerc       float64\n",
      "per100Stats_2P           float64\n",
      "per100Stats_2PA          float64\n",
      "per100Stats_2PPerc       float64\n",
      "per100Stats_FT           float64\n",
      "per100Stats_FTA          float64\n",
      "per100Stats_FTPerc       float64\n",
      "per100Stats_ORB          float64\n",
      "per100Stats_DRB          float64\n",
      "per100Stats_TRB          float64\n",
      "per100Stats_AST          float64\n",
      "per100Stats_STL          float64\n",
      "per100Stats_BLK          float64\n",
      "per100Stats_TOV          float64\n",
      "per100Stats_PF           float64\n",
      "per100Stats_PTS          float64\n",
      "per100Stats_ORtg         float64\n",
      "per100Stats_DRtg         float64\n",
      "advancedStats_PER        float64\n",
      "advancedStats_TSPerc     float64\n",
      "advancedStats_3PAr       float64\n",
      "advancedStats_FTr        float64\n",
      "advancedStats_ORBPerc    float64\n",
      "advancedStats_DRBPerc    float64\n",
      "advancedStats_TRBPerc    float64\n",
      "advancedStats_ASTPerc    float64\n",
      "advancedStats_STLPerc    float64\n",
      "advancedStats_BLKPerc    float64\n",
      "advancedStats_TOVPerc    float64\n",
      "advancedStats_USGPerc    float64\n",
      "advancedStats_OWS        float64\n",
      "advancedStats_DWS        float64\n",
      "advancedStats_WS         float64\n",
      "advancedStats_WS48       float64\n",
      "advancedStats_OBPM       float64\n",
      "advancedStats_DBPM       float64\n",
      "advancedStats_BPM        float64\n",
      "advancedStats_VORP       float64\n",
      "player_formatted          object\n",
      "Tm                        object\n",
      "Player_x                  object\n",
      "Player_y                  object\n",
      "all_star                  object\n",
      "accolades                 object\n",
      "accolades_any_team        object\n",
      "VORP_WS_sum              float64\n",
      "accolades_all_nba         object\n",
      "dtype: object\n"
     ]
    }
   ],
   "source": [
    "# Retrieve team stats from S3\n",
    "playerAggDfAllNbaAllStar = pd.read_csv('https://s3.ca-central-1.amazonaws.com/2017edmfasatb/fas_boto/data/playerAggDfAllNbaAllStar.csv', index_col = 0)\n",
    "\n",
    "pd.set_option('display.max_rows', len(playerAggDfAllNbaAllStar.dtypes))\n",
    "print playerAggDfAllNbaAllStar.dtypes\n",
    "pd.reset_option('display.max_rows')"
   ]
  },
  {
   "cell_type": "code",
   "execution_count": 4,
   "metadata": {
    "collapsed": true
   },
   "outputs": [],
   "source": [
    "%%R -i playerAggDfAllNbaAllStar\n",
    "\n",
    "# Scale inputs\n",
    "playerAggDfAllNbaAllStar['advancedStats_WS_scaled'] = scale(playerAggDfAllNbaAllStar['advancedStats_WS'])\n",
    "playerAggDfAllNbaAllStar['advancedStats_VORP_scaled'] = scale(playerAggDfAllNbaAllStar['advancedStats_VORP'])"
   ]
  },
  {
   "cell_type": "code",
   "execution_count": 11,
   "metadata": {
    "collapsed": false
   },
   "outputs": [
    {
     "name": "stdout",
     "output_type": "stream",
     "text": [
      "\n",
      "Error in rowSums(sweep(x, 2, xxrow)^2) : \n",
      "  'Calloc' could not allocate memory (13220 of 16 bytes)\n"
     ]
    }
   ],
   "source": [
    "%%R \n",
    "\n",
    "library(protoclass)\n",
    "\n",
    "# Prepare x and y vars\n",
    "x = playerAggDfAllNbaAllStar[,c('advancedStats_WS_scaled', 'advancedStats_VORP_scaled')]\n",
    "y = playerAggDfAllNbaAllStar[,c('accolades_all_nba')]\n",
    "\n",
    "# Calculate distance matrix\n",
    "dxz = dist2(x, x)\n",
    "\n",
    "# Build prototype model\n",
    "kProtoModel = protoclass(dxz = dxz, y = y, eps = 2, lambda = 1/nrow(playerAggDfAllNbaAllStar))"
   ]
  }
 ],
 "metadata": {
  "kernelspec": {
   "display_name": "Python [Root]",
   "language": "python",
   "name": "Python [Root]"
  },
  "language_info": {
   "codemirror_mode": {
    "name": "ipython",
    "version": 2
   },
   "file_extension": ".py",
   "mimetype": "text/x-python",
   "name": "python",
   "nbconvert_exporter": "python",
   "pygments_lexer": "ipython2",
   "version": "2.7.11"
  }
 },
 "nbformat": 4,
 "nbformat_minor": 0
}
