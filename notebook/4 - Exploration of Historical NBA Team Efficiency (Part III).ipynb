{
 "cells": [
  {
   "cell_type": "markdown",
   "metadata": {},
   "source": [
    "# 4 - Exploration of Historical NBA Team Efficiency (Part III)\n",
    "Alright, so I was planning to tackle both rebounding and turnovers in the last post. I honestly didn't think there was that much to think about for rebounding. I stand corrected. I'm going to have to cop one of these shirts to represent my progress:\n",
    "![](https://pbs.twimg.com/media/BrYeDsyCUAEvhU3.jpg)\n",
    "\n",
    "## Turnovers\n",
    "Let's talk turnovers. These turnovers are good and go for about a buck at McDonald's:\n",
    "![](https://myrivendell.files.wordpress.com/2012/06/9927_1_17_appleturnover_1337530896.jpg)\n",
    "\n",
    "Ok, cool, let's talk about the other turnover:\n",
    "<img src = \"http://bloximages.chicago2.vip.townnews.com/heraldextra.com/content/tncms/assets/v3/editorial/6/52/6529b605-5da1-5cf3-9512-1c77ee2d1cbf/54af8dbe43866.image.jpg\" style = \"width: 400px;\"/>\n",
    "\n",
    "I honestly can't even be sure who's turnover that is in the photo. You'd have to guess the BYU guy cause he got that, you know, human reaction delay of still mentally believing the goal is in sight where in reality his world has already been crushed and the poor guy has no idea.\n",
    "\n",
    "Turnovers can happen in a few ways if I think about it:\n",
    "- Steal\n",
    "- Offensive foul\n",
    "- Violations (3 in the key, 24 second, halfcourt... etc)\n",
    "- Out of bounds\n",
    "\n",
    "It really encapsulates many aspects of basketball, both individual and team-based. For example, something as simple as a steal can have so much context. Even if we just look at passing scenarios\n",
    "- Was a pass intercepted because the defender was in the right place at the right time?\n",
    "- Was a pass intercepted because the passer sucks at passing?\n",
    "- Was a pass intercepted because the teammates weren't on the same page because they're not quite familiar with a play?\n",
    "- Was a pass intercepted because the passer thought the ref was a player somehow?\n",
    "\n",
    "Again, there is much to be desired in terms of **how** a steal developed, and that essentially goes for any turnover. Let's just take a look really quickly at raptors turnovers."
   ]
  },
  {
   "cell_type": "code",
   "execution_count": 3,
   "metadata": {
    "collapsed": false
   },
   "outputs": [
    {
     "name": "stdout",
     "output_type": "stream",
     "text": [
      "The rpy2.ipython extension is already loaded. To reload it, use:\n",
      "  %reload_ext rpy2.ipython\n"
     ]
    }
   ],
   "source": [
    "%load_ext rpy2.ipython"
   ]
  },
  {
   "cell_type": "code",
   "execution_count": 5,
   "metadata": {
    "collapsed": false
   },
   "outputs": [],
   "source": [
    "%%R\n",
    "library(ggplot2)\n",
    "library(gridExtra)\n",
    "library(scales)"
   ]
  },
  {
   "cell_type": "code",
   "execution_count": 6,
   "metadata": {
    "collapsed": true
   },
   "outputs": [],
   "source": [
    "# Load libraries & initial config\n",
    "import pandas as pd\n",
    "import numpy as np\n",
    "import boto3\n",
    "from StringIO import StringIO"
   ]
  },
  {
   "cell_type": "code",
   "execution_count": 7,
   "metadata": {
    "collapsed": true
   },
   "outputs": [
    {
     "name": "stdout",
     "output_type": "stream",
     "text": [
      "baseStats_Season             object\n",
      "perGameStats_Tm              object\n",
      "baseStats_W                   int64\n",
      "baseStats_L                   int64\n",
      "baseStats_W/L%              float64\n",
      "baseStats_SRS               float64\n",
      "baseStats_Pace              float64\n",
      "baseStats_Rel_Pace          float64\n",
      "baseStats_ORtg              float64\n",
      "baseStats_Rel_ORtg          float64\n",
      "baseStats_DRtg              float64\n",
      "baseStats_Rel_DRtg          float64\n",
      "perGameStats_Age            float64\n",
      "perGameStats_FG             float64\n",
      "perGameStats_FGA            float64\n",
      "perGameStats_FG%            float64\n",
      "perGameStats_2P             float64\n",
      "perGameStats_2PA            float64\n",
      "perGameStats_2P%            float64\n",
      "perGameStats_3P             float64\n",
      "perGameStats_3PA            float64\n",
      "perGameStats_3P%            float64\n",
      "perGameStats_FT             float64\n",
      "perGameStats_FTA            float64\n",
      "perGameStats_FT%            float64\n",
      "perGameStats_ORB            float64\n",
      "perGameStats_DRB            float64\n",
      "perGameStats_TRB            float64\n",
      "perGameStats_AST            float64\n",
      "perGameStats_STL            float64\n",
      "perGameStats_BLK            float64\n",
      "perGameStats_TOV            float64\n",
      "perGameStats_PF             float64\n",
      "perGameStats_PTS            float64\n",
      "opponentPerGameStats_FG     float64\n",
      "opponentPerGameStats_FGA    float64\n",
      "opponentPerGameStats_FG%    float64\n",
      "opponentPerGameStats_3P     float64\n",
      "opponentPerGameStats_3PA    float64\n",
      "opponentPerGameStats_3P%    float64\n",
      "opponentPerGameStats_FT     float64\n",
      "opponentPerGameStats_FTA    float64\n",
      "opponentPerGameStats_FT%    float64\n",
      "opponentPerGameStats_ORB    float64\n",
      "opponentPerGameStats_DRB    float64\n",
      "opponentPerGameStats_TRB    float64\n",
      "opponentPerGameStats_AST    float64\n",
      "opponentPerGameStats_STL    float64\n",
      "opponentPerGameStats_BLK    float64\n",
      "opponentPerGameStats_TOV    float64\n",
      "opponentPerGameStats_PF     float64\n",
      "opponentPerGameStats_PTS    float64\n",
      "season_start_year             int64\n",
      "rtg_diff                    float64\n",
      "dtype: object\n"
     ]
    }
   ],
   "source": [
    "# Retrieve team stats from S3\n",
    "teamAggDfToAnalyze = pd.read_csv('https://s3.ca-central-1.amazonaws.com/2017edmfasatb/fas_boto/data/teamAggDfToAnalyze.csv', index_col = 0)\n",
    "print teamAggDfToAnalyze.dtypes"
   ]
  },
  {
   "cell_type": "code",
   "execution_count": 19,
   "metadata": {
    "collapsed": true
   },
   "outputs": [],
   "source": [
    "def tovPrepare(team = None):\n",
    "    if team is None:\n",
    "        teamDf = teamAggDfToAnalyze\n",
    "    else:\n",
    "        teamDf = teamAggDfToAnalyze[teamAggDfToAnalyze['perGameStats_Tm'] == team]\n",
    "\n",
    "    # Prepare ORB / DRB data    \n",
    "    teamTovDf = teamDf[[\n",
    "        'season_start_year',\n",
    "        'perGameStats_TOV'\n",
    "    ]].groupby(['season_start_year']).agg({\n",
    "        'perGameStats_TOV': np.average,   # We average the percentage here because when we look at league averages, we will have more than one record per year and shot type\n",
    "    })\n",
    "    \n",
    "    teamTovDf.reset_index(inplace = True)\n",
    "    \n",
    "    return teamTovDf\n",
    "\n",
    "rapsTovDf = tovPrepare('TOR')"
   ]
  },
  {
   "cell_type": "code",
   "execution_count": 41,
   "metadata": {
    "collapsed": false,
    "scrolled": false
   },
   "outputs": [
    {
     "data": {
      "image/png": "[encoded data removed]"
     },
     "metadata": {},
     "output_type": "display_data"
    }
   ],
   "source": [
    "%%R -i rapsTovDf\n",
    "\n",
    "tovPlot <- function(tovDf, teamName, color = 'gray'){\n",
    "    # Turnovers bar\n",
    "    stackedBarStl = ggplot(\n",
    "        tovDf,\n",
    "        aes(\n",
    "            x = season_start_year,\n",
    "            y = perGameStats_TOV\n",
    "        )\n",
    "    ) + \n",
    "    geom_bar(stat = 'identity', fill = color) +\n",
    "    ggtitle(sprintf(\"%s Historical Turnovers\", teamName))\n",
    "\n",
    "    grid.arrange(stackedBarStl, ncol = 1)\n",
    "}\n",
    "\n",
    "tovPlot(rapsTovDf, 'Raptors', 'red3')"
   ]
  },
  {
   "cell_type": "markdown",
   "metadata": {},
   "source": [
    "How about league average?"
   ]
  },
  {
   "cell_type": "code",
   "execution_count": 22,
   "metadata": {
    "collapsed": true
   },
   "outputs": [],
   "source": [
    "leagueTovDf = tovPrepare()"
   ]
  },
  {
   "cell_type": "code",
   "execution_count": 42,
   "metadata": {
    "collapsed": false
   },
   "outputs": [
    {
     "data": {
      "image/png": "[encoded data removed]"
     },
     "metadata": {},
     "output_type": "display_data"
    }
   ],
   "source": [
    "%%R -i leagueTovDf\n",
    "tovPlot(leagueTovDf, 'League')"
   ]
  },
  {
   "cell_type": "markdown",
   "metadata": {},
   "source": [
    "Not too sure if there's anything too out of the blue here. We don't average anything too far off from the league average - pretty vanilla like shooting was. In fact, very much the same story: We averaged less turnovers when we had a more legitimized team, and more turnovers when we were in \"rebuilding\" phases (by the loose \"eras\" I defined back in part I of this series of efficiency posts). Let's take a look at our point guards year by year (I'm making the assumption here that turnovers are largely controlled by the point guard)\n",
    "\n",
    "- <span style=\"color:red\">**1995-1996**: Damon Stoudemire (rookie)</span>\n",
    "- <span style=\"color:red\">**1996-1997**: Damon Stoudemire</span>\n",
    "- <span style=\"color:red\">**1997-1998**: No one, really. Stoudemire was traded for Alvin Williams partway through, Chauncey Billups was acquired halfway thorugh the season but he was traded immediately after the season</span>\n",
    "- <span style=\"color:red\">**1998-1999**: Alvin Williams, also have T-Mac and VC at this point</span>\n",
    "- **1999-2000**: Alvin Williams, Muggsy Bogues\n",
    "- **2000-2001**: Alvin Williams, Chris Childs, VC\n",
    "- **2001-2002**: Alvin Williams, Chris Childs, VC\n",
    "- **2002-2003**: Alvin Williams, Lindsey Hunter, Rafer Alston, VC\n",
    "- **2003-2004**: Alvin Williams, Jalen Rose, VC\n",
    "- **2004-2005**: Alvin Williams, Jalen Rose, Rafer Alston (CB4 all star now)\n",
    "- **2005-2006**: Alvin Williams, Jose Calderon, Mike James\n",
    "- **2006-2007**: Jose Calderon, TJ Ford\n",
    "- <span style=\"color:green\">**2007-2008**: Jose Calderon, TJ Ford</span>\n",
    "- **2008-2009**: Jose Calderon\n",
    "- **2009-2010**: Jose Calderon, Jarrett Jack, DD (rookie), CB4 leaves\n",
    "- **2009-2010**: Jose Calderon, Jarrett Jack, DD\n",
    "- <span style=\"color:red\">**2010-2011**: Jose Calderon, Jerryd Bayless, Leandro Barbosa, DD</span>\n",
    "- <span style=\"color:red\">**2011-2012**: Jose Calderon, Jerryd Bayless, DD</span>\n",
    "- **2012-2013**: KLow, DD\n",
    "- **2013-2014**: KLow, DD, The General Greivis\n",
    "- <span style=\"color:green\">**2014-2015**: KLow, DD, The General, 6Man Lou Will</span>\n",
    "- <span style=\"color:green\">**2015-2016**: KLow, DD, Norman Powell, Corey Jo</span>\n",
    "\n",
    "\n",
    "Hmm. It's not capturing the whole story, and it certainly doesn't correlate to point guards in particular, but some interesting things of note:\n",
    "- When the raptors became an expansion team, it took a few years to get the turnovers down handing the reigns over to a rookie Damon Stoudemire with little support\n",
    "- We found at least a bit of our groove in the Alvin Williams era, where his guards changed from time to time but him and VC seemed to be able to hold the turnovers to a sub league average level\n",
    "- After CB4 left, we had a few seasons of turnovers with Calderon running the point and a new guard in Jerryd Bayless\n",
    "- KLow comes along and saves everything as DD becomes Kobe-lite\n",
    "\n",
    "\n",
    "Perhaps the turnovers have less to do with the point guard himself, but more to do with whatever star player is consuming the possessions. We see that essentially the whole time VC and CB4 are in their \"primes\", we've been able to keep the turnovers down. Today, we have **TWO** all stars in KLow and DD, and the turnovers have been kept low as well."
   ]
  },
  {
   "cell_type": "markdown",
   "metadata": {},
   "source": [
    "Let's take a look at Rockets and Spurs again for fun. I assume they are two extremes today."
   ]
  },
  {
   "cell_type": "code",
   "execution_count": 53,
   "metadata": {
    "collapsed": true
   },
   "outputs": [],
   "source": [
    "rocketsTovDf = tovPrepare('HOU')"
   ]
  },
  {
   "cell_type": "code",
   "execution_count": 55,
   "metadata": {
    "collapsed": false
   },
   "outputs": [
    {
     "data": {
      "image/png": "[encoded data removed]"
     },
     "metadata": {},
     "output_type": "display_data"
    }
   ],
   "source": [
    "%%R -i rocketsTovDf\n",
    "tovPlot(rocketsTovDf, 'Rockets', 'red2')"
   ]
  },
  {
   "cell_type": "markdown",
   "metadata": {},
   "source": [
    "#HARDENERA"
   ]
  },
  {
   "cell_type": "code",
   "execution_count": 57,
   "metadata": {
    "collapsed": true
   },
   "outputs": [],
   "source": [
    "spursTovDf = tovPrepare('SAS')"
   ]
  },
  {
   "cell_type": "code",
   "execution_count": 59,
   "metadata": {
    "collapsed": false
   },
   "outputs": [
    {
     "data": {
      "image/png": "[encoded data removed]"
     },
     "metadata": {},
     "output_type": "display_data"
    }
   ],
   "source": [
    "%%R -i spursTovDf\n",
    "tovPlot(spursTovDf, 'Spurs', 'black')"
   ]
  },
  {
   "cell_type": "markdown",
   "metadata": {},
   "source": [
    "What stands out  more to me here is not how low the spurs turnovers are, but how the raptors are keeping their turnovers as low as the spurs! Just for curiosity, I want to see who has the lowest turnovers this year:"
   ]
  },
  {
   "cell_type": "code",
   "execution_count": 73,
   "metadata": {
    "collapsed": false
   },
   "outputs": [],
   "source": [
    "tov20162017AllTeams = teamAggDfToAnalyze[teamAggDfToAnalyze['season_start_year'] == 2016][[\n",
    "    'season_start_year',\n",
    "    'perGameStats_TOV',\n",
    "    'perGameStats_Tm'\n",
    "]].sort_values('perGameStats_TOV', ascending = False)"
   ]
  },
  {
   "cell_type": "code",
   "execution_count": 83,
   "metadata": {
    "collapsed": false
   },
   "outputs": [
    {
     "data": {
      "image/png": "[encoded data removed]"
     },
     "metadata": {},
     "output_type": "display_data"
    }
   ],
   "source": [
    "%%R -i tov20162017AllTeams -w 900 -u px\n",
    "\n",
    "ggplot(\n",
    "    tov20162017AllTeams,\n",
    "    aes(\n",
    "        x = reorder(perGameStats_Tm, -perGameStats_TOV),\n",
    "        y = perGameStats_TOV\n",
    "    )\n",
    ") +\n",
    "geom_bar(stat = 'identity') +\n",
    "geom_text(aes(label = perGameStats_TOV), vjust = -1) +\n",
    "theme(axis.title.x=element_blank())"
   ]
  },
  {
   "cell_type": "markdown",
   "metadata": {},
   "source": [
    "Looking at ORB and TOV... I know that they matter, but... do they matter? Looking at this chart, I can see the point made for if you were (wait wtf, DET, DAL, and CHO lead the league in least turnovers??) Detroit vs let's say Philly, you've just had ~5 possessions taken away from you where you could've gotten an easy basket. But if you are Philly, would you really have gotten an easy basket anyways? That's not even a knock at Philly, that's just saying, not every single turnover would've taken away a score, right? If I'm playing pickup and have the ball picked from my pocket, it's probably a less than 50% chance that I was going to score anyways. I don't want to make it sound like I then obviously shouldn't even try to score, but I guess my point is that it kinda depends on other factors as well. If we then look at HOU, the 5th worst team in TOV / G, and TOR, the 4th best team in TOV / G, the difference only comes out to 2.5 TOV / G. What are the raptors really doing with those 2.5 saved possessions? In fact, the rockets have a much better record than the raptors.\n",
    "\n",
    "On the other hand, there's other aspects of the game that the turnover affects as well, I suppose. If I have the ball picked from me and they then go on to score a fast break point, that's a double whammy and they've just decreased my ORtg and increased their own in one fell swoop. Some of the worst etams in the league today, PHI, BRK, are dead last in this metric, but maybe it's how they are turning it over, and perhaps everything around it as well... perhaps they are poor in TOV, ORB, and shooting, and defense all together!\n",
    "\n",
    "Still, there really were no conclusions out of my rebounding and turnover exercises. I think, once again...\n",
    "<img src = \"http://i2.kym-cdn.com/photos/images/facebook/000/531/557/a88.jpg\" style = \"width: 400px;\"/>"
   ]
  },
  {
   "cell_type": "code",
   "execution_count": null,
   "metadata": {
    "collapsed": true
   },
   "outputs": [],
   "source": []
  }
 ],
 "metadata": {
  "anaconda-cloud": {},
  "kernelspec": {
   "display_name": "Python [Root]",
   "language": "python",
   "name": "Python [Root]"
  },
  "language_info": {
   "codemirror_mode": {
    "name": "ipython",
    "version": 2
   },
   "file_extension": ".py",
   "mimetype": "text/x-python",
   "name": "python",
   "nbconvert_exporter": "python",
   "pygments_lexer": "ipython2",
   "version": "2.7.11"
  }
 },
 "nbformat": 4,
 "nbformat_minor": 0
}
